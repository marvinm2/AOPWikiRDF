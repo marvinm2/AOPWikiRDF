{
 "cells": [
  {
   "cell_type": "code",
   "execution_count": 1,
   "metadata": {},
   "outputs": [
    {
     "name": "stdout",
     "output_type": "stream",
     "text": [
      "Requirement already up-to-date: pip in /home/marvin.martens/anaconda3/lib/python3.7/site-packages (20.1.1)\n",
      "Requirement already satisfied: watermark in /home/marvin.martens/anaconda3/lib/python3.7/site-packages (1.8.1)\n",
      "Requirement already satisfied: ipython in /home/marvin.martens/anaconda3/lib/python3.7/site-packages (from watermark) (7.6.1)\n",
      "Requirement already satisfied: traitlets>=4.2 in /home/marvin.martens/anaconda3/lib/python3.7/site-packages (from ipython->watermark) (4.3.2)\n",
      "Requirement already satisfied: setuptools>=18.5 in /home/marvin.martens/anaconda3/lib/python3.7/site-packages (from ipython->watermark) (41.0.1)\n",
      "Requirement already satisfied: pygments in /home/marvin.martens/anaconda3/lib/python3.7/site-packages (from ipython->watermark) (2.4.2)\n",
      "Requirement already satisfied: jedi>=0.10 in /home/marvin.martens/anaconda3/lib/python3.7/site-packages (from ipython->watermark) (0.13.3)\n",
      "Requirement already satisfied: backcall in /home/marvin.martens/anaconda3/lib/python3.7/site-packages (from ipython->watermark) (0.1.0)\n",
      "Requirement already satisfied: prompt-toolkit<2.1.0,>=2.0.0 in /home/marvin.martens/anaconda3/lib/python3.7/site-packages (from ipython->watermark) (2.0.9)\n",
      "Requirement already satisfied: decorator in /home/marvin.martens/anaconda3/lib/python3.7/site-packages (from ipython->watermark) (4.4.0)\n",
      "Requirement already satisfied: pickleshare in /home/marvin.martens/anaconda3/lib/python3.7/site-packages (from ipython->watermark) (0.7.5)\n",
      "Requirement already satisfied: pexpect; sys_platform != \"win32\" in /home/marvin.martens/anaconda3/lib/python3.7/site-packages (from ipython->watermark) (4.7.0)\n",
      "Requirement already satisfied: six in /home/marvin.martens/anaconda3/lib/python3.7/site-packages (from traitlets>=4.2->ipython->watermark) (1.12.0)\n",
      "Requirement already satisfied: ipython-genutils in /home/marvin.martens/anaconda3/lib/python3.7/site-packages (from traitlets>=4.2->ipython->watermark) (0.2.0)\n",
      "Requirement already satisfied: parso>=0.3.0 in /home/marvin.martens/anaconda3/lib/python3.7/site-packages (from jedi>=0.10->ipython->watermark) (0.5.0)\n",
      "Requirement already satisfied: wcwidth in /home/marvin.martens/anaconda3/lib/python3.7/site-packages (from prompt-toolkit<2.1.0,>=2.0.0->ipython->watermark) (0.1.7)\n",
      "Requirement already satisfied: ptyprocess>=0.5 in /home/marvin.martens/anaconda3/lib/python3.7/site-packages (from pexpect; sys_platform != \"win32\"->ipython->watermark) (0.6.0)\n"
     ]
    }
   ],
   "source": [
    "import sys\n",
    "\n",
    "!{sys.executable} -m pip install --upgrade pip \n",
    "!{sys.executable} -m pip install watermark\n",
    "\n",
    "try:\n",
    "    from SPARQLWrapper import SPARQLWrapper, JSON\n",
    "except ImportError:\n",
    "    !{sys.executable} -m pip install sparqlwrapper\n",
    "    from SPARQLWrapper import SPARQLWrapper, JSON\n",
    "\n",
    "try:\n",
    "    import pandas as pd\n",
    "except ImportError:\n",
    "    !{sys.executable} -m pip install pandas\n",
    "    import pandas as pd\n",
    "pd.set_option('display.max_colwidth', -1)"
   ]
  },
  {
   "cell_type": "code",
   "execution_count": 2,
   "metadata": {},
   "outputs": [],
   "source": [
    "def intersection(lst1, lst2): \n",
    "    lst3 = [value for value in lst1 if value in lst2] \n",
    "    return lst3 "
   ]
  },
  {
   "cell_type": "code",
   "execution_count": 3,
   "metadata": {},
   "outputs": [],
   "source": [
    "AOPWikiSPARQL = SPARQLWrapper(\"http://localhost:8890/sparql/\")\n",
    "AOPWikiSPARQL.setReturnFormat(JSON) "
   ]
  },
  {
   "cell_type": "code",
   "execution_count": 4,
   "metadata": {},
   "outputs": [
    {
     "name": "stdout",
     "output_type": "stream",
     "text": [
      "The AOP-Wiki RDF has 98557 triples\n"
     ]
    }
   ],
   "source": [
    "sparqlquery = '''select (COUNT(distinct *) as ?Triples)  where {?s ?p ?o}'''\n",
    "AOPWikiSPARQL.setQuery(sparqlquery)\n",
    "results = AOPWikiSPARQL.query().convert()\n",
    "\n",
    "for result in results[\"results\"][\"bindings\"]:\n",
    "    x = result[\"Triples\"][\"value\"]\n",
    "\n",
    "print(\"The AOP-Wiki RDF has \" + str(x) + \" triples\")"
   ]
  },
  {
   "cell_type": "code",
   "execution_count": 5,
   "metadata": {},
   "outputs": [
    {
     "name": "stdout",
     "output_type": "stream",
     "text": [
      "The AOP-Wiki RDF has 13414 subjects\n",
      "The AOP-Wiki RDF has 158 predicates\n",
      "The AOP-Wiki RDF has 47759 objects\n"
     ]
    }
   ],
   "source": [
    "l = ['subject','predicate','object']\n",
    "for item in l:\n",
    "    sparqlquery = '''select (COUNT(distinct ?''' + item + ''') as ?Entity)  where {?subject ?predicate ?object}'''\n",
    "    AOPWikiSPARQL.setQuery(sparqlquery)\n",
    "    results = AOPWikiSPARQL.query().convert()\n",
    "\n",
    "    for result in results[\"results\"][\"bindings\"]:\n",
    "        x = result[\"Entity\"][\"value\"]\n",
    "\n",
    "    print(\"The AOP-Wiki RDF has \" + str(x) + \" \" + item + \"s\")"
   ]
  },
  {
   "cell_type": "code",
   "execution_count": 6,
   "metadata": {},
   "outputs": [
    {
     "name": "stdout",
     "output_type": "stream",
     "text": [
      "The AOP-Wiki RDF has 0 subjects with the AOP Ontology\n",
      "The AOP-Wiki RDF has 8022 predicates with the AOP Ontology\n",
      "The AOP-Wiki RDF has 2739 objects with the AOP Ontology\n"
     ]
    }
   ],
   "source": [
    "l = ['subject','predicate','object']\n",
    "for item in l:\n",
    "    sparqlquery = '''select (COUNT(?''' + item + ''') as ?Entity)  where {?subject ?predicate ?object. FILTER regex(?''' + item + ''', \"http://aopkb.org/aop_ontology#\")}'''\n",
    "    AOPWikiSPARQL.setQuery(sparqlquery)\n",
    "    results = AOPWikiSPARQL.query().convert()\n",
    "\n",
    "    for result in results[\"results\"][\"bindings\"]:\n",
    "        x = result[\"Entity\"][\"value\"]\n",
    "\n",
    "    print(\"The AOP-Wiki RDF has \" + str(x) + \" \" + item + \"s with the AOP Ontology\")"
   ]
  },
  {
   "cell_type": "code",
   "execution_count": 7,
   "metadata": {},
   "outputs": [
    {
     "name": "stdout",
     "output_type": "stream",
     "text": [
      "The AOP-Wiki RDF has 0 distinct subject annotations with the AOP Ontology\n",
      "The AOP-Wiki RDF has 12 distinct predicate annotations with the AOP Ontology\n",
      "The AOP-Wiki RDF has 5 distinct object annotations with the AOP Ontology\n"
     ]
    }
   ],
   "source": [
    "l = ['subject','predicate','object']\n",
    "for item in l:\n",
    "    sparqlquery = '''select (COUNT(DISTINCT ?''' + item + ''') as ?Entity)  where {?subject ?predicate ?object. FILTER regex(?''' + item + ''', \"http://aopkb.org/aop_ontology#\")}'''\n",
    "    AOPWikiSPARQL.setQuery(sparqlquery)\n",
    "    results = AOPWikiSPARQL.query().convert()\n",
    "\n",
    "    for result in results[\"results\"][\"bindings\"]:\n",
    "        x = result[\"Entity\"][\"value\"]\n",
    "\n",
    "    print(\"The AOP-Wiki RDF has \" + str(x) + \" distinct \" + item + \" annotations with the AOP Ontology\")"
   ]
  },
  {
   "cell_type": "code",
   "execution_count": 8,
   "metadata": {},
   "outputs": [
    {
     "name": "stdout",
     "output_type": "stream",
     "text": [
      "The AOPs in AOP-Wiki RDF have 25 distinct properties\n"
     ]
    }
   ],
   "source": [
    "sparqlquery = '''select distinct ?p where {?s ?p ?o; a aopo:AdverseOutcomePathway}'''\n",
    "AOPWikiSPARQL.setQuery(sparqlquery)\n",
    "results = AOPWikiSPARQL.query().convert()\n",
    "y = []\n",
    "for result in results[\"results\"][\"bindings\"]:\n",
    "    y.append(result[\"p\"][\"value\"])\n",
    "\n",
    "print(\"The AOPs in AOP-Wiki RDF have \" + str(len(y)) + \" distinct properties\")"
   ]
  },
  {
   "cell_type": "code",
   "execution_count": 9,
   "metadata": {},
   "outputs": [
    {
     "name": "stdout",
     "output_type": "stream",
     "text": [
      "The AOP-Wiki RDF has 280 AOPs with the predicate: http://www.w3.org/1999/02/22-rdf-syntax-ns#type\n",
      "The AOP-Wiki RDF has 280 AOPs with the predicate: http://purl.org/dc/terms/created\n",
      "The AOP-Wiki RDF has 280 AOPs with the predicate: http://purl.org/dc/terms/modified\n",
      "The AOP-Wiki RDF has 280 AOPs with the predicate: http://www.w3.org/2000/01/rdf-schema#label\n",
      "The AOP-Wiki RDF has 138 AOPs with the predicate: http://purl.org/dc/elements/1.1/description\n",
      "The AOP-Wiki RDF has 280 AOPs with the predicate: http://purl.org/dc/elements/1.1/identifier\n",
      "The AOP-Wiki RDF has 130 AOPs with the predicate: http://aopkb.org/aop_ontology#LifeStageContext\n",
      "The AOP-Wiki RDF has 76 AOPs with the predicate: http://aopkb.org/aop_ontology#AopContext\n",
      "The AOP-Wiki RDF has 252 AOPs with the predicate: http://aopkb.org/aop_ontology#has_adverse_outcome\n",
      "The AOP-Wiki RDF has 64 AOPs with the predicate: http://aopkb.org/aop_ontology#has_evidence\n",
      "The AOP-Wiki RDF has 263 AOPs with the predicate: http://aopkb.org/aop_ontology#has_key_event\n",
      "The AOP-Wiki RDF has 240 AOPs with the predicate: http://aopkb.org/aop_ontology#has_key_event_relationship\n",
      "The AOP-Wiki RDF has 235 AOPs with the predicate: http://aopkb.org/aop_ontology#has_molecular_initiating_event\n",
      "The AOP-Wiki RDF has 78 AOPs with the predicate: http://ncicb.nci.nih.gov/xml/owl/EVS/Thesaurus.owl#C25217\n",
      "The AOP-Wiki RDF has 56 AOPs with the predicate: http://ncicb.nci.nih.gov/xml/owl/EVS/Thesaurus.owl#C25725\n",
      "The AOP-Wiki RDF has 66 AOPs with the predicate: http://ncicb.nci.nih.gov/xml/owl/EVS/Thesaurus.owl#C48192\n",
      "The AOP-Wiki RDF has 109 AOPs with the predicate: http://ncicb.nci.nih.gov/xml/owl/EVS/Thesaurus.owl#C54571\n",
      "The AOP-Wiki RDF has 141 AOPs with the predicate: http://purl.obolibrary.org/obo/PATO_0000047\n",
      "The AOP-Wiki RDF has 227 AOPs with the predicate: http://purl.org/dc/elements/1.1/creator\n",
      "The AOP-Wiki RDF has 280 AOPs with the predicate: http://purl.org/dc/elements/1.1/source\n",
      "The AOP-Wiki RDF has 280 AOPs with the predicate: http://purl.org/dc/elements/1.1/title\n",
      "The AOP-Wiki RDF has 157 AOPs with the predicate: http://purl.org/dc/terms/abstract\n",
      "The AOP-Wiki RDF has 280 AOPs with the predicate: http://purl.org/dc/terms/alternative\n",
      "The AOP-Wiki RDF has 280 AOPs with the predicate: http://xmlns.com/foaf/0.1/page\n",
      "The AOP-Wiki RDF has 59 AOPs with the predicate: http://edamontology.org/operation_3799\n"
     ]
    }
   ],
   "source": [
    "for item in y:\n",
    "    sparqlquery = '''select (COUNT(DISTINCT ?subject) as ?Entity)  where {?subject <''' + item + '''> ?object; a aopo:AdverseOutcomePathway.}'''\n",
    "    AOPWikiSPARQL.setQuery(sparqlquery)\n",
    "    results = AOPWikiSPARQL.query().convert()\n",
    "\n",
    "    for result in results[\"results\"][\"bindings\"]:\n",
    "        x = result[\"Entity\"][\"value\"]\n",
    "\n",
    "    print(\"The AOP-Wiki RDF has \" + str(x) + \" AOPs with the predicate: \" + item)"
   ]
  },
  {
   "cell_type": "code",
   "execution_count": null,
   "metadata": {},
   "outputs": [],
   "source": []
  },
  {
   "cell_type": "code",
   "execution_count": null,
   "metadata": {},
   "outputs": [],
   "source": []
  },
  {
   "cell_type": "code",
   "execution_count": 10,
   "metadata": {},
   "outputs": [
    {
     "name": "stdout",
     "output_type": "stream",
     "text": [
      "The AOP-Wiki RDF has 280 Subjects of type: aopo:AdverseOutcomePathway\n",
      "The AOP-Wiki RDF has 1080 Subjects of type: aopo:KeyEvent\n",
      "The AOP-Wiki RDF has 1259 Subjects of type: aopo:KeyEventRelationship\n",
      "The AOP-Wiki RDF has 88 Subjects of type: ncbitaxon:131567\n",
      "The AOP-Wiki RDF has 0 Subjects of type: go:0008150\n",
      "The AOP-Wiki RDF has 358 Subjects of type: pato:PATO_0001241\n",
      "The AOP-Wiki RDF has 0 Subjects of type: pato:PATO_0000001\n",
      "The AOP-Wiki RDF has 59 Subjects of type: aopo:CellTypeContext\n",
      "The AOP-Wiki RDF has 61 Subjects of type: aopo:OrganContext\n",
      "The AOP-Wiki RDF has 293 Subjects of type: cheminf:CHEMINF_000000\n"
     ]
    }
   ],
   "source": [
    "types = ['aopo:AdverseOutcomePathway','aopo:KeyEvent','aopo:KeyEventRelationship','ncbitaxon:131567','go:0008150','pato:PATO_0001241','pato:PATO_0000001','aopo:CellTypeContext','aopo:OrganContext','cheminf:CHEMINF_000000'] #,'ncit:C54571'\n",
    "for item in types:\n",
    "    sparqlquery = '''select (COUNT(DISTINCT ?subject) as ?Entity)  where {?subject a ''' + item + '''.}'''\n",
    "    AOPWikiSPARQL.setQuery(sparqlquery)\n",
    "    results = AOPWikiSPARQL.query().convert()\n",
    "\n",
    "    for result in results[\"results\"][\"bindings\"]:\n",
    "        x = result[\"Entity\"][\"value\"]\n",
    "\n",
    "    print(\"The AOP-Wiki RDF has \" + str(x) + \" Subjects of type: \" + item)"
   ]
  },
  {
   "cell_type": "code",
   "execution_count": 11,
   "metadata": {},
   "outputs": [
    {
     "name": "stdout",
     "output_type": "stream",
     "text": [
      "The AOP-Wiki RDF has 57076 subjects with a persistent identifier\n",
      "The AOP-Wiki RDF has 0 predicates with a persistent identifier\n",
      "The AOP-Wiki RDF has 20096 objects with a persistent identifier\n"
     ]
    }
   ],
   "source": [
    "l = ['subject','predicate','object']\n",
    "for item in l:\n",
    "    sparqlquery = '''select (COUNT(?''' + item + ''') as ?Entity)  where {?subject ?predicate ?object. FILTER regex(?''' + item + ''', \"http://identifiers.org/\")}'''\n",
    "    AOPWikiSPARQL.setQuery(sparqlquery)\n",
    "    results = AOPWikiSPARQL.query().convert()\n",
    "\n",
    "    for result in results[\"results\"][\"bindings\"]:\n",
    "        x = result[\"Entity\"][\"value\"]\n",
    "\n",
    "    print(\"The AOP-Wiki RDF has \" + str(x) + \" \" + item + \"s with a persistent identifier\")"
   ]
  },
  {
   "cell_type": "code",
   "execution_count": 12,
   "metadata": {},
   "outputs": [
    {
     "name": "stdout",
     "output_type": "stream",
     "text": [
      "BridgeDb has mapped chemicals with identifiers from 6 distinct databases\n"
     ]
    }
   ],
   "source": [
    "sparqlquery = '''select distinct ?type where {?s a cheminf:CHEMINF_000000; skos:exactMatch ?o. ?o a ?type}'''\n",
    "AOPWikiSPARQL.setQuery(sparqlquery)\n",
    "results = AOPWikiSPARQL.query().convert()\n",
    "y = []\n",
    "for result in results[\"results\"][\"bindings\"]:\n",
    "    y.append(result[\"type\"][\"value\"])\n",
    "\n",
    "print(\"BridgeDb has mapped chemicals with identifiers from \" + str(len(y)) + \" distinct databases\")"
   ]
  },
  {
   "cell_type": "code",
   "execution_count": 13,
   "metadata": {},
   "outputs": [
    {
     "name": "stdout",
     "output_type": "stream",
     "text": [
      "The AOP-Wiki RDF has 712 chemicals mapped using BridgeDb of type: http://semanticscience.org/resource/CHEMINF_000407\n",
      "The AOP-Wiki RDF has 403 chemicals mapped using BridgeDb of type: http://semanticscience.org/resource/CHEMINF_000412\n",
      "The AOP-Wiki RDF has 303 chemicals mapped using BridgeDb of type: http://semanticscience.org/resource/CHEMINF_000405\n",
      "The AOP-Wiki RDF has 319 chemicals mapped using BridgeDb of type: http://semanticscience.org/resource/CHEMINF_000408\n",
      "The AOP-Wiki RDF has 24 chemicals mapped using BridgeDb of type: http://semanticscience.org/resource/CHEMINF_000564\n",
      "The AOP-Wiki RDF has 293 chemicals mapped using BridgeDb of type: http://semanticscience.org/resource/CHEMINF_000567\n"
     ]
    }
   ],
   "source": [
    "for item in y:\n",
    "    sparqlquery = '''select (COUNT(?subject) as ?Entity)  where {?subject a <''' + item + '''>}'''\n",
    "    AOPWikiSPARQL.setQuery(sparqlquery)\n",
    "    results = AOPWikiSPARQL.query().convert()\n",
    "\n",
    "    for result in results[\"results\"][\"bindings\"]:\n",
    "        x = result[\"Entity\"][\"value\"]\n",
    "\n",
    "    print(\"The AOP-Wiki RDF has \" + str(x) + \" chemicals mapped using BridgeDb of type: \" + item)"
   ]
  },
  {
   "cell_type": "code",
   "execution_count": 20,
   "metadata": {},
   "outputs": [
    {
     "name": "stdout",
     "output_type": "stream",
     "text": [
      "The AOP-Wiki RDF has 163 Key Events that are annotated with 124 Protein Ontology annotation, which are mapped to gene identifiers from 4 distinct databases\n"
     ]
    }
   ],
   "source": [
    "sparqlquery = '''select distinct ?s0 ?s ?type where {?s0 a aopo:KeyEvent; pato:PATO_0001241 ?s. ?s a pato:PATO_0001241; skos:exactMatch ?o. ?o a ?type}'''\n",
    "AOPWikiSPARQL.setQuery(sparqlquery)\n",
    "results = AOPWikiSPARQL.query().convert()\n",
    "y = []\n",
    "x = []\n",
    "z = []\n",
    "for result in results[\"results\"][\"bindings\"]:\n",
    "    y.append(result[\"type\"][\"value\"])\n",
    "    x.append(result[\"s\"][\"value\"])\n",
    "    z.append(result[\"s0\"][\"value\"])\n",
    "y = set(y)\n",
    "x = set(x)\n",
    "z = set(z)\n",
    "print(\"The AOP-Wiki RDF has \" + str(len(z)) + \" Key Events that are annotated with \" + str(len(x)) + \" Protein Ontology annotation, which are mapped to gene identifiers from \" + str(len(y)) + \" distinct databases\")"
   ]
  },
  {
   "cell_type": "code",
   "execution_count": 21,
   "metadata": {},
   "outputs": [
    {
     "name": "stdout",
     "output_type": "stream",
     "text": [
      "The AOP-Wiki RDF has 32 genes mapped to Protein Ontology terms for database identifier type: http://edamontology.org/data_1027\n",
      "The AOP-Wiki RDF has 443 genes mapped to Protein Ontology terms for database identifier type: http://edamontology.org/data_2291\n",
      "The AOP-Wiki RDF has 95 genes mapped to Protein Ontology terms for database identifier type: http://edamontology.org/data_2298\n",
      "The AOP-Wiki RDF has 570 genes mapped to Protein Ontology terms for database identifier type: http://edamontology.org/data_1025\n"
     ]
    }
   ],
   "source": [
    "for item in y:\n",
    "    sparqlquery = '''select (COUNT(distinct ?s2) as ?Entity)  where {?s a pato:PATO_0001241; skos:exactMatch ?s2. ?s2 ?p ?o; a <''' + item + '''>}'''\n",
    "    AOPWikiSPARQL.setQuery(sparqlquery)\n",
    "    results = AOPWikiSPARQL.query().convert()\n",
    "\n",
    "    for result in results[\"results\"][\"bindings\"]:\n",
    "        x = result[\"Entity\"][\"value\"]\n",
    "\n",
    "    print(\"The AOP-Wiki RDF has \" + str(x) + \" genes mapped to Protein Ontology terms for database identifier type: \" + item)"
   ]
  },
  {
   "cell_type": "code",
   "execution_count": null,
   "metadata": {},
   "outputs": [],
   "source": [
    "\n"
   ]
  },
  {
   "cell_type": "code",
   "execution_count": 25,
   "metadata": {},
   "outputs": [
    {
     "name": "stdout",
     "output_type": "stream",
     "text": [
      "The AOP-Wiki RDF has a total of 284 distinct genes mapped to 132 Key Event descriptions\n",
      "The AOP-Wiki RDF has a total of 709 distinct genes mapped to 294 Key Event Relationship descriptions\n",
      "There are 197 genes mapped at least once to both Key Events and Key Event Relationships\n",
      "There are 796 unique genes mapped to Key Events and/or Key Event Relationships\n"
     ]
    }
   ],
   "source": [
    "sparqlquery = '''select distinct ?s ?s2 where {?s a aopo:KeyEvent; edam:data_1025 ?s2.}'''\n",
    "AOPWikiSPARQL.setQuery(sparqlquery)\n",
    "results = AOPWikiSPARQL.query().convert()\n",
    "y = []\n",
    "z = []\n",
    "for result in results[\"results\"][\"bindings\"]:\n",
    "    y.append(result[\"s2\"][\"value\"])\n",
    "    z.append(result[\"s\"][\"value\"])\n",
    "y = set(y)\n",
    "z = set(z)\n",
    "\n",
    "sparqlquery = '''select distinct ?s ?s2 where {?s a aopo:KeyEventRelationship; edam:data_1025 ?s2.}'''\n",
    "AOPWikiSPARQL.setQuery(sparqlquery)\n",
    "results = AOPWikiSPARQL.query().convert()\n",
    "w = []\n",
    "x = []\n",
    "for result in results[\"results\"][\"bindings\"]:\n",
    "    w.append(result[\"s2\"][\"value\"])\n",
    "    x.append(result[\"s\"][\"value\"])\n",
    "w = set(w)\n",
    "x = set(x)\n",
    "\n",
    "print(\"The AOP-Wiki RDF has a total of \" + str(len(y)) + \" distinct genes mapped to \" + str(len(z)) + \" Key Event descriptions\")\n",
    "print(\"The AOP-Wiki RDF has a total of \" + str(len(w)) + \" distinct genes mapped to \" + str(len(x)) + \" Key Event Relationship descriptions\")\n",
    "print(\"There are \" + str(len(intersection(w,y))) + \" genes mapped at least once to both Key Events and Key Event Relationships\")\n",
    "print(\"There are \" + str(len(w|y)) + \" unique genes mapped to Key Events and/or Key Event Relationships\")"
   ]
  },
  {
   "cell_type": "code",
   "execution_count": null,
   "metadata": {},
   "outputs": [],
   "source": []
  },
  {
   "cell_type": "code",
   "execution_count": null,
   "metadata": {},
   "outputs": [],
   "source": []
  },
  {
   "cell_type": "code",
   "execution_count": null,
   "metadata": {},
   "outputs": [],
   "source": []
  },
  {
   "cell_type": "code",
   "execution_count": null,
   "metadata": {},
   "outputs": [],
   "source": []
  }
 ],
 "metadata": {
  "kernelspec": {
   "display_name": "Python 3",
   "language": "python",
   "name": "python3"
  },
  "language_info": {
   "codemirror_mode": {
    "name": "ipython",
    "version": 3
   },
   "file_extension": ".py",
   "mimetype": "text/x-python",
   "name": "python",
   "nbconvert_exporter": "python",
   "pygments_lexer": "ipython3",
   "version": "3.7.3"
  }
 },
 "nbformat": 4,
 "nbformat_minor": 2
}

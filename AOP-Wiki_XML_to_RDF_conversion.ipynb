{
 "cells": [
  {
   "cell_type": "markdown",
   "metadata": {},
   "source": [
    "# <b>AOP-Wiki XML conversion to RDF</b>\n",
    "Author: Marvin Martens\n",
    "\n",
    "The [AOP-Wiki](https://aopwiki.org/) is the central repository for qualitative descriptions of AOPs, and releases its database every three months in XML format. This Jupyter notebook makes the conversion of the AOP-Wiki XML into RDF with Turtle (ttl) syntax. \n",
    "\n",
    "It downloads and parses the AOP-Wiki XML file with the ElementTree XML API Python library, and stores all its components in nested dictionaries for the all subjects which form the basis of the existing AOP-Wiki, being the AOPs, KEs,  KERs,  stressors,  chemicals,  taxonomy,  cell-terms,  organ-terms,  and  the  KE  components, which comprise of Biological Processes (BPs),  Biological Objects (BOs) and Biological Actions (BAs).  During the filling of those dictionaries, semantic annotations are being added for  the  subjects,  the  relationship  (predicate)  to  their  property  (object),  and  for  the  properties themselves when meant to represent an identifier or ontology term.\n",
    "\n",
    "<img src=\"Overview AOP-Wiki RDF.svg\" style=\"width: 650px;\">"
   ]
  },
  {
   "cell_type": "markdown",
   "metadata": {},
   "source": [
    "## <b>Step #1: imports</b>\n",
    "First, all required Python libraries are imported. It will `pip install` libraries if the imports are not found on the system."
   ]
  },
  {
   "cell_type": "code",
   "execution_count": 61,
   "metadata": {},
   "outputs": [
    {
     "name": "stdout",
     "output_type": "stream",
     "text": [
      "Requirement already satisfied: pip in /home/marvin/anaconda3/lib/python3.12/site-packages (25.0.1)\n"
     ]
    }
   ],
   "source": [
    "import sys\n",
    "\n",
    "!{sys.executable} -m pip install --upgrade pip \n",
    "from xml.etree.ElementTree import parse\n",
    "import re\n",
    "TAG_RE = re.compile(r'<[^>]+>')\n",
    "import requests\n",
    "import datetime\n",
    "import urllib\n",
    "import gzip\n",
    "import shutil\n",
    "import os\n",
    "import stat\n",
    "import time\n",
    "import pandas as pd\n"
   ]
  },
  {
   "cell_type": "code",
   "execution_count": 62,
   "metadata": {},
   "outputs": [
    {
     "name": "stdout",
     "output_type": "stream",
     "text": [
      "/bin/bash: line 1: pipreqsnb: command not found\n"
     ]
    }
   ],
   "source": [
    "!pipreqsnb . "
   ]
  },
  {
   "cell_type": "markdown",
   "metadata": {},
   "source": [
    "This notebook includes the mapping of identifiers for chemicals and genes. To make this possible, the URL to the BridgeDb service should be defined in the `bridgedb` variable, and include the `/Human/`. The quickest way to execute the code is by using a local BridgeDb service launched with the BridgeDb Docker image using the [instructions](https://github.com/bridgedb/docker). Alternatively, the live web version can be used by defining the `bridgedb` variable as 'https://webservice.bridgedb.org/Human/'."
   ]
  },
  {
   "cell_type": "code",
   "execution_count": 63,
   "metadata": {},
   "outputs": [],
   "source": [
    "bridgedb = 'https://webservice.bridgedb.org/Human/'#'http://localhost:8180/Human/'"
   ]
  },
  {
   "cell_type": "markdown",
   "metadata": {},
   "source": [
    "## <b>Step #2: Getting the AOP-Wiki XML</b>\n",
    "Next, the last version of the AOP-Wiki XML is defined in the `aopwikixmlfilename` variable, which can be found in the [download page of the AOP-Wiki](https://aopwiki.org/downloads/). This file is downloaded, unzipped, and opened, after which the ElementTree XML API parses it, making it ready for extracting its contents from the `root`."
   ]
  },
  {
   "cell_type": "code",
   "execution_count": 64,
   "metadata": {},
   "outputs": [
    {
     "name": "stdout",
     "output_type": "stream",
     "text": [
      "Today's date: 2025-02-11\n"
     ]
    }
   ],
   "source": [
    "from datetime import date\n",
    "\n",
    "today = date.today()\n",
    "print(\"Today's date:\", today)"
   ]
  },
  {
   "cell_type": "code",
   "execution_count": 65,
   "metadata": {},
   "outputs": [
    {
     "name": "stderr",
     "output_type": "stream",
     "text": [
      "/home/marvin/anaconda3/lib/python3.12/site-packages/urllib3/connectionpool.py:1099: InsecureRequestWarning: Unverified HTTPS request is being made to host 'aopwiki.org'. Adding certificate verification is strongly advised. See: https://urllib3.readthedocs.io/en/latest/advanced-usage.html#tls-warnings\n",
      "  warnings.warn(\n"
     ]
    }
   ],
   "source": [
    "aopwikixmlfilename = 'aop-wiki-xml-'+str(today)\n",
    "response = requests.get('https://aopwiki.org/downloads/aop-wiki-xml.gz', verify=False)\n",
    "with open(aopwikixmlfilename, 'wb') as f:\n",
    "    f.write(response.content)"
   ]
  },
  {
   "cell_type": "markdown",
   "metadata": {},
   "source": [
    "The XML will be extracted to the folder defined within the variable `filepath` in the next block of code, which is by defailt `/data` relative to the location of the Jupyter notebook. All datafiles used and produced with this notebook will be placed there."
   ]
  },
  {
   "cell_type": "code",
   "execution_count": 66,
   "metadata": {},
   "outputs": [],
   "source": [
    "filepath = 'data/'"
   ]
  },
  {
   "cell_type": "code",
   "execution_count": 67,
   "metadata": {},
   "outputs": [
    {
     "name": "stdout",
     "output_type": "stream",
     "text": [
      "File data/aop-wiki-xml-2025-02-11 opened\n"
     ]
    }
   ],
   "source": [
    "try:\n",
    "    with gzip.open(aopwikixmlfilename, 'rb') as f_in:\n",
    "        with open(filepath+aopwikixmlfilename, 'wb') as f_out:\n",
    "            shutil.copyfileobj(f_in, f_out)\n",
    "            print('File ' + filepath+aopwikixmlfilename + ' opened')\n",
    "except:\n",
    "    print('Check if the filepath is correct:\\n' + filepath+aopwikixmlfilename)"
   ]
  },
  {
   "cell_type": "code",
   "execution_count": 68,
   "metadata": {},
   "outputs": [
    {
     "name": "stdout",
     "output_type": "stream",
     "text": [
      "The AOP-Wiki XML is parsed correctly, and contains 6559 entities\n"
     ]
    }
   ],
   "source": [
    "tree = parse(filepath + aopwikixmlfilename)\n",
    "root = tree.getroot()\n",
    "print('The AOP-Wiki XML is parsed correctly, and contains ' + str(len(root)) + ' entities')\n",
    "\n",
    "aopxml = '{http://www.aopkb.org/aop-xml}'"
   ]
  },
  {
   "cell_type": "markdown",
   "metadata": {},
   "source": [
    "## <b>Step #3: extracting information from the XML</b>\n",
    "The next section extracts all information from the main 11 AOP-Wiki entities shown in Figure 1. These are stored in nested dictionaries, while using ontological annotations as keys for semantic mapping of the information. Note that the cell-terms and organ-terms are included in the KE block of code.\n",
    "\n",
    "First, all reference identifiers for AOPs, KEs, KERs and stressors need to be extracted."
   ]
  },
  {
   "cell_type": "code",
   "execution_count": 69,
   "metadata": {},
   "outputs": [
    {
     "name": "stdout",
     "output_type": "stream",
     "text": [
      "\n",
      "The AOP-Wiki XML contains 514 identifiers for the entity AOP\n",
      "\n",
      "The AOP-Wiki XML contains 1497 identifiers for the entity KE\n",
      "\n",
      "The AOP-Wiki XML contains 2123 identifiers for the entity KER\n",
      "\n",
      "The AOP-Wiki XML contains 719 identifiers for the entity Stressor\n"
     ]
    }
   ],
   "source": [
    "refs = {'AOP': {}, 'KE': {}, 'KER': {}, 'Stressor': {}}\n",
    "for ref in root.find(aopxml + 'vendor-specific').findall(aopxml + 'aop-reference'):\n",
    "    refs['AOP'][ref.get('id')] = ref.get('aop-wiki-id')\n",
    "for ref in root.find(aopxml + 'vendor-specific').findall(aopxml + 'key-event-reference'):\n",
    "    refs['KE'][ref.get('id')] = ref.get('aop-wiki-id')\n",
    "for ref in root.find(aopxml + 'vendor-specific').findall(aopxml + 'key-event-relationship-reference'):\n",
    "    refs['KER'][ref.get('id')] = ref.get('aop-wiki-id')\n",
    "for ref in root.find(aopxml + 'vendor-specific').findall(aopxml + 'stressor-reference'):\n",
    "    refs['Stressor'][ref.get('id')] = ref.get('aop-wiki-id')\n",
    "for item in refs:\n",
    "    print('\\nThe AOP-Wiki XML contains ' + str(len(refs[item])) + ' identifiers for the entity ' + item)"
   ]
  },
  {
   "cell_type": "markdown",
   "metadata": {},
   "source": [
    "### Adverse Outcome Pathways"
   ]
  },
  {
   "cell_type": "code",
   "execution_count": 70,
   "metadata": {},
   "outputs": [
    {
     "name": "stdout",
     "output_type": "stream",
     "text": [
      "Done!\n",
      "\n",
      "A total of 514 Adverse Outcome Pathways have been parsed.\n"
     ]
    }
   ],
   "source": [
    "aopdict = {}\n",
    "kedict = {}\n",
    "for AOP in root.findall(aopxml + 'aop'):\n",
    "    aopdict[AOP.get('id')] = {}\n",
    "    aopdict[AOP.get('id')]['dc:identifier'] = 'aop:' + refs['AOP'][AOP.get('id')]\n",
    "    aopdict[AOP.get('id')]['rdfs:label'] = '\"AOP ' + refs['AOP'][AOP.get('id')] + '\"'\n",
    "    aopdict[AOP.get('id')]['foaf:page'] = '<https://identifiers.org/aop/' + refs['AOP'][AOP.get('id')] + '>'\n",
    "    aopdict[AOP.get('id')]['dc:title'] = '\"' + AOP.find(aopxml + 'title').text + '\"'\n",
    "    aopdict[AOP.get('id')]['dcterms:alternative'] = AOP.find(aopxml + 'short-name').text\n",
    "    aopdict[AOP.get('id')]['dc:description'] = []\n",
    "    if AOP.find(aopxml + 'background') is not None:\n",
    "        aopdict[AOP.get('id')]['dc:description'].append('\"\"\"' + TAG_RE.sub('', AOP.find(aopxml + 'background').text) + '\"\"\"')\n",
    "    if AOP.find(aopxml + 'authors').text is not None:\n",
    "        aopdict[AOP.get('id')]['dc:creator'] = '\"\"\"' + TAG_RE.sub('', AOP.find(aopxml + 'authors').text) + '\"\"\"'\n",
    "    if AOP.find(aopxml + 'abstract').text is not None:\n",
    "        aopdict[AOP.get('id')]['dcterms:abstract'] = '\"\"\"' + TAG_RE.sub('', AOP.find(aopxml + 'abstract').text) + '\"\"\"'\n",
    "    if AOP.find(aopxml + 'status').find(aopxml + 'wiki-status') is not None:\n",
    "        aopdict[AOP.get('id')]['dcterms:accessRights'] = '\"' + AOP.find(aopxml + 'status').find(aopxml + 'wiki-status').text + '\"' \n",
    "    if AOP.find(aopxml + 'status').find(aopxml + 'oecd-status') is not None:\n",
    "        aopdict[AOP.get('id')]['oecd-status'] =  '\"' + AOP.find(aopxml + 'status').find(aopxml + 'oecd-status').text + '\"' \n",
    "    if AOP.find(aopxml + 'status').find(aopxml + 'saaop-status') is not None:\n",
    "        aopdict[AOP.get('id')]['saaop-status'] =  '\"' + AOP.find(aopxml + 'status').find(aopxml + 'saaop-status').text + '\"' \n",
    "    aopdict[AOP.get('id')]['oecd-project'] = AOP.find(aopxml + 'oecd-project').text\n",
    "    aopdict[AOP.get('id')]['dc:source'] = AOP.find(aopxml + 'source').text\n",
    "    aopdict[AOP.get('id')]['dcterms:created'] = AOP.find(aopxml + 'creation-timestamp').text\n",
    "    aopdict[AOP.get('id')]['dcterms:modified'] = AOP.find(aopxml + 'last-modification-timestamp').text\n",
    "    for appl in AOP.findall(aopxml + 'applicability'):\n",
    "        for sex in appl.findall(aopxml + 'sex'):\n",
    "            if 'pato:0000047' not in aopdict[AOP.get('id')]:\n",
    "                aopdict[AOP.get('id')]['pato:0000047'] = [[sex.find(aopxml + 'evidence').text, sex.find(aopxml + 'sex').text]]\n",
    "            else:\n",
    "                aopdict[AOP.get('id')]['pato:0000047'].append([sex.find(aopxml + 'evidence').text, sex.find(aopxml + 'sex').text])\n",
    "        for life in appl.findall(aopxml + 'life-stage'):\n",
    "            if 'aopo:LifeStageContext' not in aopdict[AOP.get('id')]:\n",
    "                aopdict[AOP.get('id')]['aopo:LifeStageContext'] = [[life.find(aopxml + 'evidence').text, life.find(aopxml + 'life-stage').text]]\n",
    "            else:\n",
    "                aopdict[AOP.get('id')]['aopo:LifeStageContext'].append([life.find(aopxml + 'evidence').text, life.find(aopxml + 'life-stage').text])\n",
    "    aopdict[AOP.get('id')]['aopo:has_key_event'] = {}\n",
    "    if AOP.find(aopxml + 'key-events') is not None:\n",
    "        for KE in AOP.find(aopxml + 'key-events').findall(aopxml + 'key-event'):\n",
    "            aopdict[AOP.get('id')]['aopo:has_key_event'][KE.get('key-event-id')] = {}\n",
    "            aopdict[AOP.get('id')]['aopo:has_key_event'][KE.get('key-event-id')]['dc:identifier'] = 'aop.events:' + refs['KE'][KE.get('key-event-id')]\n",
    "    aopdict[AOP.get('id')]['aopo:has_key_event_relationship'] = {}\n",
    "    if AOP.find(aopxml + 'key-event-relationships') is not None:\n",
    "        for KER in AOP.find(aopxml + 'key-event-relationships').findall(aopxml + 'relationship'):\n",
    "            aopdict[AOP.get('id')]['aopo:has_key_event_relationship'][KER.get('id')] = {}\n",
    "            aopdict[AOP.get('id')]['aopo:has_key_event_relationship'][KER.get('id')]['dc:identifier'] = 'aop.relationships:' + refs['KER'][KER.get('id')]\n",
    "            aopdict[AOP.get('id')]['aopo:has_key_event_relationship'][KER.get('id')]['adjacency'] = KER.find(aopxml + 'adjacency').text\n",
    "            aopdict[AOP.get('id')]['aopo:has_key_event_relationship'][KER.get('id')]['quantitative-understanding-value'] = KER.find(aopxml + 'quantitative-understanding-value').text\n",
    "            aopdict[AOP.get('id')]['aopo:has_key_event_relationship'][KER.get('id')]['aopo:has_evidence'] = KER.find(aopxml + 'evidence').text\n",
    "    aopdict[AOP.get('id')]['aopo:has_molecular_initiating_event'] = {}\n",
    "    for MIE in AOP.findall(aopxml + 'molecular-initiating-event'):\n",
    "        aopdict[AOP.get('id')]['aopo:has_molecular_initiating_event'][MIE.get('key-event-id')] = {}\n",
    "        aopdict[AOP.get('id')]['aopo:has_molecular_initiating_event'][MIE.get('key-event-id')]['dc:identifier'] = 'aop.events:' + refs['KE'][MIE.get('key-event-id')]\n",
    "        aopdict[AOP.get('id')]['aopo:has_key_event'][MIE.get('key-event-id')] = {}\n",
    "        aopdict[AOP.get('id')]['aopo:has_key_event'][MIE.get('key-event-id')]['dc:identifier'] = 'aop.events:' + refs['KE'][MIE.get('key-event-id')]\n",
    "        if MIE.find(aopxml + 'evidence-supporting-chemical-initiation').text is not None:\n",
    "            kedict[MIE.get('key-event-id')] = {}\n",
    "            aopdict[AOP.get('id')]['dc:description'].append('\"\"\"' + TAG_RE.sub('', MIE.find(aopxml + 'evidence-supporting-chemical-initiation').text) + '\"\"\"')\n",
    "    aopdict[AOP.get('id')]['aopo:has_adverse_outcome'] = {}\n",
    "    for AO in AOP.findall(aopxml + 'adverse-outcome'):\n",
    "        aopdict[AOP.get('id')]['aopo:has_adverse_outcome'][AO.get('key-event-id')] = {}\n",
    "        aopdict[AOP.get('id')]['aopo:has_adverse_outcome'][AO.get('key-event-id')]['dc:identifier'] = 'aop.events:' + refs['KE'][AO.get('key-event-id')]\n",
    "        aopdict[AOP.get('id')]['aopo:has_key_event'][AO.get('key-event-id')] = {}\n",
    "        aopdict[AOP.get('id')]['aopo:has_key_event'][AO.get('key-event-id')]['dc:identifier'] = 'aop.events:' + refs['KE'][AO.get('key-event-id')]\n",
    "        if AO.find(aopxml + 'examples').text is not None:\n",
    "            kedict[AO.get('key-event-id')] = {}\n",
    "            aopdict[AOP.get('id')]['dc:description'].append('\"\"\"' + TAG_RE.sub('', AO.find(aopxml + 'examples').text) + '\"\"\"')\n",
    "    aopdict[AOP.get('id')]['nci:C54571'] = {}\n",
    "    if AOP.find(aopxml + 'aop-stressors') is not None:\n",
    "        for stressor in AOP.find(aopxml + 'aop-stressors').findall(aopxml + 'aop-stressor'):\n",
    "            aopdict[AOP.get('id')]['nci:C54571'][stressor.get('stressor-id')] = {}\n",
    "            aopdict[AOP.get('id')]['nci:C54571'][stressor.get('stressor-id')]['dc:identifier'] = 'aop.stressor:' + refs['Stressor'][stressor.get('stressor-id')]\n",
    "            aopdict[AOP.get('id')]['nci:C54571'][stressor.get('stressor-id')]['aopo:has_evidence'] = stressor.find(aopxml + 'evidence').text\n",
    "    if AOP.find(aopxml + 'overall-assessment').find(aopxml + 'description').text is not None:\n",
    "        aopdict[AOP.get('id')]['nci:C25217'] = '\"\"\"' + TAG_RE.sub('', AOP.find(aopxml + 'overall-assessment').find(aopxml + 'description').text) + '\"\"\"'\n",
    "    if AOP.find(aopxml + 'overall-assessment').find(aopxml + 'key-event-essentiality-summary').text is not None:\n",
    "        aopdict[AOP.get('id')]['nci:C48192'] = '\"\"\"' + TAG_RE.sub('', AOP.find(aopxml + 'overall-assessment').find(aopxml + 'key-event-essentiality-summary').text) + '\"\"\"'\n",
    "    if AOP.find(aopxml + 'overall-assessment').find(aopxml + 'applicability').text is not None:\n",
    "        aopdict[AOP.get('id')]['aopo:AopContext'] = '\"\"\"' + TAG_RE.sub('', AOP.find(aopxml + 'overall-assessment').find(aopxml + 'applicability').text) + '\"\"\"'\n",
    "    if AOP.find(aopxml + 'overall-assessment').find(aopxml + 'weight-of-evidence-summary').text is not None:\n",
    "        aopdict[AOP.get('id')]['aopo:has_evidence'] = '\"\"\"' + TAG_RE.sub('', AOP.find(aopxml + 'overall-assessment').find(aopxml + 'weight-of-evidence-summary').text) + '\"\"\"'\n",
    "    if AOP.find(aopxml + 'overall-assessment').find(aopxml + 'quantitative-considerations').text is not None:\n",
    "        aopdict[AOP.get('id')]['edam:operation_3799'] = '\"\"\"' + TAG_RE.sub('', AOP.find(aopxml + 'overall-assessment').find(aopxml + 'quantitative-considerations').text) + '\"\"\"'\n",
    "    if AOP.find(aopxml + 'potential-applications').text is not None:\n",
    "        aopdict[AOP.get('id')]['nci:C25725'] = '\"\"\"' + TAG_RE.sub('', AOP.find(aopxml + 'potential-applications').text) + '\"\"\"'\n",
    "print('Done!\\n\\nA total of ' + str(len(aopdict)) + ' Adverse Outcome Pathways have been parsed.')"
   ]
  },
  {
   "cell_type": "markdown",
   "metadata": {},
   "source": [
    "### Chemicals\n",
    "For the chemicals in the AOP-Wiki, we added BridgeDb mappings for increased coverage of chemical databases for which we used the already present CAS identifers. "
   ]
  },
  {
   "cell_type": "code",
   "execution_count": 71,
   "metadata": {},
   "outputs": [
    {
     "name": "stdout",
     "output_type": "stream",
     "text": [
      "Done!\n",
      "\n",
      "A total of 412 chemicals have been parsed.\n"
     ]
    }
   ],
   "source": [
    "chedict = {}\n",
    "listofchebi = []\n",
    "listofchemspider = []\n",
    "listofwikidata = []\n",
    "listofchembl = []\n",
    "listofdrugbank = []\n",
    "listofpubchem = []\n",
    "listoflipidmaps = []\n",
    "listofhmdb = []\n",
    "listofkegg = []\n",
    "listofcas = []\n",
    "listofinchikey = []\n",
    "listofcomptox = []\n",
    "\n",
    "for che in root.findall(aopxml + 'chemical'):\n",
    "    chedict[che.get('id')] = {}\n",
    "    if che.find(aopxml + 'casrn') is not None:\n",
    "        if 'NOCAS' not in che.find(aopxml + 'casrn').text:  # all NOCAS ids are taken out, so no issues as subjects\n",
    "            chedict[che.get('id')]['dc:identifier'] = 'cas:' + che.find(aopxml + 'casrn').text\n",
    "            listofcas.append('cas:' + che.find(aopxml + 'casrn').text)\n",
    "            chedict[che.get('id')]['cheminf:000446'] = '\"' + che.find(aopxml + 'casrn').text + '\"'\n",
    "            a = requests.get(bridgedb+'xrefs/Ca/'+che.find(aopxml + 'casrn').text).text.split('\\n')\n",
    "            dictionaryforchemical = {}\n",
    "            if 'html' not in a:\n",
    "                for item in a:\n",
    "                    b = item.split('\\t')\n",
    "                    if len(b) == 2:\n",
    "                        if b[1] not in dictionaryforchemical:\n",
    "                            dictionaryforchemical[b[1]] = []\n",
    "                            dictionaryforchemical[b[1]].append(b[0])\n",
    "                        else:\n",
    "                            dictionaryforchemical[b[1]].append(b[0])\n",
    "            if 'ChEBI' in dictionaryforchemical:\n",
    "                chedict[che.get('id')]['cheminf:000407'] = []\n",
    "                for chebi in dictionaryforchemical['ChEBI']:\n",
    "                    # Remove \"CHEBI:\" prefix if it exists\n",
    "                    formatted_chebi = \"chebi:\" + chebi.split(\"CHEBI:\")[-1]\n",
    "                    if formatted_chebi not in listofchebi:\n",
    "                        listofchebi.append(formatted_chebi)\n",
    "                    chedict[che.get('id')]['cheminf:000407'].append(formatted_chebi)\n",
    "            if 'Chemspider' in dictionaryforchemical:\n",
    "                chedict[che.get('id')]['cheminf:000405'] = []\n",
    "                for chemspider in dictionaryforchemical['Chemspider']:\n",
    "                    if \"chemspider:\"+chemspider not in listofchemspider:\n",
    "                        listofchemspider.append(\"chemspider:\"+chemspider)\n",
    "                    chedict[che.get('id')]['cheminf:000405'].append(\"chemspider:\"+chemspider)\n",
    "            if 'Wikidata' in dictionaryforchemical:\n",
    "                chedict[che.get('id')]['cheminf:000567'] = []\n",
    "                for wd in dictionaryforchemical['Wikidata']:\n",
    "                    if \"wikidata:\"+wd not in listofwikidata:\n",
    "                        listofwikidata.append(\"wikidata:\"+wd)\n",
    "                    chedict[che.get('id')]['cheminf:000567'].append(\"wikidata:\"+wd)\n",
    "            if 'ChEMBL compound' in dictionaryforchemical:\n",
    "                chedict[che.get('id')]['cheminf:000412'] = []\n",
    "                for chembl in dictionaryforchemical['ChEMBL compound']:\n",
    "                    if \"chembl.compound:\"+chembl not in listofchembl:\n",
    "                        listofchembl.append(\"chembl.compound:\"+chembl)\n",
    "                    chedict[che.get('id')]['cheminf:000412'].append(\"chembl.compound:\"+chembl)\n",
    "            if 'PubChem-compound' in dictionaryforchemical:\n",
    "                chedict[che.get('id')]['cheminf:000140'] = []\n",
    "                for pub in dictionaryforchemical['PubChem-compound']:\n",
    "                    if \"pubchem.compound:\"+pub not in listofpubchem:\n",
    "                        listofpubchem.append(\"pubchem.compound:\"+pub)\n",
    "                    chedict[che.get('id')]['cheminf:000140'].append(\"pubchem.compound:\"+pub)\n",
    "            if 'DrugBank' in dictionaryforchemical:\n",
    "                chedict[che.get('id')]['cheminf:000406'] = []\n",
    "                for drugbank in dictionaryforchemical['DrugBank']:\n",
    "                    if \"drugbank:\"+drugbank not in listofdrugbank:\n",
    "                        listofdrugbank.append(\"drugbank:\"+drugbank)\n",
    "                    chedict[che.get('id')]['cheminf:000406'].append(\"drugbank:\"+drugbank)\n",
    "            if 'KEGG Compound' in dictionaryforchemical:\n",
    "                chedict[che.get('id')]['cheminf:000409'] = []\n",
    "                for kegg in dictionaryforchemical['KEGG Compound']:\n",
    "                    if \"kegg.compound:\"+kegg not in listofkegg:\n",
    "                        listofkegg.append(\"kegg.compound:\"+kegg)\n",
    "                    chedict[che.get('id')]['cheminf:000409'].append(\"kegg.compound:\"+kegg)\n",
    "            if 'LIPID MAPS' in dictionaryforchemical:\n",
    "                chedict[che.get('id')]['cheminf:000564'] = []\n",
    "                for lipidmaps in dictionaryforchemical['LIPID MAPS']:\n",
    "                    if \"lipidmaps:\"+lipidmaps not in listoflipidmaps:\n",
    "                        listoflipidmaps.append(\"lipidmaps:\"+lipidmaps)\n",
    "                    chedict[che.get('id')]['cheminf:000564'].append(\"lipidmaps:\"+lipidmaps)\n",
    "            if 'HMDB' in dictionaryforchemical:\n",
    "                chedict[che.get('id')]['cheminf:000408'] = []\n",
    "                for hmdb in dictionaryforchemical['HMDB']:\n",
    "                    if \"hmdb:\"+hmdb not in listofhmdb:\n",
    "                        listofhmdb.append(\"hmdb:\"+hmdb)\n",
    "                    chedict[che.get('id')]['cheminf:000408'].append(\"hmdb:\"+hmdb)\n",
    "        else:\n",
    "            chedict[che.get('id')]['dc:identifier'] = '\"' + che.find(aopxml + 'casrn').text + '\"'\n",
    "    if che.find(aopxml + 'jchem-inchi-key') is not None:\n",
    "        chedict[che.get('id')]['cheminf:000059'] = 'inchikey:' + str(che.find(aopxml + 'jchem-inchi-key').text)\n",
    "        listofinchikey.append('inchikey:' + str(che.find(aopxml + 'jchem-inchi-key').text))\n",
    "    if che.find(aopxml + 'preferred-name') is not None:\n",
    "        chedict[che.get('id')]['dc:title'] = '\"' + che.find(aopxml + 'preferred-name').text + '\"'\n",
    "    if che.find(aopxml + 'dsstox-id') is not None:\n",
    "        chedict[che.get('id')]['cheminf:000568'] = 'comptox:' + che.find(aopxml + 'dsstox-id').text\n",
    "        listofcomptox.append('comptox:' + che.find(aopxml + 'dsstox-id').text)\n",
    "    if che.find(aopxml + 'synonyms') is not None:\n",
    "        chedict[che.get('id')]['dcterms:alternative'] = []\n",
    "        for synonym in che.find(aopxml + 'synonyms').findall(aopxml + 'synonym'):\n",
    "            chedict[che.get('id')]['dcterms:alternative'].append(synonym.text[:-1])\n",
    "print('Done!\\n\\nA total of ' + str(len(chedict)) + ' chemicals have been parsed.')"
   ]
  },
  {
   "cell_type": "markdown",
   "metadata": {},
   "source": [
    "### Stressors"
   ]
  },
  {
   "cell_type": "code",
   "execution_count": 72,
   "metadata": {},
   "outputs": [
    {
     "name": "stdout",
     "output_type": "stream",
     "text": [
      "Done!\n",
      "\n",
      "A total of 719 Stressors have been parsed.\n"
     ]
    }
   ],
   "source": [
    "strdict = {}\n",
    "for stressor in root.findall(aopxml + 'stressor'):\n",
    "    strdict[stressor.get('id')] = {}\n",
    "    strdict[stressor.get('id')]['dc:identifier'] = 'aop.stressor:' + refs['Stressor'][stressor.get('id')]\n",
    "    strdict[stressor.get('id')]['rdfs:label'] = '\"Stressor ' + refs['Stressor'][stressor.get('id')] + '\"'\n",
    "    strdict[stressor.get('id')]['foaf:page'] = '<https://identifiers.org/aop.stressor/' + refs['Stressor'][stressor.get('id')] + '>'\n",
    "    strdict[stressor.get('id')]['dc:title'] = '\"' + stressor.find(aopxml + 'name').text + '\"'\n",
    "    if stressor.find(aopxml + 'description').text is not None:\n",
    "        strdict[stressor.get('id')]['dc:description'] = '\"\"\"' + TAG_RE.sub('', stressor.find(aopxml + 'description').text) + '\"\"\"'\n",
    "    strdict[stressor.get('id')]['dcterms:created'] = stressor.find(aopxml + 'creation-timestamp').text\n",
    "    strdict[stressor.get('id')]['dcterms:modified'] = stressor.find(aopxml + 'last-modification-timestamp').text\n",
    "    strdict[stressor.get('id')]['aopo:has_chemical_entity'] = []\n",
    "    strdict[stressor.get('id')]['linktochemical'] = []\n",
    "    if stressor.find(aopxml + 'chemicals') is not None:\n",
    "        for chemical in stressor.find(aopxml + 'chemicals').findall(aopxml + 'chemical-initiator'):\n",
    "            strdict[stressor.get('id')]['aopo:has_chemical_entity'].append('\"' + chemical.get('user-term') + '\"')\n",
    "            strdict[stressor.get('id')]['linktochemical'].append(chemical.get('chemical-id'))\n",
    "print('Done!\\n\\nA total of ' + str(len(strdict)) + ' Stressors have been parsed.')"
   ]
  },
  {
   "cell_type": "markdown",
   "metadata": {},
   "source": [
    "### Taxonomy"
   ]
  },
  {
   "cell_type": "code",
   "execution_count": 73,
   "metadata": {},
   "outputs": [
    {
     "name": "stdout",
     "output_type": "stream",
     "text": [
      "Done!\n",
      "\n",
      "A total of 282 taxonomies have been parsed.\n"
     ]
    }
   ],
   "source": [
    "taxdict = {}\n",
    "for tax in root.findall(aopxml + 'taxonomy'):\n",
    "    taxdict[tax.get('id')] = {}\n",
    "    taxdict[tax.get('id')]['dc:source'] = tax.find(aopxml + 'source').text\n",
    "    taxdict[tax.get('id')]['dc:title'] = tax.find(aopxml + 'name').text\n",
    "    if taxdict[tax.get('id')]['dc:source'] == 'NCBI':\n",
    "        taxdict[tax.get('id')]['dc:identifier'] = 'ncbitaxon:' + tax.find(aopxml + 'source-id').text\n",
    "    elif taxdict[tax.get('id')]['dc:source'] is not None:\n",
    "        taxdict[tax.get('id')]['dc:identifier'] = '\"' + tax.find(aopxml + 'source-id').text + '\"'\n",
    "    else:\n",
    "        taxdict[tax.get('id')]['dc:identifier'] = '\"' + tax.find(aopxml + 'source-id').text + '\"'\n",
    "print('Done!\\n\\nA total of ' + str(len(taxdict)) + ' taxonomies have been parsed.')"
   ]
  },
  {
   "cell_type": "markdown",
   "metadata": {},
   "source": [
    "### Key Event Components\n",
    "Which comprise of the Biological Actions, Biological Processes, Biological Objects."
   ]
  },
  {
   "cell_type": "code",
   "execution_count": 74,
   "metadata": {},
   "outputs": [
    {
     "name": "stdout",
     "output_type": "stream",
     "text": [
      "Done!\n",
      "A total of 12 Biological Activity annotations have been parsed.\n"
     ]
    }
   ],
   "source": [
    "bioactdict = {None: {}}\n",
    "bioactdict[None]['dc:identifier'] = None\n",
    "bioactdict[None]['dc:source'] = None\n",
    "bioactdict[None]['dc:title'] = None\n",
    "for bioact in root.findall(aopxml + 'biological-action'):\n",
    "    bioactdict[bioact.get('id')] = {}\n",
    "    bioactdict[bioact.get('id')]['dc:source'] = '\"' + bioact.find(aopxml + 'source').text + '\"'\n",
    "    bioactdict[bioact.get('id')]['dc:title'] = '\"' + bioact.find(aopxml + 'name').text + '\"'\n",
    "    bioactdict[bioact.get('id')]['dc:identifier'] = '\"WIKI:' + bioact.find(aopxml + 'source-id').text + '\"'\n",
    "print('Done!\\nA total of ' + str(len(bioactdict)) + ' Biological Activity annotations have been parsed.')"
   ]
  },
  {
   "cell_type": "code",
   "execution_count": 75,
   "metadata": {},
   "outputs": [
    {
     "name": "stdout",
     "output_type": "stream",
     "text": [
      "Done!\n",
      "\n",
      "A total of 526 Biological Process annotations have been parsed.\n"
     ]
    }
   ],
   "source": [
    "# Initialize bioprodict with default values\n",
    "bioprodict = {\n",
    "    None: {\n",
    "        'dc:identifier': None,\n",
    "        'dc:source': None,\n",
    "        'dc:title': None\n",
    "    }\n",
    "}\n",
    "\n",
    "# Mapping of source prefixes to their respective formats\n",
    "source_prefix_map = {\n",
    "    '\"GO\"': ('go:', 3),\n",
    "    '\"MI\"': ('mi:', 0),\n",
    "    '\"MP\"': ('mp:', 3),\n",
    "    '\"MESH\"': ('mesh:', 0),\n",
    "    '\"HP\"': ('hp:', 3),\n",
    "    '\"PCO\"': ('pco:', 4),\n",
    "    '\"NBO\"': ('nbo:', 4),\n",
    "    '\"VT\"': ('vt:', 3),\n",
    "    '\"RBO\"': ('rbo:', 4),\n",
    "    '\"NCI\"': ('nci:', 4),\n",
    "    '\"IDO\"': ('ido:', 4),\n",
    "}\n",
    "\n",
    "# Loop through biological processes and populate bioprodict\n",
    "for biopro in root.findall(aopxml + 'biological-process'):\n",
    "    biopro_id = biopro.get('id')\n",
    "    bioprodict[biopro_id] = {}\n",
    "\n",
    "    # Extract values\n",
    "    source = f'\"{biopro.find(aopxml + \"source\").text}\"'\n",
    "    name = f'\"{biopro.find(aopxml + \"name\").text}\"'\n",
    "    source_id = biopro.find(aopxml + 'source-id').text\n",
    "\n",
    "    # Populate source and title\n",
    "    bioprodict[biopro_id]['dc:source'] = source\n",
    "    bioprodict[biopro_id]['dc:title'] = name\n",
    "\n",
    "    # Handle identifier based on source prefix\n",
    "    if source in source_prefix_map:\n",
    "        prefix, offset = source_prefix_map[source]\n",
    "        identifier = prefix + source_id[offset:]\n",
    "        bioprodict[biopro_id]['dc:identifier'] = identifier\n",
    "    else:\n",
    "        # Default case for unhandled sources\n",
    "        bioprodict[biopro_id]['dc:identifier'] = source_id\n",
    "\n",
    "print(f\"Done!\\n\\nA total of {len(bioprodict)} Biological Process annotations have been parsed.\")\n"
   ]
  },
  {
   "cell_type": "code",
   "execution_count": 76,
   "metadata": {},
   "outputs": [
    {
     "name": "stdout",
     "output_type": "stream",
     "text": [
      "Done!\n",
      "\n",
      "A total of 476 Biological Object annotations have been parsed.\n"
     ]
    }
   ],
   "source": [
    "# Initialize bioobjdict with default values\n",
    "bioobjdict = {\n",
    "    None: {\n",
    "        'dc:identifier': None,\n",
    "        'dc:source': None,\n",
    "        'dc:title': None\n",
    "    }\n",
    "}\n",
    "objectstoskip = []\n",
    "prolist = []\n",
    "\n",
    "# Mapping of source prefixes to their respective formats\n",
    "source_prefix_map = {\n",
    "    '\"PR\"': ('pr:', 3),\n",
    "    '\"CL\"': ('cl:', 3),\n",
    "    '\"MESH\"': ('mesh:', 0),\n",
    "    '\"GO\"': ('go:', 3),\n",
    "    '\"UBERON\"': ('uberon:', 7),\n",
    "    '\"CHEBI\"': ('chebio:', 6),\n",
    "    '\"MP\"': ('mp:', 3),\n",
    "    '\"FMA\"': ('fma:', 4),\n",
    "    '\"PCO\"': ('pco:', 4),\n",
    "}\n",
    "\n",
    "# Loop through biological objects and populate bioobjdict\n",
    "for bioobj in root.findall(aopxml + 'biological-object'):\n",
    "    bioobj_id = bioobj.get('id')\n",
    "    bioobjdict[bioobj_id] = {}\n",
    "\n",
    "    # Extract values\n",
    "    source = f'\"{bioobj.find(aopxml + \"source\").text}\"'\n",
    "    name = f'\"{bioobj.find(aopxml + \"name\").text}\"'\n",
    "    source_id = bioobj.find(aopxml + 'source-id').text\n",
    "\n",
    "    # Populate source and title\n",
    "    bioobjdict[bioobj_id]['dc:source'] = source\n",
    "    bioobjdict[bioobj_id]['dc:title'] = name\n",
    "\n",
    "    # Handle identifier based on source prefix\n",
    "    if source in source_prefix_map:\n",
    "        prefix, offset = source_prefix_map[source]\n",
    "        identifier = prefix + source_id[offset:]\n",
    "        bioobjdict[bioobj_id]['dc:identifier'] = identifier\n",
    "\n",
    "        # Add to prolist if PR\n",
    "        if source == '\"PR\"':\n",
    "            prolist.append(identifier)\n",
    "    else:\n",
    "        # Default case for unhandled sources\n",
    "        bioobjdict[bioobj_id]['dc:identifier'] = f'\"{source_id}\"'\n",
    "\n",
    "print(f\"Done!\\n\\nA total of {len(bioobjdict)} Biological Object annotations have been parsed.\")\n"
   ]
  },
  {
   "cell_type": "markdown",
   "metadata": {},
   "source": [
    "The Biological Objects containing terms from the Protein Ontology are mapped to protein identifiers with the PR mapping file `promapping.txt`, which was downloaded from the [Protein Consortium website](https://proconsortium.org/download/current/), which provides matching identifiers from Entrez Gene, HGNC and UniProt. The file location should be the `filepath` variable defined in Step #2."
   ]
  },
  {
   "cell_type": "code",
   "execution_count": 77,
   "metadata": {},
   "outputs": [
    {
     "data": {
      "text/plain": [
       "('data/promapping.txt', <http.client.HTTPMessage at 0x797af0b7df10>)"
      ]
     },
     "execution_count": 77,
     "metadata": {},
     "output_type": "execute_result"
    }
   ],
   "source": [
    "pro = \"promapping.txt\"\n",
    "urllib.request.urlretrieve('https://proconsortium.org/download/current/promapping.txt', 'data/promapping.txt')"
   ]
  },
  {
   "cell_type": "code",
   "execution_count": 78,
   "metadata": {},
   "outputs": [
    {
     "name": "stdout",
     "output_type": "stream",
     "text": [
      "Last Modified Time :  Tue Feb 11 14:34:16 2025\n"
     ]
    }
   ],
   "source": [
    "fileStatsObj = os.stat (filepath + pro)\n",
    "PromodificationTime = time.ctime ( fileStatsObj [ stat.ST_MTIME ] )\n",
    "print(\"Last Modified Time : \", PromodificationTime )"
   ]
  },
  {
   "cell_type": "code",
   "execution_count": 79,
   "metadata": {},
   "outputs": [
    {
     "name": "stdout",
     "output_type": "stream",
     "text": [
      "This step added 709 identifiers for 150 Protein Ontology terms\n"
     ]
    }
   ],
   "source": [
    "f = open(filepath+pro, \"r\")\n",
    "prodict = {}\n",
    "hgnclist = []\n",
    "uniprotlist = []\n",
    "ncbigenelist = []\n",
    "for line in f:\n",
    "    a = line.split('\\t')\n",
    "    key = 'pr:'+a[0][3:]\n",
    "    if key in prolist:\n",
    "        if not key in prodict:\n",
    "            prodict[key] = []\n",
    "        if 'HGNC:' in a[1]:\n",
    "            prodict[key].append('hgnc:'+a[1][5:])\n",
    "            hgnclist.append('hgnc:'+a[1][5:])\n",
    "        if 'NCBIGene:' in a[1]:\n",
    "            prodict[key].append('ncbigene:'+a[1][9:])\n",
    "            ncbigenelist.append('ncbigene:'+a[1][9:])\n",
    "        if 'UniProtKB:' in a[1]:\n",
    "            prodict[key].append('uniprot:'+a[1].split(',')[0][10:])\n",
    "            uniprotlist.append('uniprot:'+a[1].split(',')[0][10:])\n",
    "        if prodict[key]==[]:\n",
    "            del prodict[key]\n",
    "f.close()\n",
    "print('This step added ' + str(len(hgnclist)+len(ncbigenelist)+len(uniprotlist)) + ' identifiers for ' + str(len(prodict)) + ' Protein Ontology terms')"
   ]
  },
  {
   "cell_type": "markdown",
   "metadata": {},
   "source": [
    "### Key Events\n",
    "The KEs also include the entities for cell-terms and organ-terms."
   ]
  },
  {
   "cell_type": "code",
   "execution_count": 80,
   "metadata": {},
   "outputs": [
    {
     "name": "stdout",
     "output_type": "stream",
     "text": [
      "Done!\n",
      "\n",
      "A total of 1497 Key Events have been parsed.\n"
     ]
    }
   ],
   "source": [
    "listofkedescriptions = []\n",
    "for ke in root.findall(aopxml + 'key-event'):\n",
    "    if not ke.get('id') in kedict:\n",
    "        kedict[ke.get('id')] = {}\n",
    "    kedict[ke.get('id')]['dc:identifier'] = 'aop.events:' + refs['KE'][ke.get('id')]\n",
    "    kedict[ke.get('id')]['rdfs:label'] = '\"KE ' + refs['KE'][ke.get('id')] + '\"'\n",
    "    kedict[ke.get('id')]['foaf:page'] = '<https://identifiers.org/aop.events/' + refs['KE'][ke.get('id')] + '>'\n",
    "    kedict[ke.get('id')]['dc:title'] = '\"' + ke.find(aopxml + 'title').text + '\"'\n",
    "    kedict[ke.get('id')]['dcterms:alternative'] = ke.find(aopxml + 'short-name').text\n",
    "    kedict[ke.get('id')]['nci:C25664'] = '\"\"\"' + ke.find(aopxml + 'biological-organization-level').text + '\"\"\"'\n",
    "    if ke.find(aopxml + 'description').text is not None:\n",
    "        kedict[ke.get('id')]['dc:description'] = '\"\"\"' + TAG_RE.sub('', ke.find(aopxml + 'description').text) + '\"\"\"'\n",
    "#    if ke.find(aopxml + 'evidence-supporting-taxonomic-applicability').text is not None:\n",
    "#        kedict[ke.get('id')]['dc:description'] = '\"\"\"' + TAG_RE.sub('', ke.find(aopxml + 'evidence-supporting-taxonomic-applicability').text) + '\"\"\"'\n",
    "    if ke.find(aopxml + 'measurement-methodology').text is not None:\n",
    "        kedict[ke.get('id')]['mmo:0000000'] = '\"\"\"' + TAG_RE.sub('', ke.find(aopxml + 'measurement-methodology').text) + '\"\"\"'\n",
    "    kedict[ke.get('id')]['biological-organization-level'] = ke.find(aopxml + 'biological-organization-level').text\n",
    "    kedict[ke.get('id')]['dc:source'] = ke.find(aopxml + 'source').text\n",
    "    for appl in ke.findall(aopxml + 'applicability'):\n",
    "        for sex in appl.findall(aopxml + 'sex'):\n",
    "            if 'pato:0000047' not in kedict[ke.get('id')]:\n",
    "                kedict[ke.get('id')]['pato:0000047'] = [[sex.find(aopxml + 'evidence').text, sex.find(aopxml + 'sex').text]]\n",
    "            else:\n",
    "                kedict[ke.get('id')]['pato:0000047'].append([sex.find(aopxml + 'evidence').text, sex.find(aopxml + 'sex').text])\n",
    "        for life in appl.findall(aopxml + 'life-stage'):\n",
    "            if 'aopo:LifeStageContext' not in kedict[ke.get('id')]:\n",
    "                kedict[ke.get('id')]['aopo:LifeStageContext'] = [[life.find(aopxml + 'evidence').text, life.find(aopxml + 'life-stage').text]]\n",
    "            else:\n",
    "                kedict[ke.get('id')]['aopo:LifeStageContext'].append([life.find(aopxml + 'evidence').text, life.find(aopxml + 'life-stage').text])\n",
    "        for tax in appl.findall(aopxml + 'taxonomy'):\n",
    "            if 'ncbitaxon:131567' not in kedict[ke.get('id')]:\n",
    "                if 'dc:identifier' in taxdict[tax.get('taxonomy-id')]:\n",
    "                    kedict[ke.get('id')]['ncbitaxon:131567'] = [[tax.get('taxonomy-id'), tax.find(aopxml + 'evidence').text, taxdict[tax.get('taxonomy-id')]['dc:identifier'], taxdict[tax.get('taxonomy-id')]['dc:source'], taxdict[tax.get('taxonomy-id')]['dc:title']]]\n",
    "            else:\n",
    "                if 'dc:identifier' in taxdict[tax.get('taxonomy-id')]:\n",
    "                    kedict[ke.get('id')]['ncbitaxon:131567'].append([tax.get('taxonomy-id'), tax.find(aopxml + 'evidence').text, taxdict[tax.get('taxonomy-id')]['dc:identifier'], taxdict[tax.get('taxonomy-id')]['dc:source'], taxdict[tax.get('taxonomy-id')]['dc:title']])\n",
    "    if ke.find(aopxml + 'biological-events') is not None:\n",
    "        kedict[ke.get('id')]['biological-event'] = {}\n",
    "        kedict[ke.get('id')]['biological-event']['go:0008150'] = []\n",
    "        kedict[ke.get('id')]['biological-event']['pato:0001241'] = []\n",
    "        kedict[ke.get('id')]['biological-event']['pato:0000001'] = []\n",
    "        for event in ke.find(aopxml + 'biological-events').findall(aopxml + 'biological-event'):\n",
    "            if event.get('process-id') is not None:\n",
    "                kedict[ke.get('id')]['biological-event']['go:0008150'].append(bioprodict[event.get('process-id')]['dc:identifier'])\n",
    "            if event.get('object-id') is not None:\n",
    "                kedict[ke.get('id')]['biological-event']['pato:0001241'].append(bioobjdict[event.get('object-id')]['dc:identifier'])\n",
    "            if event.get('action-id') is not None:\n",
    "                kedict[ke.get('id')]['biological-event']['pato:0000001'].append(bioactdict[event.get('action-id')]['dc:identifier'])\n",
    "    if ke.find(aopxml + 'cell-term') is not None:\n",
    "        kedict[ke.get('id')]['aopo:CellTypeContext'] = {}\n",
    "        kedict[ke.get('id')]['aopo:CellTypeContext']['dc:source'] = '\"' + ke.find(aopxml + 'cell-term').find(aopxml + 'source').text + '\"'\n",
    "        kedict[ke.get('id')]['aopo:CellTypeContext']['dc:title'] = '\"' + ke.find(aopxml + 'cell-term').find(aopxml + 'name').text + '\"'\n",
    "        if kedict[ke.get('id')]['aopo:CellTypeContext']['dc:source'] == '\"CL\"':\n",
    "            kedict[ke.get('id')]['aopo:CellTypeContext']['dc:identifier'] = ['cl:' + ke.find(aopxml + 'cell-term').find(aopxml + 'source-id').text[3:], ke.find(aopxml + 'cell-term').find(aopxml + 'source-id').text]\n",
    "        elif kedict[ke.get('id')]['aopo:CellTypeContext']['dc:source'] == '\"UBERON\"':\n",
    "            kedict[ke.get('id')]['aopo:CellTypeContext']['dc:identifier'] = ['uberon:' + ke.find(aopxml + 'cell-term').find(aopxml + 'source-id').text[7:], ke.find(aopxml + 'cell-term').find(aopxml + 'source-id').text]\n",
    "        else:\n",
    "            kedict[ke.get('id')]['aopo:CellTypeContext']['dc:identifier'] = ['\"' + ke.find(aopxml + 'cell-term').find(aopxml + 'source-id').text + '\"', 'placeholder']\n",
    "    if ke.find(aopxml + 'organ-term') is not None:\n",
    "        kedict[ke.get('id')]['aopo:OrganContext'] = {}\n",
    "        kedict[ke.get('id')]['aopo:OrganContext']['dc:source'] = '\"' + ke.find(aopxml + 'organ-term').find(aopxml + 'source').text + '\"'\n",
    "        kedict[ke.get('id')]['aopo:OrganContext']['dc:title'] = '\"' + ke.find(aopxml + 'organ-term').find(aopxml + 'name').text + '\"'\n",
    "        if kedict[ke.get('id')]['aopo:OrganContext']['dc:source'] == '\"UBERON\"':\n",
    "            kedict[ke.get('id')]['aopo:OrganContext']['dc:identifier'] = ['uberon:' + ke.find(aopxml + 'organ-term').find(aopxml + 'source-id').text[7:], ke.find(aopxml + 'organ-term').find(aopxml + 'source-id').text]\n",
    "        else:\n",
    "            kedict[ke.get('id')]['aopo:OrganContext']['dc:identifier'] = [\n",
    "                '\"' + ke.find(aopxml + 'organ-term').find(aopxml + 'source-id').text + '\"', 'placeholder']\n",
    "    if ke.find(aopxml + 'key-event-stressors') is not None:\n",
    "        kedict[ke.get('id')]['nci:C54571'] = {}\n",
    "        for stressor in ke.find(aopxml + 'key-event-stressors').findall(aopxml + 'key-event-stressor'):\n",
    "            kedict[ke.get('id')]['nci:C54571'][stressor.get('stressor-id')] = {}\n",
    "            kedict[ke.get('id')]['nci:C54571'][stressor.get('stressor-id')]['dc:identifier'] = strdict[stressor.get('stressor-id')]['dc:identifier']\n",
    "            kedict[ke.get('id')]['nci:C54571'][stressor.get('stressor-id')]['aopo:has_evidence'] = stressor.find(aopxml + 'evidence').text\n",
    "print('Done!\\n\\nA total of ' + str(len(kedict)) + ' Key Events have been parsed.')"
   ]
  },
  {
   "cell_type": "markdown",
   "metadata": {},
   "source": [
    "### Key Event Relationships"
   ]
  },
  {
   "cell_type": "code",
   "execution_count": 81,
   "metadata": {},
   "outputs": [
    {
     "name": "stdout",
     "output_type": "stream",
     "text": [
      "Done!\n",
      "\n",
      "A total of 2123 Key Event Relationships have been parsed.\n"
     ]
    }
   ],
   "source": [
    "kerdict = {}\n",
    "for ker in root.findall(aopxml + 'key-event-relationship'):\n",
    "    kerdict[ker.get('id')] = {}\n",
    "    kerdict[ker.get('id')]['dc:identifier'] = 'aop.relationships:' + refs['KER'][ker.get('id')]\n",
    "    kerdict[ker.get('id')]['rdfs:label'] = '\"KER ' + refs['KER'][ker.get('id')] + '\"'\n",
    "    kerdict[ker.get('id')]['foaf:page'] = '<https://identifiers.org/aop.relationships/' + refs['KER'][ker.get('id')] + '>'\n",
    "    kerdict[ker.get('id')]['dc:source'] = ker.find(aopxml + 'source').text\n",
    "    kerdict[ker.get('id')]['dcterms:created'] = ker.find(aopxml + 'creation-timestamp').text\n",
    "    kerdict[ker.get('id')]['dcterms:modified'] = ker.find(aopxml + 'last-modification-timestamp').text\n",
    "    if ker.find(aopxml + 'description').text is not None:\n",
    "        kerdict[ker.get('id')]['dc:description'] = '\"\"\"' + TAG_RE.sub('', ker.find(aopxml + 'description').text) + '\"\"\"'\n",
    "    for weight in ker.findall(aopxml + 'weight-of-evidence'):\n",
    "        if weight.find(aopxml + 'biological-plausibility').text is not None:\n",
    "            kerdict[ker.get('id')]['nci:C80263'] = '\"\"\"' + TAG_RE.sub('', weight.find(aopxml + 'biological-plausibility').text) + '\"\"\"'\n",
    "        if weight.find(aopxml + 'emperical-support-linkage').text is not None:\n",
    "            kerdict[ker.get('id')]['edam:data_2042'] = '\"\"\"' + TAG_RE.sub('', weight.find(aopxml + 'emperical-support-linkage').text) + '\"\"\"'\n",
    "        if weight.find(aopxml + 'uncertainties-or-inconsistencies').text is not None:\n",
    "            kerdict[ker.get('id')]['nci:C71478'] = '\"\"\"' + TAG_RE.sub('', weight.find(aopxml + 'uncertainties-or-inconsistencies').text) + '\"\"\"'\n",
    "    kerdict[ker.get('id')]['aopo:has_upstream_key_event'] = {}\n",
    "    kerdict[ker.get('id')]['aopo:has_upstream_key_event']['id'] = ker.find(aopxml + 'title').find(aopxml + 'upstream-id').text\n",
    "    kerdict[ker.get('id')]['aopo:has_upstream_key_event']['dc:identifier'] = 'aop.events:' + refs['KE'][ker.find(aopxml + 'title').find(aopxml + 'upstream-id').text]\n",
    "    kerdict[ker.get('id')]['aopo:has_downstream_key_event'] = {}\n",
    "    kerdict[ker.get('id')]['aopo:has_downstream_key_event']['id'] = ker.find(aopxml + 'title').find(aopxml + 'downstream-id').text\n",
    "    kerdict[ker.get('id')]['aopo:has_downstream_key_event']['dc:identifier'] = 'aop.events:' + refs['KE'][ker.find(aopxml + 'title').find(aopxml + 'downstream-id').text]\n",
    "    for appl in ker.findall(aopxml + 'taxonomic-applicability'):\n",
    "        for sex in appl.findall(aopxml + 'sex'):\n",
    "            if 'pato:0000047' not in kerdict[ker.get('id')]:\n",
    "                kerdict[ker.get('id')]['pato:0000047'] = [[sex.find(aopxml + 'evidence').text, sex.find(aopxml + 'sex').text]]\n",
    "            else:\n",
    "                kerdict[ker.get('id')]['pato:0000047'].append([sex.find(aopxml + 'evidence').text, sex.find(aopxml + 'sex').text])\n",
    "        for life in appl.findall(aopxml + 'life-stage'):\n",
    "            if 'aopo:LifeStageContext' not in kerdict[ker.get('id')]:\n",
    "                kerdict[ker.get('id')]['aopo:LifeStageContext'] = [[life.find(aopxml + 'evidence').text, life.find(aopxml + 'life-stage').text]]\n",
    "            else:\n",
    "                kerdict[ker.get('id')]['aopo:LifeStageContext'].append([life.find(aopxml + 'evidence').text, life.find(aopxml + 'life-stage').text])\n",
    "        for tax in appl.findall(aopxml + 'taxonomy'):\n",
    "            if 'ncbitaxon:131567' not in kerdict[ker.get('id')]:\n",
    "                if 'dc:identifier' in taxdict[tax.get('taxonomy-id')]:\n",
    "                    kerdict[ker.get('id')]['ncbitaxon:131567'] = [[tax.get('taxonomy-id'), tax.find(aopxml + 'evidence').text, taxdict[tax.get('taxonomy-id')]['dc:identifier'], taxdict[tax.get('taxonomy-id')]['dc:source'], taxdict[tax.get('taxonomy-id')]['dc:title']]]\n",
    "            else:\n",
    "                if 'dc:identifier' in taxdict[tax.get('taxonomy-id')]:\n",
    "                    kerdict[ker.get('id')]['ncbitaxon:131567'].append([tax.get('taxonomy-id'), tax.find(aopxml + 'evidence').text, taxdict[tax.get('taxonomy-id')]['dc:identifier'], taxdict[tax.get('taxonomy-id')]['dc:source'], taxdict[tax.get('taxonomy-id')]['dc:title']])\n",
    "print('Done!\\n\\nA total of ' + str(len(kerdict)) + ' Key Event Relationships have been parsed.')"
   ]
  },
  {
   "cell_type": "markdown",
   "metadata": {},
   "source": [
    "## <b>Step #4: Writing the AOP-Wiki RDF</b>\n",
    "This step involves the writing of the central RDF file, containing all information from the AOP-Wiki XML, written in Turtle (ttl) syntax."
   ]
  },
  {
   "cell_type": "code",
   "execution_count": 82,
   "metadata": {},
   "outputs": [],
   "source": [
    "g = open(filepath + 'AOPWikiRDF.ttl', 'w', encoding='utf-8')"
   ]
  },
  {
   "cell_type": "markdown",
   "metadata": {},
   "source": [
    "### Writing prefixes\n",
    "The first thing is writing the Prefixes of all ontologies and database identifiers, which go in the top of the document. That is followed by the writing of all entities of the AOP-Wiki described in Figure 1."
   ]
  },
  {
   "cell_type": "code",
   "execution_count": 83,
   "metadata": {},
   "outputs": [
    {
     "name": "stdout",
     "output_type": "stream",
     "text": [
      "@prefix dc: <http://purl.org/dc/elements/1.1/> .\n",
      "@prefix dcterms: <http://purl.org/dc/terms/> .\n",
      "@prefix rdfs: <http://www.w3.org/2000/01/rdf-schema#> .\n",
      "@prefix owl: <http://www.w3.org/2002/07/owl#> .\n",
      "@prefix foaf: <http://xmlns.com/foaf/0.1/> .\n",
      "@prefix aop: <https://identifiers.org/aop/> .\n",
      "@prefix aop.events: <https://identifiers.org/aop.events/> .\n",
      "@prefix aop.relationships: <https://identifiers.org/aop.relationships/> .\n",
      "@prefix aop.stressor: <https://identifiers.org/aop.stressor/> .\n",
      "@prefix aopo: <http://aopkb.org/aop_ontology#> .\n",
      "@prefix skos: <http://www.w3.org/2004/02/skos/core#> .\n",
      "@prefix cas: <https://identifiers.org/cas/> .\n",
      "@prefix inchikey: <https://identifiers.org/inchikey/> .\n",
      "@prefix pato: <http://purl.obolibrary.org/obo/PATO_> .\n",
      "@prefix ncbitaxon: <http://purl.bioontology.org/ontology/NCBITAXON/> .\n",
      "@prefix cl: <http://purl.obolibrary.org/obo/CL_> .\n",
      "@prefix uberon: <http://purl.obolibrary.org/obo/UBERON_> .\n",
      "@prefix go: <http://purl.obolibrary.org/obo/GO_> .\n",
      "@prefix mi: <http://purl.obolibrary.org/obo/MI_> .\n",
      "@prefix mp: <http://purl.obolibrary.org/obo/MP_> .\n",
      "@prefix mesh: <http://purl.org/commons/record/mesh/> .\n",
      "@prefix hp: <http://purl.obolibrary.org/obo/HP_> .\n",
      "@prefix pco: <http://purl.obolibrary.org/obo/PCO_> .\n",
      "@prefix nbo: <http://purl.obolibrary.org/obo/NBO_> .\n",
      "@prefix vt: <http://purl.obolibrary.org/obo/VT_> .\n",
      "@prefix pr: <http://purl.obolibrary.org/obo/PR_> .\n",
      "@prefix chebio: <http://purl.obolibrary.org/obo/CHEBI_> .\n",
      "@prefix fma: <http://purl.org/sig/ont/fma/fma> .\n",
      "@prefix cheminf: <http://semanticscience.org/resource/CHEMINF_> .\n",
      "@prefix nci: <http://ncicb.nci.nih.gov/xml/owl/EVS/Thesaurus.owl#> .\n",
      "@prefix comptox: <https://identifiers.org/comptox/> .\n",
      "@prefix mmo: <http://purl.obolibrary.org/obo/MMO_> .\n",
      "@prefix chebi: <https://identifiers.org/chebi/> .\n",
      "@prefix chemspider: <https://identifiers.org/chemspider/> .\n",
      "@prefix wikidata: <https://identifiers.org/wikidata/> .\n",
      "@prefix chembl.compound: <https://identifiers.org/chembl.compound/> .\n",
      "@prefix pubchem.compound: <https://identifiers.org/pubchem.compound/> .\n",
      "@prefix drugbank: <https://identifiers.org/drugbank/> .\n",
      "@prefix kegg.compound: <https://identifiers.org/kegg.compound/> .\n",
      "@prefix lipidmaps: <https://identifiers.org/lipidmaps/> .\n",
      "@prefix hmdb: <https://identifiers.org/hmdb/> .\n",
      "@prefix ensembl: <https://identifiers.org/ensembl/> .\n",
      "@prefix edam: <http://edamontology.org/> .\n",
      "@prefix hgnc: <https://identifiers.org/hgnc/> .\n",
      "@prefix ncbigene: <https://identifiers.org/ncbigene/> .\n",
      "@prefix uniprot: <https://identifiers.org/uniprot/> .\n",
      "@prefix rbo: <http://purl.obolibrary.org/obo/RBO_> .\n",
      "@prefix ido: <http://purl.obolibrary.org/obo/IDO_> .\n"
     ]
    }
   ],
   "source": [
    "# Load the prefixes from a CSV file\n",
    "prefixes = pd.read_csv(\"prefixes.csv\")\n",
    "\n",
    "# Format the prefixes as RDF-compatible strings\n",
    "prefix_strings = prefixes.apply(lambda row: f\"@prefix {row['prefix']}: <{row['uri']}> .\", axis=1)\n",
    "\n",
    "# Join the strings with newlines\n",
    "rdf_prefixes = \"\\n\".join(prefix_strings)\n",
    "print(rdf_prefixes)"
   ]
  },
  {
   "cell_type": "code",
   "execution_count": 84,
   "metadata": {},
   "outputs": [
    {
     "data": {
      "text/plain": [
       "2644"
      ]
     },
     "execution_count": 84,
     "metadata": {},
     "output_type": "execute_result"
    }
   ],
   "source": [
    "g.write(rdf_prefixes + \"\\n\")\n",
    "#g.write('@prefix dc: <http://purl.org/dc/elements/1.1/> .\\n@prefix dcterms: <http://purl.org/dc/terms/> .\\n@prefix rdfs: <http://www.w3.org/2000/01/rdf-schema#> .\\n@prefix owl: <http://www.w3.org/2002/07/owl#> .\\n@prefix foaf: <http://xmlns.com/foaf/0.1/> .\\n@prefix aop: <https://identifiers.org/aop/> .\\n@prefix aop.events: <https://identifiers.org/aop.events/> .\\n@prefix aop.relationships: <https://identifiers.org/aop.relationships/> .\\n@prefix aop.stressor: <https://identifiers.org/aop.stressor/> .\\n@prefix aopo: <http://aopkb.org/aop_ontology#> .\\n@prefix skos: <http://www.w3.org/2004/02/skos/core#> . \\n@prefix cas: <https://identifiers.org/cas/> .\\n@prefix inchikey: <https://identifiers.org/inchikey/> .\\n@prefix pato: <http://purl.obolibrary.org/obo/PATO_> .\\n@prefix ncbitaxon: <http://purl.bioontology.org/ontology/NCBITAXON/> .\\n@prefix cl: <http://purl.obolibrary.org/obo/CL_> .\\n@prefix uberon: <http://purl.obolibrary.org/obo/UBERON_> .\\n@prefix go: <http://purl.obolibrary.org/obo/GO_> .\\n@prefix mi: <http://purl.obolibrary.org/obo/MI_> .\\n@prefix mp: <http://purl.obolibrary.org/obo/MP_> .\\n@prefix mesh: <http://purl.org/commons/record/mesh/> .\\n@prefix hp: <http://purl.obolibrary.org/obo/HP_> .\\n@prefix pco: <http://purl.obolibrary.org/obo/PCO_> .\\n@prefix nbo: <http://purl.obolibrary.org/obo/NBO_> .\\n@prefix vt: <http://purl.obolibrary.org/obo/VT_> .\\n@prefix pr: <http://purl.obolibrary.org/obo/PR_> .\\n@prefix chebio: <http://purl.obolibrary.org/obo/CHEBI_> .\\n@prefix fma: <http://purl.org/sig/ont/fma/fma> .\\n@prefix cheminf: <http://semanticscience.org/resource/CHEMINF_> .\\n@prefix nci: <http://ncicb.nci.nih.gov/xml/owl/EVS/Thesaurus.owl#> .\\n@prefix comptox: <https://identifiers.org/comptox/> .\\n@prefix mmo: <http://purl.obolibrary.org/obo/MMO_> .\\n@prefix chebi: <https://identifiers.org/chebi/> .\\n@prefix chemspider: <https://identifiers.org/chemspider/> .\\n@prefix wikidata: <https://identifiers.org/wikidata/> .\\n@prefix chembl.compound: <https://identifiers.org/chembl.compound/> .\\n@prefix pubchem.compound: <https://identifiers.org/pubchem.compound/> .\\n@prefix drugbank: <https://identifiers.org/drugbank/> .\\n@prefix kegg.compound: <https://identifiers.org/kegg.compound/> .\\n@prefix lipidmaps: <https://identifiers.org/lipidmaps/> .\\n@prefix hmdb: <https://identifiers.org/hmdb/> .\\n@prefix ensembl: <https://identifiers.org/ensembl/> .\\n@prefix edam: <http://edamontology.org/> .\\n@prefix hgnc: <https://identifiers.org/hgnc/>.\\n@prefix ncbigene: <https://identifiers.org/ncbigene/>.\\n@prefix uniprot: <https://identifiers.org/uniprot/>.\\n@prefix rbo: <http://purl.obolibrary.org/obo/RBO_>.\\n@prefix ido: <http://purl.obolibrary.org/obo/IDO_>.\\n\\n')"
   ]
  },
  {
   "cell_type": "markdown",
   "metadata": {},
   "source": [
    "### Writing Adverse Outcome Pathway triples"
   ]
  },
  {
   "cell_type": "code",
   "execution_count": 85,
   "metadata": {},
   "outputs": [
    {
     "name": "stdout",
     "output_type": "stream",
     "text": [
      "Done!\n"
     ]
    }
   ],
   "source": [
    "for aop in aopdict:\n",
    "    g.write(aopdict[aop]['dc:identifier'] + '\\n\\ta\\taopo:AdverseOutcomePathway ;\\n\\tdc:identifier\\t' + aopdict[aop]['dc:identifier'] + ' ;\\n\\trdfs:label\\t' + aopdict[aop]['rdfs:label'] + ' ;\\n\\trdfs:seeAlso\\t' + aopdict[aop]['foaf:page'] + ' ;\\n\\tfoaf:page\\t' + aopdict[aop]['foaf:page'] + ' ;\\n\\tdc:title\\t' + aopdict[aop]['dc:title'] + ' ;\\n\\tdcterms:alternative\\t\"' + aopdict[aop]['dcterms:alternative'] + '\" ;\\n\\tdc:source\\t\"' + aopdict[aop]['dc:source'] + '\" ;\\n\\tdcterms:created\\t\"' + aopdict[aop]['dcterms:created'] + '\" ;\\n\\tdcterms:modified\\t\"' + aopdict[aop]['dcterms:modified'] + '\"')\n",
    "    if 'dc:description' in aopdict[aop]:\n",
    "        if not aopdict[aop]['dc:description'] == []:\n",
    "            g.write(' ;\\n\\tdc:description\\t' + ','.join(aopdict[aop]['dc:description']))\n",
    "    if 'nci:C25217' in aopdict[aop]:\n",
    "        g.write(' ;\\n\\tnci:C25217\\t' + aopdict[aop]['nci:C25217'])\n",
    "    if 'nci:C48192' in aopdict[aop]:\n",
    "        g.write(' ;\\n\\tnci:C48192\\t' + aopdict[aop]['nci:C48192'])\n",
    "    if 'aopo:AopContext' in aopdict[aop]:\n",
    "        g.write(' ;\\n\\taopo:AopContext\\t' + aopdict[aop]['aopo:AopContext'])\n",
    "    if 'aopo:has_evidence' in aopdict[aop]:\n",
    "        g.write(' ;\\n\\taopo:has_evidence\\t' + aopdict[aop]['aopo:has_evidence'])\n",
    "    if 'edam:operation_3799' in aopdict[aop]:\n",
    "        g.write(' ;\\n\\tedam:operation_3799\\t' + aopdict[aop]['edam:operation_3799'])\n",
    "    if 'nci:C25725' in aopdict[aop]:\n",
    "        g.write(' ;\\n\\tnci:C25725\\t' + aopdict[aop]['nci:C25725'])\n",
    "    if 'dc:creator' in aopdict[aop]:\n",
    "        g.write(' ;\\n\\tdc:creator\\t' + aopdict[aop]['dc:creator'])\n",
    "    if 'dcterms:accessRights' in aopdict[aop]:\n",
    "         g.write(' ;\\n\\tdcterms:accessRights\\t' + aopdict[aop]['dcterms:accessRights'])\n",
    "    if 'oecd-status' in aopdict[aop]:\n",
    "         g.write(' ;\\n\\tnci:C25688\\t' + aopdict[aop]['oecd-status'])\n",
    "    if 'saaop-status' in aopdict[aop]:\n",
    "         g.write(' ;\\n\\tnci:C25688\\t' + aopdict[aop]['saaop-status'])\n",
    "    if 'dcterms:abstract' in aopdict[aop]:\n",
    "        g.write(' ;\\n\\tdcterms:abstract\\t' + aopdict[aop]['dcterms:abstract'])\n",
    "    listofthings = []\n",
    "    for KE in aopdict[aop]['aopo:has_key_event']:\n",
    "        listofthings.append(aopdict[aop]['aopo:has_key_event'][KE]['dc:identifier'])\n",
    "    if not listofthings == []:\n",
    "        g.write(' ;\\n\\taopo:has_key_event\\t' + (','.join(listofthings)))\n",
    "    listofthings = []\n",
    "    for KER in aopdict[aop]['aopo:has_key_event_relationship']:\n",
    "        listofthings.append(aopdict[aop]['aopo:has_key_event_relationship'][KER]['dc:identifier'])\n",
    "    if not listofthings == []:\n",
    "        g.write(' ;\\n\\taopo:has_key_event_relationship\\t' + (','.join(listofthings)))\n",
    "    listofthings = []\n",
    "    for mie in aopdict[aop]['aopo:has_molecular_initiating_event']:\n",
    "        listofthings.append(aopdict[aop]['aopo:has_molecular_initiating_event'][mie]['dc:identifier'])\n",
    "    if not listofthings == []:\n",
    "        g.write(' ;\\n\\taopo:has_molecular_initiating_event\\t' + (','.join(listofthings)))\n",
    "    listofthings = []\n",
    "    for ao in aopdict[aop]['aopo:has_adverse_outcome']:\n",
    "        listofthings.append(aopdict[aop]['aopo:has_adverse_outcome'][ao]['dc:identifier'])\n",
    "    if not listofthings == []:\n",
    "        g.write(' ;\\n\\taopo:has_adverse_outcome\\t' + (','.join(listofthings)))\n",
    "    listofthings = []\n",
    "    for stressor in aopdict[aop]['nci:C54571']:\n",
    "        listofthings.append(aopdict[aop]['nci:C54571'][stressor]['dc:identifier'])\n",
    "    if not listofthings == []:\n",
    "        g.write(' ;\\n\\tnci:C54571\\t' + (','.join(listofthings)))\n",
    "    listofthings = []\n",
    "    if 'pato:0000047' in aopdict[aop]:\n",
    "        for sex in aopdict[aop]['pato:0000047']:\n",
    "            listofthings.append('\"' + sex[1] + '\"')\n",
    "        if not listofthings == []:\n",
    "            g.write(' ;\\n\\tpato:0000047\\t' + (','.join(listofthings)))\n",
    "    listofthings = []\n",
    "    if 'aopo:LifeStageContext' in aopdict[aop]:\n",
    "        for lifestage in aopdict[aop]['aopo:LifeStageContext']:\n",
    "            listofthings.append('\"' + lifestage[1] + '\"')\n",
    "        if not listofthings == []:\n",
    "            g.write(' ;\\n\\taopo:LifeStageContext\\t' + (','.join(listofthings)))\n",
    "    g.write(' .\\n\\n')\n",
    "print(\"Done!\")"
   ]
  },
  {
   "cell_type": "markdown",
   "metadata": {},
   "source": [
    "### Writing Key Event triples\n",
    "This step also includes the extraction of the cell-terms and organ-terms, which are written to the file later."
   ]
  },
  {
   "cell_type": "code",
   "execution_count": 86,
   "metadata": {},
   "outputs": [
    {
     "name": "stdout",
     "output_type": "stream",
     "text": [
      "Done!\n"
     ]
    }
   ],
   "source": [
    "cterm = {}\n",
    "oterm = {}\n",
    "for ke in kedict:\n",
    "    g.write(kedict[ke]['dc:identifier'] + '\\n\\ta\\taopo:KeyEvent ;\\n\\tdc:identifier\\t' + kedict[ke]['dc:identifier'] + ' ;\\n\\trdfs:label\\t' + kedict[ke]['rdfs:label'] + ' ;\\n\\tfoaf:page\\t' + kedict[ke]['foaf:page'] + ' ;\\n\\trdfs:seeAlso\\t' + kedict[ke]['foaf:page'] + ' ;\\n\\tdc:title\\t' + kedict[ke]['dc:title'] + ' ;\\n\\tdcterms:alternative\\t\"' + kedict[ke]['dcterms:alternative'] + '\" ;\\n\\tdc:source\\t\"' + kedict[ke]['dc:source'] + '\"')\n",
    "    if 'dc:description' in kedict[ke]:\n",
    "        g.write(' ;\\n\\tdc:description\\t' + kedict[ke]['dc:description'])\n",
    "    if 'mmo:0000000' in kedict[ke]:\n",
    "        g.write(' ;\\n\\tmmo:0000000\\t' + kedict[ke]['mmo:0000000'])\n",
    "    if 'nci:C25664' in kedict[ke]:\n",
    "        g.write(' ;\\n\\tnci:C25664\\t' + kedict[ke]['nci:C25664'])\n",
    "    listofthings = []\n",
    "    if 'pato:0000047' in kedict[ke]:\n",
    "        for sex in kedict[ke]['pato:0000047']:\n",
    "            listofthings.append('\"' + sex[1] + '\"')\n",
    "        if not listofthings == []:\n",
    "            g.write(' ;\\n\\tpato:0000047\\t' + (','.join(listofthings)))\n",
    "    listofthings = []\n",
    "    if 'aopo:LifeStageContext' in kedict[ke]:\n",
    "        for lifestage in kedict[ke]['aopo:LifeStageContext']:\n",
    "            listofthings.append('\"' + lifestage[1] + '\"')\n",
    "        if not listofthings == []:\n",
    "            g.write(' ;\\n\\taopo:LifeStageContext\\t' + (','.join(listofthings)))\n",
    "    listofthings = []\n",
    "    if 'ncbitaxon:131567' in kedict[ke]:\n",
    "        for taxonomy in kedict[ke]['ncbitaxon:131567']:\n",
    "            listofthings.append(taxonomy[2])\n",
    "        if not listofthings == []:\n",
    "            g.write(' ;\\n\\tncbitaxon:131567\\t' + (','.join(listofthings)))\n",
    "    listofthings = []\n",
    "    if 'nci:C54571' in kedict[ke]:\n",
    "        for stressor in kedict[ke]['nci:C54571']:\n",
    "            listofthings.append(kedict[ke]['nci:C54571'][stressor]['dc:identifier'])\n",
    "        if not listofthings == []:\n",
    "            g.write(' ;\\n\\tnci:C54571\\t' + (','.join(listofthings)))\n",
    "    if 'aopo:CellTypeContext' in kedict[ke]:\n",
    "        g.write(' ;\\n\\taopo:CellTypeContext\\t' + kedict[ke]['aopo:CellTypeContext']['dc:identifier'][0])\n",
    "        if not kedict[ke]['aopo:CellTypeContext']['dc:identifier'][0] in cterm:\n",
    "            cterm[kedict[ke]['aopo:CellTypeContext']['dc:identifier'][0]] = {}\n",
    "            cterm[kedict[ke]['aopo:CellTypeContext']['dc:identifier'][0]]['dc:source'] = kedict[ke]['aopo:CellTypeContext']['dc:source']\n",
    "            cterm[kedict[ke]['aopo:CellTypeContext']['dc:identifier'][0]]['dc:title'] = kedict[ke]['aopo:CellTypeContext']['dc:title']\n",
    "    if 'aopo:OrganContext' in kedict[ke]:\n",
    "        g.write(' ;\\n\\taopo:OrganContext\\t' + kedict[ke]['aopo:OrganContext']['dc:identifier'][0])\n",
    "        if not kedict[ke]['aopo:OrganContext']['dc:identifier'][0] in oterm:\n",
    "            oterm[kedict[ke]['aopo:OrganContext']['dc:identifier'][0]] = {}\n",
    "            oterm[kedict[ke]['aopo:OrganContext']['dc:identifier'][0]]['dc:source'] = kedict[ke]['aopo:OrganContext']['dc:source']\n",
    "            oterm[kedict[ke]['aopo:OrganContext']['dc:identifier'][0]]['dc:title'] = kedict[ke]['aopo:OrganContext']['dc:title']\n",
    "    if 'biological-event' in kedict[ke]:\n",
    "        if len(kedict[ke]['biological-event']['go:0008150']) > 0:\n",
    "            g.write(' ;\\n\\tgo:0008150\\t' + (','.join(kedict[ke]['biological-event']['go:0008150'])))\n",
    "        if len(kedict[ke]['biological-event']['pato:0000001']) > 0:\n",
    "            g.write(' ;\\n\\tpato:0000001\\t' + (','.join(kedict[ke]['biological-event']['pato:0000001'])))\n",
    "        if len(kedict[ke]['biological-event']['pato:0001241']) > 0:\n",
    "            g.write(' ;\\n\\tpato:0001241\\t' + (','.join(kedict[ke]['biological-event']['pato:0001241'])))\n",
    "    listofthings = []\n",
    "    for aop in aopdict:\n",
    "        if ke in aopdict[aop]['aopo:has_key_event']:\n",
    "            listofthings.append(aopdict[aop]['dc:identifier'])\n",
    "    if not listofthings == []:\n",
    "        g.write(' ;\\n\\tdcterms:isPartOf\\t' + (','.join(listofthings)))\n",
    "    g.write(' .\\n\\n')\n",
    "print(\"Done!\")"
   ]
  },
  {
   "cell_type": "markdown",
   "metadata": {},
   "source": [
    "### Writing Key Event Relationship triples"
   ]
  },
  {
   "cell_type": "code",
   "execution_count": 87,
   "metadata": {},
   "outputs": [
    {
     "name": "stdout",
     "output_type": "stream",
     "text": [
      "Done!\n"
     ]
    }
   ],
   "source": [
    "for ker in kerdict:\n",
    "    g.write(kerdict[ker]['dc:identifier'] + '\\n\\ta\\taopo:KeyEventRelationship ;\\n\\tdc:identifier\\t' + kerdict[ker]['dc:identifier'] + ' ;\\n\\trdfs:label\\t' + kerdict[ker]['rdfs:label'] + ' ;\\n\\tfoaf:page\\t' + kerdict[ker]['foaf:page'] + ' ;\\n\\trdfs:seeAlso\\t' + kerdict[ker]['foaf:page'] + ' ;\\n\\tdcterms:created\\t\"' + kerdict[ker]['dcterms:created'] + '\" ;\\n\\tdcterms:modified\\t\"' + kerdict[ker]['dcterms:modified'] + '\" ;\\n\\taopo:has_upstream_key_event\\t' + kerdict[ker]['aopo:has_upstream_key_event']['dc:identifier'] + ' ;\\n\\taopo:has_downstream_key_event\\t' + kerdict[ker]['aopo:has_downstream_key_event']['dc:identifier'])\n",
    "    if 'dc:description' in kerdict[ker]:\n",
    "        g.write(' ;\\n\\tdc:description\\t' + kerdict[ker]['dc:description'])\n",
    "    if 'nci:C80263' in kerdict[ker]:\n",
    "        g.write(' ;\\n\\tnci:C80263\\t' + kerdict[ker]['nci:C80263'])\n",
    "    if 'edam:data_2042' in kerdict[ker]:\n",
    "        g.write(' ;\\n\\tedam:data_2042\\t' + kerdict[ker]['edam:data_2042'].replace(\"\\\\\", \"\"))\n",
    "    if 'nci:C71478' in kerdict[ker]:\n",
    "        g.write(' ;\\n\\tnci:C71478\\t' + kerdict[ker]['nci:C71478'].replace(\"\\\\\", \"\"))\n",
    "    listofthings = []\n",
    "    if 'pato:0000047' in kerdict[ker]:\n",
    "        for sex in kerdict[ker]['pato:0000047']:\n",
    "            listofthings.append('\"' + sex[1] + '\"')\n",
    "        if not listofthings == []:\n",
    "            g.write(' ;\\n\\tpato:0000047\\t' + (','.join(listofthings)))\n",
    "    listofthings = []\n",
    "    if 'aopo:LifeStageContext' in kerdict[ker]:\n",
    "        for lifestage in kerdict[ker]['aopo:LifeStageContext']:\n",
    "            listofthings.append('\"' + lifestage[1] + '\"')\n",
    "        if not listofthings == []:\n",
    "            g.write(' ;\\n\\taopo:LifeStageContext\\t' + (','.join(listofthings)))\n",
    "    listofthings = []\n",
    "    if 'ncbitaxon:131567' in kerdict[ker]:\n",
    "        for taxonomy in kerdict[ker]['ncbitaxon:131567']:\n",
    "            listofthings.append(taxonomy[2])\n",
    "        if not listofthings == []:\n",
    "            g.write(' ;\\n\\tncbitaxon:131567\\t' + (','.join(listofthings)))\n",
    "    listofthings = []\n",
    "    for aop in aopdict:\n",
    "        if ker in aopdict[aop]['aopo:has_key_event_relationship']:\n",
    "            listofthings.append(aopdict[aop]['dc:identifier'])\n",
    "    if not listofthings == []:\n",
    "        g.write(' ;\\n\\tdcterms:isPartOf\\t' + (','.join(listofthings)))\n",
    "    g.write(' .\\n\\n')\n",
    "print(\"Done!\")"
   ]
  },
  {
   "cell_type": "markdown",
   "metadata": {},
   "source": [
    "### Writing Taxonomy triples"
   ]
  },
  {
   "cell_type": "code",
   "execution_count": 88,
   "metadata": {},
   "outputs": [
    {
     "name": "stdout",
     "output_type": "stream",
     "text": [
      "Done!\n"
     ]
    }
   ],
   "source": [
    "for tax in taxdict:\n",
    "    if 'dc:identifier' in taxdict[tax]:\n",
    "        if '\"' not in taxdict[tax]['dc:identifier']:\n",
    "            g.write(taxdict[tax]['dc:identifier'] + '\\n\\ta\\tncbitaxon:131567 ;\\n\\tdc:identifier\\t' + taxdict[tax]['dc:identifier'] + ' ;\\n\\tdc:title\\t\"' + taxdict[tax]['dc:title'])\n",
    "            if taxdict[tax]['dc:source'] is not None:\n",
    "                g.write('\" ;\\n\\tdc:source\\t\"' + taxdict[tax]['dc:source'])\n",
    "            g.write('\" .\\n\\n')\n",
    "print(\"Done!\")"
   ]
  },
  {
   "cell_type": "markdown",
   "metadata": {},
   "source": [
    "### Writing Stressor triples"
   ]
  },
  {
   "cell_type": "code",
   "execution_count": 89,
   "metadata": {},
   "outputs": [
    {
     "name": "stdout",
     "output_type": "stream",
     "text": [
      "Done!\n"
     ]
    }
   ],
   "source": [
    "for stressor in strdict:\n",
    "    g.write(strdict[stressor]['dc:identifier'] + '\\n\\ta\\tnci:C54571 ;\\n\\tdc:identifier\\t' + strdict[stressor]['dc:identifier'] + ' ;\\n\\trdfs:label\\t' + strdict[stressor]['rdfs:label'] + ' ;\\n\\tfoaf:page\\t' + strdict[stressor]['foaf:page'] + ' ;\\n\\tdc:title\\t' + strdict[stressor]['dc:title'] + ' ;\\n\\tdcterms:created\\t\"' + strdict[stressor]['dcterms:created'] + '\" ;\\n\\tdcterms:modified\\t\"' + strdict[stressor]['dcterms:modified'] + '\"')\n",
    "    if 'dc:description' in strdict[stressor]:\n",
    "        g.write(' ;\\n\\tdc:description\\t' + strdict[stressor]['dc:description'])\n",
    "    listofthings = []\n",
    "    for chem in strdict[stressor]['linktochemical']:\n",
    "        listofthings.append(chedict[chem]['dc:identifier'])\n",
    "    if not listofthings == []:\n",
    "        g.write(' ;\\n\\taopo:has_chemical_entity\\t' + ','.join(listofthings))\n",
    "    listofthings = []\n",
    "    for ke in kedict:\n",
    "        if 'nci:C54571' in kedict[ke]:\n",
    "            if stressor in kedict[ke]['nci:C54571']:\n",
    "                listofthings.append(kedict[ke]['dc:identifier'])\n",
    "    for item in listofthings:\n",
    "        for ke in kedict:\n",
    "            if kedict[ke]['dc:identifier'] == item:\n",
    "                for aop in aopdict:\n",
    "                    if ke in aopdict[aop]['aopo:has_key_event'] and aopdict[aop]['dc:identifier'] not in listofthings:\n",
    "                        listofthings.append(aopdict[aop]['dc:identifier'])\n",
    "    for aop in aopdict:\n",
    "        if stressor in aopdict[aop]['nci:C54571']:\n",
    "                if not aopdict[aop]['dc:identifier'] in listofthings:\n",
    "                    listofthings.append(aopdict[aop]['dc:identifier'])\n",
    "    if not listofthings == []:\n",
    "        g.write(' ;\\n\\tdcterms:isPartOf\\t' + (','.join(listofthings)))\n",
    "    g.write(' .\\n\\n')\n",
    "print(\"Done!\")"
   ]
  },
  {
   "cell_type": "markdown",
   "metadata": {},
   "source": [
    "### Writing Biological Process triples"
   ]
  },
  {
   "cell_type": "code",
   "execution_count": 90,
   "metadata": {},
   "outputs": [
    {
     "name": "stdout",
     "output_type": "stream",
     "text": [
      "None\n",
      "48d9321c-67a1-4402-ac29-1b45c31ac5c0\n",
      "2864765b-3256-4caf-819f-565965abd874\n",
      "00bb623d-8daa-406b-b1f8-e3e2926b20b5\n",
      "551183d4-0798-442a-bc5c-5d4f8edb6c84\n",
      "633c07c9-ebe0-4cfe-978c-97f82b5f7302\n",
      "c8e51268-4725-4c61-be93-6116eed5471b\n",
      "adfa3d9b-3fc5-4de9-b1c4-fe2b949ea277\n",
      "e71f779c-8feb-4807-894e-84057fff6233\n",
      "5f0ab70a-3f65-476a-9907-971eab056779\n",
      "ed9040e3-fa19-4515-9dfa-47229de4537e\n",
      "bedd5e40-cd20-4876-bc64-ab061bd3df89\n",
      "1eeaf1e0-e9db-457c-95e6-81c78de4fbab\n",
      "e8bbd9c4-a7e8-468b-9a1a-0bba991c0f5c\n",
      "3c7253b4-6b54-432f-9773-660f58e5a253\n",
      "cbe1b89d-3670-40de-b9e7-898c62b2177c\n",
      "b228629a-0ec2-4d2f-bd2b-fd294acc0fdc\n",
      "e6bd719e-ef68-4a76-a82e-50a6f5b50588\n",
      "d8d5ed27-4181-4927-b519-78cf1bba00cd\n",
      "46742984-4572-47cb-a7dd-8d8ecef94e1c\n",
      "407d09c6-630c-4474-8b6a-50d8a45a47d7\n",
      "9873512b-8a4c-4531-ab18-bd4889628638\n",
      "e5424cb9-073d-4c4f-bd74-74fc4ac4af4e\n",
      "273e6ff7-dc1b-4441-94d4-ac55f04e765f\n",
      "b80cdaaf-c22a-49e0-bdc8-abaa3d096449\n",
      "c2dc4951-1911-4d2e-8911-4ccb60f8419c\n",
      "b4c43c11-2aa8-4b23-8b4a-7260be3d21df\n",
      "c1a958f8-0095-4d66-a7b3-fedae78833ff\n",
      "8429c250-8f30-4d56-be00-d197e11885b2\n",
      "d1cb58ac-dd56-48b3-a89b-1f19cd6250ec\n",
      "57751a59-173b-4bbc-ae4a-954708d48f42\n",
      "192c20cd-c533-4199-a95d-fd7aa150b5cb\n",
      "d182932f-1d00-42e7-a3c8-6b83ff254dd4\n",
      "bc404a6b-6b74-45fd-8e03-59d38012d29e\n",
      "36c3701d-a49b-4592-97be-b973025fce8b\n",
      "92cea744-2b64-4a9f-8516-153247ca71db\n",
      "db943c90-5315-44c5-be02-7a158946c2c8\n",
      "9fa0bfdc-413e-49f2-9d3b-f15bff37fd77\n",
      "cdc76e57-b948-442d-8ae2-6b4514e70d74\n",
      "371e05e3-8c9e-4c3a-986d-81abb5a836a3\n",
      "3b899dc9-7ca3-4dc7-b27a-735ff2015057\n",
      "bdad6b14-62f5-4180-80e2-a237a6942bae\n",
      "fc99ec71-8a8e-4231-a5d5-0be0392f7fb2\n",
      "946d9ba1-f4f2-48ab-86a4-46903cf9baa3\n",
      "192b3f1c-260a-4e33-88d3-0859328c5f6d\n",
      "73162e2b-ca42-4bff-bddb-fa8192bcef62\n",
      "5a5eef74-cd6f-4ab7-8ed6-c29683e1daee\n",
      "1d4eda57-da4a-4953-8b9b-25d3ee038b67\n",
      "6c93800a-285a-4bac-9de9-9e42c52fa9ba\n",
      "fbce94c9-8773-4aa0-b4a5-e8f27d7ae493\n",
      "1b3a06c9-40e0-4830-85d5-51900afd700e\n",
      "a5070586-5249-4fe7-a927-bf458aa430e6\n",
      "8fa7918b-98e4-4210-8b10-34209efcd91f\n",
      "aaca2d68-206a-4b69-8d6f-c5b376c1240b\n",
      "c982841e-348a-46ea-bc2f-2880ee77f2c5\n",
      "1ed6220d-6f1e-4ea4-ab7a-db198ee289de\n",
      "9196d4f0-4404-4bd9-b92a-84f2be351d52\n",
      "598ec68b-97e6-45da-8079-00f2a97ede17\n",
      "fd94d967-6d39-4a10-bdb5-6e4fc09effa5\n",
      "20009356-0cc1-43bf-ad7d-39f95de307cf\n",
      "696f452d-f424-44a5-98a4-15bd89140efe\n",
      "37534a60-b21d-4ce7-b708-67597ced6a47\n",
      "7d906772-6c26-4bd6-bb06-89c1ed8adf83\n",
      "da101a12-633c-4cd9-b4dd-f679103d2505\n",
      "364183df-b052-4d67-a2ea-489eead18367\n",
      "05df8795-229c-49dd-b78b-ae4a83c75419\n",
      "141a4b9b-9df0-46e6-8592-7124a757c5c8\n",
      "8a3c9362-5136-41f7-b925-983a0a38c4d4\n",
      "9d44f96a-1ee8-42af-a6a4-ed43f024a864\n",
      "d6eea682-76a8-4e5e-83c5-a92b959bb927\n",
      "0694b983-cef5-47ca-bb59-5e9bf0a43ea7\n",
      "0b9c5c06-e4c8-43f8-b5ea-5a3f1260c7ef\n",
      "a43d6c51-a6a2-49f5-acd6-641530d3b52d\n",
      "256db8d6-c9bd-40b5-aef9-6300ac54e8ae\n",
      "681d24b9-9025-41f3-b997-7c20698fae1c\n",
      "8727cd37-7e73-4034-89b1-ffb85646f580\n",
      "9e1d6c15-142f-4c25-9781-3dba9c256c57\n",
      "bdd67077-bfd5-4d1b-b04b-d2b96f8d59c4\n",
      "456398f8-7399-4750-a3dd-f59aad3e0882\n",
      "496b0262-afac-4569-ac47-debb75e692f9\n",
      "715eb06e-bd04-4a6a-b7cb-4d597877f4e4\n",
      "74a2b084-e5df-4664-9e50-b322883f5181\n",
      "595e0dfc-e75d-4b5a-a05e-fc232b39a8a8\n",
      "c3c9dbd1-d79e-4ea0-aa46-be6cf8ef4877\n",
      "c227fc44-ed9a-4401-93f8-dc589a8ac8cb\n",
      "1e6ba504-f752-4d43-afb9-c1947ebad5a4\n",
      "eeceec76-8530-4356-ae9c-92872a006260\n",
      "0c1c1a3b-c879-49e5-9405-6b7e7f15a4ee\n",
      "5c91107f-9adf-4fbb-8733-2c42b0ef7aac\n",
      "9fc8bb74-e727-4b30-a17c-f28a3e7e405a\n",
      "1e2b38b4-f7f8-455f-a609-136b89900c77\n",
      "3b838f80-57ae-47a8-a33b-052583ef43ea\n",
      "b6128357-134a-4448-a5a0-81e15d000665\n",
      "09a747d4-3495-48e6-bf37-71ed6e7920ed\n",
      "66245a29-1af1-4859-af8a-7e2af8d6e79a\n",
      "c18ff3e5-ac87-4e3a-b634-9b93123bcd78\n",
      "21c32fcb-3893-41d5-a6ad-d6fd9aeaaef7\n",
      "45214115-ca73-48dd-94b2-1199d0f0e87e\n",
      "0ec26bcb-42d0-4082-ac78-abd8252c5da8\n",
      "d26db8d1-7459-453c-a49d-ae31e4388e61\n",
      "0804c8dd-1889-47ad-8d33-84a2e83fdd7f\n",
      "ecf2b201-6447-49a5-a3f1-51c15639a7fd\n",
      "02eb5640-5b9c-42d9-9717-b1241988f4dd\n",
      "bcda46b9-4cda-475a-81ed-51d0857bfac3\n",
      "c112e7bb-5f86-4c12-95a8-b45c7169c7e1\n",
      "360b882d-05f3-4fb9-b4cc-7aa79d3a8799\n",
      "262b5a66-0a34-477c-be77-9e259eb7e3bc\n",
      "77d3a4d1-c747-4439-8cd6-a0bb7894dae5\n",
      "8ee3cfae-de1c-4e3f-8c9c-2f6821f54677\n",
      "c04ad321-1a83-4474-8f1f-b7cc174bc206\n",
      "a2e20c85-177c-4d61-8547-16fa7af2a7a9\n",
      "ed2af412-9088-4998-8d51-4797cf451052\n",
      "32c02599-1e6f-47b0-8eb7-1c8b4a8d6469\n",
      "1b9193a8-2b1d-49e6-abb8-24ab41b71a5b\n",
      "d67d59ad-5816-401a-943b-3be6555309d5\n",
      "2ebb2b57-4275-4a4b-a44e-31f1645f83f5\n",
      "1ee713ba-7e45-4ecf-a22f-091d7af69465\n",
      "101fdd33-4549-4ff5-8c13-e5e637be5f85\n",
      "6d6beeb6-3582-46a0-8ebe-ea9feaec06df\n",
      "f5b47751-23ba-471e-9d1d-1ed10957af1d\n",
      "757df2c3-8d88-4053-b479-916902870865\n",
      "f8bc5ee5-bb29-4649-935c-cb1597d36390\n",
      "ce0ba093-5f81-4f2f-b68b-9247d23c4a7d\n",
      "1a100339-ac59-4675-ba99-ef36732cf39c\n",
      "8641efa6-da0b-41b7-93e3-f534d1f733ac\n",
      "f80be509-616d-4c0e-aa6a-1a9b61ab10a4\n",
      "8973e478-bda5-4663-bcb3-c446f52043b1\n",
      "42162fc7-398b-47bd-a182-28476c7922b5\n",
      "e627a2ad-2e02-4ad5-be9b-b11dd8142801\n",
      "87b4deb9-088b-409c-a637-a20fab19faa0\n",
      "6baa88ad-81d9-4844-944e-9404fb265c06\n",
      "df52ed8f-6a19-4b45-bda7-ae87aa1b7423\n",
      "a3087750-1860-4fb9-8b6a-d0cb31840ad2\n",
      "8a86e475-398f-4c1f-a019-28ff56461e4d\n",
      "543e7ab9-63d9-429a-9b93-03ca57afb243\n",
      "4fc2ad8a-6804-4e98-9326-9edbaf90fe3e\n",
      "f1a667cc-1418-4edd-8c76-6c63dd3e02f9\n",
      "1eae2a73-aa0a-4a2b-84aa-198a441894c3\n",
      "05b829a3-d1b6-4c14-ab6c-ab132f2a095e\n",
      "04dd5f6a-5b1f-481c-a281-09ec7b1e986f\n",
      "fc5639c7-50d9-4a30-9eaa-281ce504697d\n",
      "3f44736a-26cf-434c-b817-07a018f3b932\n",
      "b71c94c9-58a9-4004-b025-e74786aba923\n",
      "7f3b4e12-21cd-4557-a405-2d8d6ff0e86f\n",
      "2054608d-4c45-42db-b0ab-a372316e6a10\n",
      "47c5a9f9-c0b3-4904-a5ae-60df9ed8f122\n",
      "330231b1-bcfa-48e0-8b2f-0db534c81871\n",
      "d2f31fb7-d7d9-4890-a503-57a32b82ae77\n",
      "4852e898-a9a3-47a3-adeb-fad45ea0f5a9\n",
      "8aa135fa-c452-407f-aa03-4fbb52624f95\n",
      "2b0a164e-56ae-43df-b6a3-35f1a7026d68\n",
      "d84ef22e-3c64-4dec-99f7-9323fd71fa9e\n",
      "4c828aa1-1d8e-40a0-981e-1031f3a12f14\n",
      "5befc986-d71c-4c85-a61d-14fb991b55c3\n",
      "48c872cf-47e5-4d87-b25a-2252deb5b840\n",
      "50d80f06-873d-475c-a7dc-4c3cb8c88d8e\n",
      "eabb477d-b00a-4d47-a631-e65df1bd64a0\n",
      "9f196ad4-0d8d-40ba-ba17-ef7ccdeca1e0\n",
      "91a72c55-3886-4a31-8e36-af0c20f3f2f6\n",
      "ec0eb62b-fa5f-425e-ab9a-9279f5467cab\n",
      "e506426b-13b4-41c9-af37-63aa35ba1180\n",
      "b4f6f56a-7479-48f9-bbde-1bb5f24dbfaf\n",
      "eb434b8e-07aa-44df-bf5c-075efb014869\n",
      "9468f75c-9af9-4170-9251-a0d60b94a245\n",
      "e3efe16b-6d3b-4bc1-8897-2aac3dfe606f\n",
      "5d78a9b4-9e55-441e-9a4f-954204a2a8db\n",
      "f6203204-d2a5-43f0-8157-ac384524d562\n",
      "70a193cc-7593-4037-9188-fd9758e5c9c3\n",
      "475edfe2-1eff-4e80-81ab-27e0ec876ef8\n",
      "d5e596d7-f831-4508-b8b1-e3769aa341d0\n",
      "8a28398a-2f3f-46f5-a304-35699c30e927\n",
      "c2abe088-0050-4f6c-83ea-c72f2727eee1\n",
      "f0dfd3cd-c646-4014-9da8-7560434701e9\n",
      "3ec11df6-ceee-49ec-ab99-ad7511eb80f7\n",
      "84480e02-3f00-4518-9e06-f135b10b2205\n",
      "5cbfb66d-90ae-41ce-ae16-bb784fb2279a\n",
      "d28d156d-8a71-4c1a-af64-14c2f3f88662\n",
      "0a9599a4-8c51-4f02-8923-2dc02c6a3bb9\n",
      "049452c6-c2e8-406a-964a-b9b1bae69117\n",
      "79724d0b-15ec-4562-adab-8c1f4defafed\n",
      "dab5e1df-3feb-483f-af2b-3d6409ee5cb7\n",
      "b0e3530a-774e-4a30-be97-49be98759038\n",
      "e437deec-10d8-4bf6-bf3e-936f542cbb2d\n",
      "a293c3d4-b55e-41fc-87b1-cd2e4961ba11\n",
      "9b4914c5-d609-4642-8392-3f42a496e7bf\n",
      "df06712a-20d2-4636-9aff-c912816d521b\n",
      "4012e239-fc24-4a70-9d50-e9ef4adfbaf8\n",
      "befe5af5-bf16-4063-8c4a-43e036a20075\n",
      "4f79b34e-fdd6-41a9-b34b-dc3fecf6db3a\n",
      "96a758f3-86b8-4400-86ed-bf3493e6f709\n",
      "16974757-0950-4218-873b-2eb520a3fa74\n",
      "517127ae-4a25-4684-9fc6-fd2c36f933b3\n",
      "00b8caa8-ce86-47b4-adf7-268b16a1e88f\n",
      "3ba2be17-cba3-41d4-a83a-9fbddcd8f037\n",
      "e18922ab-a037-4575-85e1-e37c40220baa\n",
      "acaf01f7-3f3b-4c70-85c6-3f61ce0bf0ef\n",
      "e6aa4ee7-c420-4cb1-b9a6-953974e4afbc\n",
      "cea6d4b3-f2ce-4f3c-9174-524e1af6d3a3\n",
      "81a5547d-f35b-4123-b8c8-47c3e257f002\n",
      "4a489c8c-5543-470e-83f3-d21f441cfc44\n",
      "79f90fe7-f100-4d0c-8915-3784644bc3fd\n",
      "92cfb455-7d67-410f-8e1e-d7468596a485\n",
      "368c8df2-8980-4a6f-9d3f-f2789baef9f0\n",
      "aefb682e-f133-435a-8e8f-d4aa5bfd8bd3\n",
      "7ae883eb-3bac-477e-a74e-a74b708b2000\n",
      "8d375b24-6f1c-4ac0-a7ca-8f1788693b7a\n",
      "6ecd69b6-0c45-49b6-985e-e7f264048bf3\n",
      "01e86d35-96fd-4232-b4a2-9bd0b838f02b\n",
      "c4c29b5a-c835-48de-9941-6bb4f0f6bb77\n",
      "154c0e7c-af50-4a6f-b921-e37635f6558b\n",
      "3b97ed28-2b63-4e56-ac00-56fd565b4dff\n",
      "cedb9c1b-6a90-4514-9844-7928998965ae\n",
      "f58443af-e379-4774-9e73-d9f127208f6c\n",
      "8dac4786-c723-4db9-b2af-93a7f450d76e\n",
      "a3fcf099-265f-427f-9cab-70084a860fc3\n",
      "3126016a-8348-4ba7-bcda-b3b6b7dc2a3f\n",
      "6d16ad9c-89d7-43e5-a887-3a9b40ebf3c2\n",
      "035db08e-67b3-4e6c-bfcf-e5aea5bde7e5\n",
      "71eed012-d959-4e85-8746-f569a179a711\n",
      "05579b32-3b41-46f0-8903-01b2248a6303\n",
      "081748a8-3a8e-4d15-87a1-242a534842ab\n",
      "59945751-020c-4f2b-a9d0-51b013a2bfbe\n",
      "5922a605-2734-4739-a9de-b7969220de3e\n",
      "b3c40030-50c7-4141-9dc5-91acdf00195f\n",
      "07dc4de7-c799-4041-a37d-2a95bd8b122f\n",
      "8e585c0d-8c21-41c3-87ba-347bdf17a433\n",
      "ce0c726b-0a09-4a30-aceb-96706f2dd242\n",
      "15ae7e2d-0362-4766-a301-82f5704a7cf4\n",
      "242ff12e-b12a-43aa-9a14-ce270d8d2b02\n",
      "d6d11fbd-4303-4ebd-a92d-be4903ad6ecd\n",
      "5eada50d-0f8a-4c20-a1b2-79ef8b7cfd87\n",
      "b7710fbc-c167-446b-a968-866c47d94cee\n",
      "471c19c0-7890-4630-a5f7-a6ed2334c545\n",
      "e486b327-9f1b-43b2-8b35-23bff121c916\n",
      "1203c73d-40dc-4be1-afa9-3c464c26d09f\n",
      "109b4222-ad36-4911-9264-ffeb3d914f74\n",
      "084ede1e-5732-4b56-a5fc-5e02241b52d9\n",
      "d5f82516-5c09-4898-a784-dac8a8eff1c8\n",
      "b1083a2c-2f55-4101-97b6-b4abc216a62f\n",
      "8c0e2448-f9f2-4a50-b98d-f082e3789ebf\n",
      "fbeb7586-ce3c-42f3-bea2-1adde03dab40\n",
      "005ec499-9a23-475e-af34-03b30055f753\n",
      "288d84ff-a97b-4516-91f5-33b542aa86c4\n",
      "97a5b664-708d-443e-89a8-9641dd89dcbb\n",
      "2bbf4d9f-ea1d-491a-a98c-fd2911d4d1c2\n",
      "9a31c58d-d98d-4ead-bb9d-705196ce1b62\n",
      "a1bfcf9c-1135-4cb1-8690-440d17f4a9d4\n",
      "781c06da-360f-41df-b2d3-199b36888c28\n",
      "d14c29ff-4586-424e-a1ce-72042bbe576f\n",
      "0aaa2427-1788-47f5-895c-4dc8ea9c1a05\n",
      "7816f644-34e5-4764-aada-85165ca90962\n",
      "5a28e1bd-891d-4d58-adc0-42ad88d57451\n",
      "93cbb282-0b6c-4ddb-8f06-1cf656f21fa4\n",
      "8a92e347-9c77-4fd1-9311-6fa1c66b1db8\n",
      "0a8820d5-482f-4598-8c8f-94969fba412c\n",
      "ef2492d4-84e8-4d8d-997c-ef1e78f6e628\n",
      "dcc91366-e14b-4caa-bd14-3681799d86e5\n",
      "b2fb40bd-e1c0-4955-9637-b79579bdba11\n",
      "8df8c3c0-c0fa-4740-80e2-e48b88e3c4d6\n",
      "41f6cbcf-bc91-48d1-9757-d6f811c6921a\n",
      "b26114c7-0c80-4fd7-bbbf-4edfee781634\n",
      "16b348e5-f30d-470c-8581-81d632a4ec0b\n",
      "4700611f-ad60-4e87-a878-b22ba985b754\n",
      "0bc7c6e6-2cbf-493e-9fcf-fecfe5a69b86\n",
      "5e2c194b-ca8f-4cd8-894d-543d64f50743\n",
      "a401b94c-3e8d-4fca-9ec9-a212692f98e6\n",
      "c04814e2-0280-4e33-9168-589dc49bdd69\n",
      "10114f47-066b-41db-b091-6f058156e7ab\n",
      "deb9adfd-152b-445b-9c87-d2bd2a7141d9\n",
      "803e5990-c94c-4418-b33e-ce357488d557\n",
      "2fe4eed6-9c9f-426b-8569-6496304f2162\n",
      "3fd7653c-2889-47fa-b25a-a9000bcc2659\n",
      "05ae8b32-9ec4-47a5-a50e-91fbb12f7815\n",
      "43d6dc7f-6194-48b5-89a6-c17bdab89a58\n",
      "32be3e30-a271-480d-94a4-9a0bd87726ce\n",
      "50a9738d-641e-477a-a5b6-19b744957ff7\n",
      "195cb31b-919e-4e6c-8335-edc159a66b37\n",
      "0240e450-a4b4-468a-b3f1-881909c2f691\n",
      "36e7e232-3424-4993-acb8-1d6cf425f1a4\n",
      "5c3c0498-f8ff-49b9-9b5c-404b143ea753\n",
      "aaf53f22-24d3-4e23-a0d7-788fbad1ed7c\n",
      "612023a2-f545-4286-8f89-a6e507bcf02e\n",
      "048bd045-25ee-4751-9358-d7dec526d324\n",
      "aef4e80f-0800-4cae-9a76-9a22c0e63de6\n",
      "160b7dd6-81c8-4c67-8ed8-2ab47929cb4a\n",
      "de135c28-9d7d-4d6a-ae46-75eabbc92237\n",
      "b88a8dd0-430c-4c96-8e5e-6c54d1828e0c\n",
      "ba0226c9-96dc-412b-aa47-117651ec4072\n",
      "1718b672-6611-43f0-918d-b1ff15aff065\n",
      "0c493715-ee8d-4b0c-9223-7d58ce0bb643\n",
      "de1e7530-5eef-4e95-82c9-2b7d7c3978ec\n",
      "958288e4-2780-4956-a445-d43307ad357a\n",
      "9ab74b90-4dbf-4ae1-a585-8e41b6fce950\n",
      "5e3369c8-0930-416b-84ea-ebd3f35997fb\n",
      "530ed066-529a-47c1-80ed-a66a2aa69ad8\n",
      "6401320f-3e3d-4d4a-bc26-baae0eac401d\n",
      "6daa5af7-f57c-4933-85ec-ae55e906774b\n",
      "cafd5fa9-64dc-49d4-ba8a-1dcc4602e746\n",
      "864676e6-6d71-4146-abb3-ec353d3ab71a\n",
      "3600a42d-88b3-4db4-8435-7dc121894517\n",
      "8dbff98e-a666-4fd9-ba8c-68dabdf71282\n",
      "858ef3ac-d83f-4807-9451-eaaaf8029ce1\n",
      "b12b2577-b232-493c-b4b5-356f3e55ca5c\n",
      "f4154d3b-9ceb-46bd-91cc-5590240bcd67\n",
      "12049cc0-e17e-454c-9dab-f1fe77df4b4a\n",
      "1f350825-5c81-4f52-b13a-832d80f591a1\n",
      "a943f409-53b2-49fc-8cfd-1077b457349f\n",
      "516b0865-9e3a-4cb3-ba1b-b971f49af14a\n",
      "8b0ffdcb-b6df-4424-b74f-5357392a4833\n",
      "c4c99e89-15e5-4dec-8da9-2afb22d3a1a5\n",
      "8d4ee9c9-3420-48ae-9ab1-0548d3dcb42f\n",
      "f594ad98-5658-4162-821e-25abff5e8748\n",
      "59320860-8125-4504-a051-f2b5b38fd417\n",
      "1eab6ed2-3304-43d1-a6f2-b350a0999d58\n",
      "db6bde32-1357-4128-8552-a64e750f69d8\n",
      "9cc7e663-8608-4675-9ffb-094c71b9265e\n",
      "ae1c515d-a757-498f-b603-28387985a64c\n",
      "8204d098-8ff7-4b85-81b8-1439bd0954b5\n",
      "0d398f75-6cf8-406a-9214-79fab775663e\n",
      "6c6da78d-85cf-42b9-9d0d-4acf406a9a7b\n",
      "d293cbc5-ee69-4d4b-a67b-34365858dd5c\n",
      "e7cd6684-7dfe-4aac-afa2-e95eeb1b24e3\n",
      "2a400520-98a9-4fc5-901f-327f4c4c5ecd\n",
      "0c0e2dc9-1ad7-4106-a7ce-d6dd83773649\n",
      "0487f710-6615-4143-ad87-cfe27f07b021\n",
      "c56551eb-b063-434b-941c-e70aa524734a\n",
      "71082f85-1177-43aa-bd15-d27b112b81c1\n",
      "895cb992-b5d5-497a-80b4-fa61072178e1\n",
      "eefeacbd-0418-44d3-a089-c04dc8463723\n",
      "c64a1b94-6365-47c2-af11-0e60de11bf6f\n",
      "c533bc4a-9230-40d0-9b47-8ffe8b88b895\n",
      "1bbe1883-5b51-457f-a69f-0617f67b9523\n",
      "7145e2ee-9631-410f-bead-444fd0ac4d5e\n",
      "661ca9f6-6b5a-478e-8105-3ea06d64b31d\n",
      "1b3a8ee8-b7a6-48a7-8c20-ca4cd5c5fc9b\n",
      "c8e4161d-509b-4c7a-b057-155bb4013b26\n",
      "7b8306ec-27dc-4587-8d14-445546ac6d12\n",
      "760d1513-0ac5-4564-98b5-0620ebc3decd\n",
      "5a7e731b-2821-4392-ac42-695798771c1f\n",
      "0ca170f4-6b0a-442d-831d-0fb3618eddd7\n",
      "129b119c-4a71-47db-bdb3-c780b0710557\n",
      "c3cf21ba-153c-4b0e-a030-75ebd33aaef2\n",
      "2ab90157-3ea2-4c70-bfc5-7bf9f21da20b\n",
      "bd9c4080-7126-4ff2-a937-47cfcda0ae86\n",
      "a17f4287-0a03-43bf-8d69-ebddfe745d5c\n",
      "6a5c6688-f16c-4598-b3eb-637a093609fd\n",
      "e7b8f278-441f-4efc-be21-fbd7bbb00242\n",
      "ed4a2f69-ae09-47ca-a45b-7791c0ca2f2c\n",
      "51ac72f4-7bc4-42c2-8c10-6e3b67c4101a\n",
      "906976bf-4c1b-4b67-b482-2f4cd6e143e3\n",
      "9a53b5d0-ea4b-42f4-9cc7-75ead57f022d\n",
      "83f1efc0-9439-430a-90fa-a04cac74c21a\n",
      "294571c1-6630-466e-8094-f26348b3f580\n",
      "d00da3c7-84a6-471b-aa44-f1b1c8bc9776\n",
      "283788a8-ff44-4be1-97f8-65e8cb42aba0\n",
      "0659e25c-51d1-47b2-806d-05e91ee05309\n",
      "4235a5d3-4b13-401a-9195-271b1248478d\n",
      "aebbabd5-ef43-46a0-a873-c909b49ed3dc\n",
      "4185886f-e4d4-4b1b-8bb0-6b3f253e0e65\n",
      "38ebbc67-6ad6-4d13-9ef1-81fa669230e4\n",
      "b34d89f5-ca6e-427e-97e4-91d8124e7e0e\n",
      "5ed92171-8663-4f5b-9ef2-515b6153ed3e\n",
      "c1317314-92a0-4792-918d-a897dbedfa8d\n",
      "83d69cb4-6710-4762-b54e-f495511b34a0\n",
      "3f84e634-4961-4d6e-85cd-2249f46dba6e\n",
      "6bb4d398-bf99-4b7f-a074-4a9c1c79eafe\n",
      "8ff20ab8-77c8-452b-a2e8-a2cf4f5f19f7\n",
      "0b64ccf5-c48e-4958-b464-0c44d39556c2\n",
      "64408606-72ad-4c4d-8400-cbd7b5fd2651\n",
      "8aff3986-1932-4b11-998a-939f61a25d47\n",
      "b11a5e55-54eb-4387-9f46-c54178e49e2f\n",
      "c6d4732c-c5cd-4da7-b34d-46f6ffa5b79f\n",
      "2983c5ba-d178-4f58-b0e9-131c5086444c\n",
      "29ca770a-02c7-418e-a754-04dd170738d2\n",
      "85575a6b-630e-4db9-b642-e4b0a6002a70\n",
      "99f56e71-4ffb-43ec-99f0-56aa4c988ca3\n",
      "985fecbe-4875-49b0-82a4-9715fd408ed6\n",
      "ea90f88b-1f8f-4452-97dd-9d13f19420fb\n",
      "20f19625-affe-4b42-be81-e583af390dd0\n",
      "d9f908e5-0f01-4fb4-a74f-40b7a311c357\n",
      "5c719123-aa16-413e-92fa-74a17b57ddfa\n",
      "9ffc12c0-d480-497d-9c4a-3de06bb5b101\n",
      "9cb48f78-ade0-4472-9152-4d58e5568d36\n",
      "889b4a4e-b2aa-4e8c-b27f-5331501fc849\n",
      "5c1ea07f-2d73-423e-9006-997ef7d25e45\n",
      "87c27f84-2953-48fa-8357-7f868516a31f\n",
      "c234b2a4-9b2e-40b7-a722-6b8a786f2713\n",
      "46292836-d366-4a53-9879-a6986d93b8c6\n",
      "fac5b835-82ba-49c9-9e0f-6f18fc658ea4\n",
      "981b1d49-ead7-4e9c-9edb-2c303637bcd2\n",
      "6cfb3cbd-4f20-416c-8116-ff4c57c9328b\n",
      "41153b15-2720-4c64-9506-457934744f21\n",
      "88ff5d60-6e52-448e-a004-2a9150ffd6d9\n",
      "b73947ec-3a2a-4a9f-93f9-f9af3b476504\n",
      "b76c70d9-ba69-43c9-a3e3-e9a5f1966ba5\n",
      "57b2ea8f-7e47-4696-926e-02c4ea3011ce\n",
      "94169608-7c96-467d-b69f-2fcdbddc854e\n",
      "97279d81-8bc5-44b3-b798-b1913b73400f\n",
      "7425c141-e3cc-47d9-80ba-a028190e6c2e\n",
      "b17c657f-d221-4fed-aa86-f151c181b399\n",
      "2affcca1-ac17-42c0-a0fa-847e66f81bb7\n",
      "dfcd2c51-2de4-4035-b33e-42786974d5d8\n",
      "ac78bf6b-562f-4124-9798-0a2adcf4315a\n",
      "bcdf4c55-cfb3-4623-9890-a7d504c2282e\n",
      "f73b3e85-ca1e-4556-92ef-5a9d294d85df\n",
      "7cd4eb73-cb31-41f8-8bd7-f0105c217c3c\n",
      "b302b91f-fece-4e86-b6cf-23ad1eec60dd\n",
      "3e798a5a-5712-4b58-b08e-b2b1ef4d38c9\n",
      "6ae3dfcd-0a05-47f5-b823-86f3db3ad27d\n",
      "ba170722-bf2b-41e0-ad32-da201d4c8eab\n",
      "54437150-219b-4c0b-b4fd-e9702129626c\n",
      "c87e6108-6394-4efd-9f3a-b8ae1e83d785\n",
      "39fd7da5-40d8-4ce9-8a9a-993a22753a91\n",
      "36704633-c125-4f28-9256-f93ad53f11b0\n",
      "0a655ae7-3220-4f2a-829b-d31dcbf5ed1d\n",
      "548b6560-7502-4edf-b7df-593e9e5ac495\n",
      "15ebb79a-0271-473c-941e-8866693fd48d\n",
      "34294513-1113-4df7-9027-4e641b9d540b\n",
      "3a03dca6-347d-40be-b32f-327a45eab3e6\n",
      "0bf24a74-99d6-43d8-a4e4-67337f84888c\n",
      "9131702a-93cf-4a54-9a29-0b049e3a36b4\n",
      "0b91ee18-405a-411c-925a-020e3e8c7161\n",
      "f9df16f0-e056-40c5-9f67-57f7fc51197a\n",
      "c9db70b0-c7b5-4687-85af-b4507fe9bb7d\n",
      "574b4921-a8e2-4c11-b0e5-9f66e2e395d3\n",
      "f8dc645a-fc44-418b-ad9d-ea5e91deda94\n",
      "34000325-0359-43eb-b731-c2f9f591ae03\n",
      "1782683e-49b9-4e78-84ac-eca7a9d9df6b\n",
      "18e2a396-4ea1-4061-b49f-1307c0a40ce2\n",
      "35636c85-9863-4957-b9d2-5024a9e76339\n",
      "396f399c-8cae-4e81-905f-f24b01a6b007\n",
      "9c37a91c-4ae7-4ada-b701-45df00e9418b\n",
      "ca7081ad-7ff0-48a4-80ae-781a4761e22f\n",
      "927284a7-6d4b-48da-adb3-807f1319291a\n",
      "ddc61595-9aa8-485d-b42e-40eac3c805e5\n",
      "7e181f34-2849-41c2-b7b0-a1a2d8fc5269\n",
      "940a5899-5bfc-4d05-b466-44dcc1d88fde\n",
      "a5037f87-523c-43b0-bceb-b9c595404e01\n",
      "7b072f3b-1305-47a1-a5da-b14a3f749640\n",
      "1dc41f9c-8879-4b7d-9204-9cd15a80b67b\n",
      "bbe151b5-93e7-46d5-9c8c-91a0aa570dce\n",
      "81f5b3f9-2cc4-48ee-86e3-685fe35bd404\n",
      "31ae5142-84fb-4177-a76d-e43aba742922\n",
      "378e140d-6c5d-4fc6-a059-d60fe3731719\n",
      "c82f9f57-9fb8-485a-9213-f125cbb99fce\n",
      "657d765c-540a-41bc-af09-91c38f2183f1\n",
      "931595c0-6259-4ace-aa33-8220381e4d55\n",
      "50cc7cf1-98d0-4afd-a4bc-a8254bdec578\n",
      "bfbd85c0-f466-4e72-9efc-058e6cc35d1a\n",
      "a0a530ca-99c0-4270-948d-2fd13a8b6c65\n",
      "046def51-12c8-4670-9397-c5dc4378dab7\n",
      "ceb669d9-9e4e-40c6-8314-92fa1576454c\n",
      "13c7ffa4-5b4b-44a3-966e-8072eebfb120\n",
      "24631bbc-d9ce-4a00-87b1-a025bfbf37a9\n",
      "4b6eeedf-0747-4e38-bf13-2dcb60243573\n",
      "f923d225-e17d-414a-a1dd-8c7a0b8a3320\n",
      "a1f92cda-3f25-42ba-84be-18ad14294ffd\n",
      "562912d3-1dcd-431a-8550-ceb5e98d4b5c\n",
      "cb1aa799-6f15-495f-b5de-bd75194d3205\n",
      "763d8e2d-cde5-4dc6-afd9-8e86cc64f975\n",
      "23191f8c-cf80-4adb-b768-ed75e36618d0\n",
      "22eef567-3f01-47b1-8e49-243f14ab97ea\n",
      "2ff83230-fcb7-42d4-b021-a6f1335177f0\n",
      "62ea61e7-f84a-490d-a6dc-aafea75d4238\n",
      "eb2f1756-a912-413a-8cd8-cfd698f2d72d\n",
      "58216682-5869-4674-bc5a-cbf1075ffba6\n",
      "d590a9c9-6a75-4449-9242-bc7fc81691b6\n",
      "29229286-16dd-4cca-9dae-7fb39c9effc5\n",
      "af7b2391-ba5c-4274-bb12-b66bf33dd7b7\n",
      "b7dca598-9191-4e00-aee6-156e1d80c2f0\n",
      "1d6e1b44-74ed-402c-a25a-3e581d4f3722\n",
      "5f7ccd73-8899-4b7f-80ee-fc3598cce429\n",
      "ec2c3370-409d-469d-84e6-d6030b1f4848\n",
      "b88c4c9f-58f1-4fb0-a066-71e8cb9b01a3\n",
      "3ffc88a1-4bba-4aee-a16c-77f93af0f495\n",
      "ad6621cb-3cbc-4f9c-aef5-24c755e680f3\n",
      "3b59b7fb-4834-4250-a3b1-be90925e3f89\n",
      "504a4c0e-c441-4810-bd42-fea915bc9e9a\n",
      "e145dcf3-e48c-4a96-b125-4b939705b01a\n",
      "13526cb5-baeb-401f-b3f2-7e4865df9334\n",
      "58cfe3f8-db17-4110-8141-41f2ad758e76\n",
      "b263e8f7-98b7-4fcf-8a46-dee6e2bd7369\n",
      "96b2bdc7-702c-418a-aac8-f9cae7d35dde\n",
      "4d863e87-8280-4366-8cbe-d830931aae39\n",
      "d5078be7-d082-4338-97e9-d2497a32f7dc\n",
      "fc4329a7-c7e0-4035-9b63-2beda172605c\n",
      "da56c149-fbfb-400c-bb5c-a249a2ba7841\n",
      "52a44936-bdaf-4713-9915-e2abea14def6\n",
      "0a2bbbe6-46ec-4603-9fbc-e03edccad8f4\n",
      "9d2859a8-1cd3-4739-91cd-433cce7cbc01\n",
      "2e6965b5-b5e1-403e-af74-c4a7a7a3b69e\n",
      "f62c9c87-e37c-406e-bf37-bdcc2d939654\n",
      "cfc7ffb9-bad9-4ece-bf1f-9b7cab50b9fb\n",
      "3cf2360d-5b5b-4095-b2d4-d7d7b198d257\n",
      "e4838762-bf82-43e6-aa0e-b64ef4a2dc5e\n",
      "6aab54c2-c94d-4e4c-a3bc-4c0037acbec5\n",
      "82edaef3-292f-4331-a767-2aa33635d382\n",
      "38a5d9df-55c0-4041-a894-cb145d0ceaef\n",
      "419149ed-6e46-48af-a3fb-acf9ecde32ec\n",
      "fbdd9ac8-2e6f-4a10-bda3-3e427ca41a9a\n",
      "790cd4cd-9267-4db5-8bb0-b0911b42b623\n",
      "fd412b72-5abc-4d3a-accd-fd9e14aa8ba3\n",
      "42b12dc0-f76e-4a79-834d-439d868d77f3\n",
      "f4f26fe4-640b-47b6-9b4f-fdea494a86d6\n",
      "555b214d-d26d-40f0-9dbf-259727afe58c\n",
      "41734cfb-6885-4fc1-bf79-1acaaee3164b\n",
      "b7ad62da-6966-441f-96dd-f6b88a589420\n",
      "87a58d8b-0c97-4148-8c25-8875f12eb8a9\n",
      "2c7ca2c3-6db6-4774-89a5-a7da591ed7c3\n",
      "a594b623-5072-4720-a376-53f65c0b7e0e\n",
      "43d41727-a60d-48be-9ee6-dc7e1431327f\n",
      "21c18f41-4aa9-4fdd-b223-654fe17b2a74\n",
      "925ec398-e78c-4146-975b-defd7f8e4c1d\n",
      "4afd15b4-af09-4d91-89f1-8174305ba5de\n",
      "89944ca6-d1f9-44f6-b9e8-05e043a134ac\n",
      "8c804f4d-101b-4670-a015-fea12c18ca89\n",
      "57035605-025b-40fa-8c81-989282b1a5fc\n",
      "5f030f33-da71-458c-9fd2-6b3fcf4df5ee\n",
      "2567d13e-4764-4fd5-82c7-1f1144063654\n",
      "bdfa7e1a-aecd-4b2c-9f30-f77e381fca6e\n",
      "1bcf0025-63a2-4fbd-80ba-3232766be991\n",
      "c26d6d03-bca2-4cb9-9aea-9861a3917c98\n",
      "b31a23fb-5e4b-4678-b232-4565b360ab5f\n",
      "ea1ff15f-056c-40ff-a93f-f13edd78ffc1\n",
      "60826832-6118-4722-bf86-39223480f5bc\n",
      "9996d830-7b45-404e-9632-5f40bd01d943\n",
      "Done!\n"
     ]
    }
   ],
   "source": [
    "for pro in bioprodict:\n",
    "    print(pro)\n",
    "    if pro is not None:\n",
    "        g.write(bioprodict[pro]['dc:identifier'] + '\\ta\\tgo:0008150 ;\\n\\tdc:identifier\\t' + bioprodict[pro]['dc:identifier'] + ' ;\\n\\tdc:title\\t' + bioprodict[pro]['dc:title'] + ' ;\\n\\tdc:source\\t' + bioprodict[pro]['dc:source'] + ' . \\n\\n')\n",
    "print(\"Done!\")"
   ]
  },
  {
   "cell_type": "markdown",
   "metadata": {},
   "source": [
    "### Writing Biological Object triples"
   ]
  },
  {
   "cell_type": "code",
   "execution_count": 91,
   "metadata": {},
   "outputs": [
    {
     "name": "stdout",
     "output_type": "stream",
     "text": [
      "Done!\n"
     ]
    }
   ],
   "source": [
    "for obj in bioobjdict:\n",
    "    if obj is not None and obj != \"N/A\" and 'TAIR' not in bioobjdict[obj]['dc:identifier']:\n",
    "        g.write(bioobjdict[obj]['dc:identifier'] + '\\ta\\tpato:0001241 ;\\n\\tdc:identifier\\t' + bioobjdict[obj]['dc:identifier'] + ' ;\\n\\tdc:title\\t' + bioobjdict[obj]['dc:title'] + ' ;\\n\\tdc:source\\t' + bioobjdict[obj]['dc:source'])\n",
    "        if bioobjdict[obj]['dc:identifier'] in prodict:\n",
    "            g.write(' ;\\n\\tskos:exactMatch\\t'+','.join(prodict[bioobjdict[obj]['dc:identifier']]))\n",
    "        g.write('. \\n\\n')\n",
    "print(\"Done!\")"
   ]
  },
  {
   "cell_type": "markdown",
   "metadata": {},
   "source": [
    "### Writing Biological Action triples\n"
   ]
  },
  {
   "cell_type": "code",
   "execution_count": 92,
   "metadata": {},
   "outputs": [
    {
     "name": "stdout",
     "output_type": "stream",
     "text": [
      "Done!\n"
     ]
    }
   ],
   "source": [
    "for act in bioactdict:\n",
    "    if act is not None:\n",
    "        if '\"' not in bioactdict[act]['dc:identifier']:\n",
    "            g.write(bioactdict[act]['dc:identifier'] + '\\ta\\tpato:0000001 ;\\n\\tdc:identifier\\t' + bioactdict[act]['dc:identifier'] + ' ;\\n\\tdc:title\\t' + bioactdict[act]['dc:title'] + ' ;\\n\\tdc:source\\t' + bioactdict[act]['dc:source'] + ' . \\n\\n')\n",
    "print(\"Done!\")"
   ]
  },
  {
   "cell_type": "markdown",
   "metadata": {},
   "source": [
    "### Writing Cell term triples"
   ]
  },
  {
   "cell_type": "code",
   "execution_count": 93,
   "metadata": {},
   "outputs": [
    {
     "name": "stdout",
     "output_type": "stream",
     "text": [
      "Done!\n"
     ]
    }
   ],
   "source": [
    "for item in cterm:\n",
    "    if '\"' not in item:\n",
    "        g.write(item + '\\ta\\taopo:CellTypeContext ;\\n\\tdc:identifier\\t' + item + ' ;\\n\\tdc:title\\t' + cterm[item]['dc:title'] + ' ;\\n\\tdc:source\\t' + cterm[item]['dc:source'] + ' .\\n\\n')\n",
    "print(\"Done!\")"
   ]
  },
  {
   "cell_type": "markdown",
   "metadata": {},
   "source": [
    "### Writing Organ term triples"
   ]
  },
  {
   "cell_type": "code",
   "execution_count": 94,
   "metadata": {},
   "outputs": [
    {
     "name": "stdout",
     "output_type": "stream",
     "text": [
      "Done!\n"
     ]
    }
   ],
   "source": [
    "for item in oterm:\n",
    "    if '\"' not in item:\n",
    "        g.write(item + '\\ta\\taopo:OrganContext ;\\n\\tdc:identifier\\t' + item + ' ;\\n\\tdc:title\\t' + oterm[item]['dc:title'] + ' ;\\n\\tdc:source\\t' + oterm[item]['dc:source'] + ' .\\n\\n')\n",
    "print(\"Done!\")"
   ]
  },
  {
   "cell_type": "markdown",
   "metadata": {},
   "source": [
    "### Writing Chemical triples"
   ]
  },
  {
   "cell_type": "code",
   "execution_count": 95,
   "metadata": {},
   "outputs": [
    {
     "name": "stdout",
     "output_type": "stream",
     "text": [
      "Done!\n"
     ]
    }
   ],
   "source": [
    "for che in chedict:\n",
    "    if 'dc:identifier' in chedict[che] and '\"' not in chedict[che]['dc:identifier']:\n",
    "        g.write(chedict[che]['dc:identifier'] + '\\n\\tdc:identifier\\t' + chedict[che]['dc:identifier'])\n",
    "        if 'cheminf:000446' in chedict[che]:\n",
    "            g.write(' ;\\n\\ta\\tcheminf:000000, cheminf:000446 ;\\n\\tcheminf:000446\\t' + chedict[che]['cheminf:000446'])\n",
    "        if not chedict[che]['cheminf:000059'] == 'inchikey:None':\n",
    "            g.write(' ;\\n\\tcheminf:000059\\t' + chedict[che]['cheminf:000059'])\n",
    "        if 'dc:title' in chedict[che]:\n",
    "            g.write(' ;\\n\\tdc:title\\t' + chedict[che]['dc:title'])\n",
    "        if 'cheminf:000568' in chedict[che]:\n",
    "            g.write(' ;\\n\\tcheminf:000568\\t' + str(chedict[che]['cheminf:000568']))\n",
    "        listofexactmatches = []\n",
    "        if 'cheminf:000407' in chedict[che]:\n",
    "            listofexactmatches.append(','.join(chedict[che]['cheminf:000407']))\n",
    "        if 'cheminf:000405' in chedict[che]:\n",
    "            listofexactmatches.append(','.join(chedict[che]['cheminf:000405']))\n",
    "        if 'cheminf:000567' in chedict[che]:\n",
    "            listofexactmatches.append(','.join(chedict[che]['cheminf:000567']))\n",
    "        if 'cheminf:000412' in chedict[che]:\n",
    "            listofexactmatches.append(','.join(chedict[che]['cheminf:000412']))\n",
    "        if 'cheminf:000140' in chedict[che]:\n",
    "            listofexactmatches.append(','.join(chedict[che]['cheminf:000140']))\n",
    "        if 'cheminf:000406' in chedict[che]:\n",
    "            listofexactmatches.append(','.join(chedict[che]['cheminf:000406']))\n",
    "        if 'cheminf:000408' in chedict[che]:\n",
    "            listofexactmatches.append(','.join(chedict[che]['cheminf:000408']))\n",
    "        if 'cheminf:000409' in chedict[che]:\n",
    "            listofexactmatches.append(','.join(chedict[che]['cheminf:000409']))\n",
    "        if 'cheminf:000564' in chedict[che]:\n",
    "            listofexactmatches.append(','.join(chedict[che]['cheminf:000564']))\n",
    "        if 'cheminf:000407' in chedict[che] or 'cheminf:000405' in chedict[che] or 'cheminf:000567' in chedict[che] or 'cheminf:000412' in chedict[che] or 'cheminf:000140' in chedict[che] or 'cheminf:000406' in chedict[che] or 'cheminf:000408' in chedict[che] or 'cheminf:000409' in chedict[che] or 'cheminf:000564' in chedict[che]:\n",
    "            g.write(' ;\\n\\tskos:exactMatch\\t'+','.join(listofexactmatches))\n",
    "        listofthings = []\n",
    "        if 'dcterms:alternative' in chedict[che]:\n",
    "            for alt in chedict[che]['dcterms:alternative']:\n",
    "                listofthings.append('\"' + alt + '\"')\n",
    "            g.write(' ;\\n\\tdcterms:alternative\\t' + ','.join(listofthings))\n",
    "        listofthings = []\n",
    "        for stressor in strdict:\n",
    "            if 'aopo:has_chemical_entity' in strdict[stressor]:\n",
    "                if che in strdict[stressor]['linktochemical']:\n",
    "                    listofthings.append(strdict[stressor]['dc:identifier'])\n",
    "        if not listofthings == []:\n",
    "            g.write(' ;\\n\\tdcterms:isPartOf\\t' + (','.join(listofthings)))\n",
    "        g.write(' .\\n\\n')\n",
    "print(\"Done!\")"
   ]
  },
  {
   "cell_type": "code",
   "execution_count": 96,
   "metadata": {},
   "outputs": [],
   "source": [
    "n = 0"
   ]
  },
  {
   "cell_type": "markdown",
   "metadata": {},
   "source": [
    "### Writing mapped Chemical identifiers"
   ]
  },
  {
   "cell_type": "code",
   "execution_count": 97,
   "metadata": {},
   "outputs": [
    {
     "name": "stdout",
     "output_type": "stream",
     "text": [
      "405\n",
      "817\n",
      "1229\n",
      "1660\n",
      "2079\n",
      "2495\n",
      "2840\n",
      "3256\n",
      "3472\n",
      "3786\n",
      "3820\n",
      "4242\n",
      "Done!\n"
     ]
    }
   ],
   "source": [
    "for cas in listofcas:\n",
    "    g.write(cas + '\\tdc:source\\t\"CAS\".\\n\\n')\n",
    "    n += 1\n",
    "print(n)\n",
    "for inchikey in listofinchikey:\n",
    "    g.write(inchikey + '\\tdc:source\\t\"InChIKey\".\\n\\n')\n",
    "    n += 1\n",
    "print(n)\n",
    "    \n",
    "for comptox in listofcomptox:\n",
    "    g.write(comptox + '\\tdc:source\\t\"CompTox\".\\n\\n')\n",
    "    n += 1\n",
    "print(n)\n",
    "\n",
    "for chebi in listofchebi:\n",
    "    g.write(chebi + '\\ta\\tcheminf:000407 ;\\n\\tcheminf:000407\\t\"'+chebi[6:]+'\";\\n\\tdc:identifier\\t\"'+chebi+'\";\\n\\tdc:source\\t\"ChEBI\".\\n\\n')\n",
    "    n += 1\n",
    "print(n)\n",
    "for chemspider in listofchemspider:\n",
    "    g.write(chemspider + '\\ta\\tcheminf:000405 ;\\n\\tcheminf:000405\\t\"'+chemspider[11:]+'\";\\n\\tdc:identifier\\t\"'+chemspider+'\";\\n\\tdc:source\\t\"ChemSpider\".\\n\\n')\n",
    "    n += 1\n",
    "print(n)\n",
    "for wd in listofwikidata:\n",
    "    g.write(wd + '\\ta\\tcheminf:000567 ;\\n\\tcheminf:000567\\t\"'+wd[9:]+'\";\\n\\tdc:identifier\\t\"'+wd+'\";\\n\\tdc:source\\t\"Wikidata\".\\n\\n')\n",
    "    n += 1\n",
    "print(n)\n",
    "for chembl in listofchembl:\n",
    "    g.write(chembl + '\\ta\\tcheminf:000412 ;\\n\\tcheminf:000412\\t\"'+chembl[16:]+'\";\\n\\tdc:identifier\\t\"'+chembl+'\";\\n\\tdc:source\\t\"ChEMBL\".\\n\\n')\n",
    "    n += 1\n",
    "print(n)\n",
    "for pubchem in listofpubchem:\n",
    "    g.write(pubchem + '\\ta\\tcheminf:000140 ;\\n\\tcheminf:000140\\t\"'+pubchem[17:]+'\";\\n\\tdc:identifier\\t\"'+pubchem+'\";\\n\\tdc:source\\t\"PubChem\".\\n\\n')\n",
    "    n += 1\n",
    "print(n)\n",
    "for drugbank in listofdrugbank:\n",
    "    g.write(drugbank + '\\ta\\tcheminf:000406 ;\\n\\tcheminf:000406\\t\"'+drugbank[9:]+'\";\\n\\tdc:identifier\\t\"'+drugbank+'\";\\n\\tdc:source\\t\"DrugBank\".\\n\\n')\n",
    "    n += 1\n",
    "print(n)\n",
    "for kegg in listofkegg:\n",
    "    g.write(kegg + '\\ta\\tcheminf:000409 ;\\n\\tcheminf:000409\\t\"'+kegg[14:]+'\";\\n\\tdc:identifier\\t\"'+kegg+'\";\\n\\tdc:source\\t\"KEGG\".\\n\\n')\n",
    "    n += 1\n",
    "print(n)\n",
    "for lipidmaps in listoflipidmaps:\n",
    "    g.write(lipidmaps + '\\ta\\tcheminf:000564 ;\\n\\tcheminf:000564\\t\"'+lipidmaps[10:]+'\";\\n\\tdc:identifier\\t\"'+lipidmaps+'\";\\n\\tdc:source\\t\"LIPID MAPS\".\\n\\n')\n",
    "    n += 1\n",
    "print(n)\n",
    "for hmdb in listofhmdb:\n",
    "    g.write(hmdb + '\\ta\\tcheminf:000408 ;\\n\\tcheminf:000408\\t\"'+hmdb[5:]+'\";\\n\\tdc:identifier\\t\"'+hmdb+'\";\\n\\tdc:source\\t\"HMDB\".\\n\\n')\n",
    "    n += 1\n",
    "print(n)\n",
    "print(\"Done!\")"
   ]
  },
  {
   "cell_type": "markdown",
   "metadata": {},
   "source": [
    "### Writing mapped Gene identifiers"
   ]
  },
  {
   "cell_type": "code",
   "execution_count": 98,
   "metadata": {},
   "outputs": [
    {
     "name": "stdout",
     "output_type": "stream",
     "text": [
      "Done!\n"
     ]
    }
   ],
   "source": [
    "for hgnc in hgnclist:\n",
    "    g.write(hgnc + '\\ta\\tedam:data_2298, edam:data_1025 ;\\n\\tedam:data_2298\\t\"'+hgnc[5:]+'\";\\n\\tdc:identifier\\t\"'+hgnc+'\";\\n\\tdc:source\\t\"HGNC\".\\n\\n')\n",
    "\n",
    "for entrez in ncbigenelist:\n",
    "    g.write(entrez + '\\ta\\tedam:data_1027, edam:data_1025 ;\\n\\tedam:data_1027\\t\"'+entrez[9:]+'\";\\n\\tdc:identifier\\t\"'+entrez+'\";\\n\\tdc:source\\t\"Entrez Gene\".\\n\\n')\n",
    "\n",
    "for uniprot in uniprotlist:\n",
    "    g.write(uniprot + '\\ta\\tedam:data_2291, edam:data_1025 ;\\n\\trdfs:seeAlso <http://purl.uniprot.org/uniprot/' + uniprot[8:] + '>;\\n\\towl:sameAs <http://purl.uniprot.org/uniprot/' + uniprot[8:] + '>;\\n\\tedam:data_2291\\t\"'+uniprot[8:]+'\";\\n\\tdc:identifier\\t\"'+uniprot+'\";\\n\\tdc:source\\t\"UniProt\".\\n\\n')\n",
    "    \n",
    "print(\"Done!\")"
   ]
  },
  {
   "cell_type": "markdown",
   "metadata": {},
   "source": [
    "### Writing class labels"
   ]
  },
  {
   "cell_type": "code",
   "execution_count": 99,
   "metadata": {},
   "outputs": [
    {
     "data": {
      "text/html": [
       "<div>\n",
       "<style scoped>\n",
       "    .dataframe tbody tr th:only-of-type {\n",
       "        vertical-align: middle;\n",
       "    }\n",
       "\n",
       "    .dataframe tbody tr th {\n",
       "        vertical-align: top;\n",
       "    }\n",
       "\n",
       "    .dataframe thead th {\n",
       "        text-align: right;\n",
       "    }\n",
       "</style>\n",
       "<table border=\"1\" class=\"dataframe\">\n",
       "  <thead>\n",
       "    <tr style=\"text-align: right;\">\n",
       "      <th></th>\n",
       "      <th>URI</th>\n",
       "      <th>label</th>\n",
       "      <th>description</th>\n",
       "    </tr>\n",
       "  </thead>\n",
       "  <tbody>\n",
       "    <tr>\n",
       "      <th>0</th>\n",
       "      <td>&lt;http://rdfs.org/ns/void#Dataset&gt;</td>\n",
       "      <td>Dataset</td>\n",
       "      <td>-</td>\n",
       "    </tr>\n",
       "    <tr>\n",
       "      <th>1</th>\n",
       "      <td>&lt;http://edamontology.org/data_1027&gt;</td>\n",
       "      <td>Gene ID (NCBI)</td>\n",
       "      <td>An NCBI unique identifier of a gene.</td>\n",
       "    </tr>\n",
       "    <tr>\n",
       "      <th>2</th>\n",
       "      <td>&lt;http://edamontology.org/data_1025&gt;</td>\n",
       "      <td>Gene identifier</td>\n",
       "      <td>An identifier of a gene, such as a name/symbol...</td>\n",
       "    </tr>\n",
       "    <tr>\n",
       "      <th>3</th>\n",
       "      <td>&lt;http://edamontology.org/data_2298&gt;</td>\n",
       "      <td>Gene ID (HGNC)</td>\n",
       "      <td>Identifier for a gene approved by the HUGO Gen...</td>\n",
       "    </tr>\n",
       "    <tr>\n",
       "      <th>4</th>\n",
       "      <td>&lt;http://purl.org/obo/owl/GO#0008150&gt;</td>\n",
       "      <td>biological_process</td>\n",
       "      <td>A biological process represents a specific obj...</td>\n",
       "    </tr>\n",
       "    <tr>\n",
       "      <th>5</th>\n",
       "      <td>&lt;http://aopkb.org/aop_ontology#CellTypeContext&gt;</td>\n",
       "      <td>Cell-term</td>\n",
       "      <td>-</td>\n",
       "    </tr>\n",
       "    <tr>\n",
       "      <th>6</th>\n",
       "      <td>&lt;http://aopkb.org/aop_ontology#OrganContext&gt;</td>\n",
       "      <td>Organ-term</td>\n",
       "      <td>-</td>\n",
       "    </tr>\n",
       "    <tr>\n",
       "      <th>7</th>\n",
       "      <td>&lt;http://semanticscience.org/resource/CHEMINF_0...</td>\n",
       "      <td>ChEBI identifier</td>\n",
       "      <td>Database identifier used by ChEBI.</td>\n",
       "    </tr>\n",
       "    <tr>\n",
       "      <th>8</th>\n",
       "      <td>&lt;http://semanticscience.org/resource/CHEMINF_0...</td>\n",
       "      <td>ChEMBL identifier</td>\n",
       "      <td>Identifier used by the ChEMBL database for com...</td>\n",
       "    </tr>\n",
       "    <tr>\n",
       "      <th>9</th>\n",
       "      <td>&lt;http://semanticscience.org/resource/CHEMINF_0...</td>\n",
       "      <td>ChemSpider identifier</td>\n",
       "      <td>Database identifier used by ChemSpider.</td>\n",
       "    </tr>\n",
       "    <tr>\n",
       "      <th>10</th>\n",
       "      <td>&lt;http://semanticscience.org/resource/CHEMINF_0...</td>\n",
       "      <td>DrugBank identifier</td>\n",
       "      <td>Database identifier used by DrugBank.</td>\n",
       "    </tr>\n",
       "    <tr>\n",
       "      <th>11</th>\n",
       "      <td>&lt;http://semanticscience.org/resource/CHEMINF_0...</td>\n",
       "      <td>HMDB identifier</td>\n",
       "      <td>Database identifier used by Human Metabolome D...</td>\n",
       "    </tr>\n",
       "    <tr>\n",
       "      <th>12</th>\n",
       "      <td>&lt;http://semanticscience.org/resource/CHEMINF_0...</td>\n",
       "      <td>KEGG identifier</td>\n",
       "      <td>Database identifier used by KEGG.</td>\n",
       "    </tr>\n",
       "    <tr>\n",
       "      <th>13</th>\n",
       "      <td>&lt;http://semanticscience.org/resource/CHEMINF_0...</td>\n",
       "      <td>LipidMaps identifier</td>\n",
       "      <td>Identifier used by the LipidMaps database, htt...</td>\n",
       "    </tr>\n",
       "    <tr>\n",
       "      <th>14</th>\n",
       "      <td>&lt;http://semanticscience.org/resource/CHEMINF_0...</td>\n",
       "      <td>PubChem compound identifier (CID)</td>\n",
       "      <td>-</td>\n",
       "    </tr>\n",
       "    <tr>\n",
       "      <th>15</th>\n",
       "      <td>&lt;http://semanticscience.org/resource/CHEMINF_0...</td>\n",
       "      <td>Wikidata identifier</td>\n",
       "      <td>Database identifier used by Wikidata.</td>\n",
       "    </tr>\n",
       "    <tr>\n",
       "      <th>16</th>\n",
       "      <td>&lt;http://rdfs.org/ns/void#Linkset&gt;</td>\n",
       "      <td>Linkset</td>\n",
       "      <td>-</td>\n",
       "    </tr>\n",
       "    <tr>\n",
       "      <th>17</th>\n",
       "      <td>&lt;http://aopkb.org/aop_ontology#KeyEvent&gt;</td>\n",
       "      <td>Key Event</td>\n",
       "      <td>-</td>\n",
       "    </tr>\n",
       "    <tr>\n",
       "      <th>18</th>\n",
       "      <td>&lt;http://aopkb.org/aop_ontology#KeyEventRelatio...</td>\n",
       "      <td>Key Event Relationship</td>\n",
       "      <td>-</td>\n",
       "    </tr>\n",
       "    <tr>\n",
       "      <th>19</th>\n",
       "      <td>&lt;http://edamontology.org/data_1033&gt;</td>\n",
       "      <td>Ensembl gene ID</td>\n",
       "      <td>Unique identifier for a gene (or other feature...</td>\n",
       "    </tr>\n",
       "    <tr>\n",
       "      <th>20</th>\n",
       "      <td>&lt;http://ncicb.nci.nih.gov/xml/owl/EVS/Thesauru...</td>\n",
       "      <td>Stressor</td>\n",
       "      <td>An agent, stimulus, activity, or event that ca...</td>\n",
       "    </tr>\n",
       "    <tr>\n",
       "      <th>21</th>\n",
       "      <td>&lt;http://aopkb.org/aop_ontology#AdverseOutcomeP...</td>\n",
       "      <td>Adverse Outcome Pathway</td>\n",
       "      <td>-</td>\n",
       "    </tr>\n",
       "    <tr>\n",
       "      <th>22</th>\n",
       "      <td>&lt;http://semanticscience.org/resource/CHEMINF_0...</td>\n",
       "      <td>chemical entity</td>\n",
       "      <td>A chemical entity is any molecular entity or c...</td>\n",
       "    </tr>\n",
       "    <tr>\n",
       "      <th>23</th>\n",
       "      <td>&lt;http://semanticscience.org/resource/CHEMINF_0...</td>\n",
       "      <td>CAS registry number</td>\n",
       "      <td>Identifier used by the Chemical Abstracts Serv...</td>\n",
       "    </tr>\n",
       "    <tr>\n",
       "      <th>24</th>\n",
       "      <td>&lt;http://edamontology.org/data_2291&gt;</td>\n",
       "      <td>UniProt ID</td>\n",
       "      <td>An identifier of a polypeptide in the UniProt ...</td>\n",
       "    </tr>\n",
       "    <tr>\n",
       "      <th>25</th>\n",
       "      <td>&lt;http://purl.bioontology.org/ontology/NCBITAXO...</td>\n",
       "      <td>cellular organisms</td>\n",
       "      <td>-</td>\n",
       "    </tr>\n",
       "    <tr>\n",
       "      <th>26</th>\n",
       "      <td>&lt;http://purl.obolibrary.org/obo/PATO_0001241&gt;</td>\n",
       "      <td>physical object quality</td>\n",
       "      <td>A quality which inheres in a continuant</td>\n",
       "    </tr>\n",
       "  </tbody>\n",
       "</table>\n",
       "</div>"
      ],
      "text/plain": [
       "                                                  URI  \\\n",
       "0                   <http://rdfs.org/ns/void#Dataset>   \n",
       "1                 <http://edamontology.org/data_1027>   \n",
       "2                 <http://edamontology.org/data_1025>   \n",
       "3                 <http://edamontology.org/data_2298>   \n",
       "4                <http://purl.org/obo/owl/GO#0008150>   \n",
       "5     <http://aopkb.org/aop_ontology#CellTypeContext>   \n",
       "6        <http://aopkb.org/aop_ontology#OrganContext>   \n",
       "7   <http://semanticscience.org/resource/CHEMINF_0...   \n",
       "8   <http://semanticscience.org/resource/CHEMINF_0...   \n",
       "9   <http://semanticscience.org/resource/CHEMINF_0...   \n",
       "10  <http://semanticscience.org/resource/CHEMINF_0...   \n",
       "11  <http://semanticscience.org/resource/CHEMINF_0...   \n",
       "12  <http://semanticscience.org/resource/CHEMINF_0...   \n",
       "13  <http://semanticscience.org/resource/CHEMINF_0...   \n",
       "14  <http://semanticscience.org/resource/CHEMINF_0...   \n",
       "15  <http://semanticscience.org/resource/CHEMINF_0...   \n",
       "16                  <http://rdfs.org/ns/void#Linkset>   \n",
       "17           <http://aopkb.org/aop_ontology#KeyEvent>   \n",
       "18  <http://aopkb.org/aop_ontology#KeyEventRelatio...   \n",
       "19                <http://edamontology.org/data_1033>   \n",
       "20  <http://ncicb.nci.nih.gov/xml/owl/EVS/Thesauru...   \n",
       "21  <http://aopkb.org/aop_ontology#AdverseOutcomeP...   \n",
       "22  <http://semanticscience.org/resource/CHEMINF_0...   \n",
       "23  <http://semanticscience.org/resource/CHEMINF_0...   \n",
       "24                <http://edamontology.org/data_2291>   \n",
       "25  <http://purl.bioontology.org/ontology/NCBITAXO...   \n",
       "26      <http://purl.obolibrary.org/obo/PATO_0001241>   \n",
       "\n",
       "                                label  \\\n",
       "0                             Dataset   \n",
       "1                      Gene ID (NCBI)   \n",
       "2                     Gene identifier   \n",
       "3                      Gene ID (HGNC)   \n",
       "4                  biological_process   \n",
       "5                           Cell-term   \n",
       "6                          Organ-term   \n",
       "7                    ChEBI identifier   \n",
       "8                   ChEMBL identifier   \n",
       "9               ChemSpider identifier   \n",
       "10                DrugBank identifier   \n",
       "11                    HMDB identifier   \n",
       "12                    KEGG identifier   \n",
       "13               LipidMaps identifier   \n",
       "14  PubChem compound identifier (CID)   \n",
       "15                Wikidata identifier   \n",
       "16                            Linkset   \n",
       "17                          Key Event   \n",
       "18             Key Event Relationship   \n",
       "19                    Ensembl gene ID   \n",
       "20                           Stressor   \n",
       "21            Adverse Outcome Pathway   \n",
       "22                    chemical entity   \n",
       "23                CAS registry number   \n",
       "24                         UniProt ID   \n",
       "25                 cellular organisms   \n",
       "26            physical object quality   \n",
       "\n",
       "                                          description  \n",
       "0                                                   -  \n",
       "1                An NCBI unique identifier of a gene.  \n",
       "2   An identifier of a gene, such as a name/symbol...  \n",
       "3   Identifier for a gene approved by the HUGO Gen...  \n",
       "4   A biological process represents a specific obj...  \n",
       "5                                                   -  \n",
       "6                                                   -  \n",
       "7                  Database identifier used by ChEBI.  \n",
       "8   Identifier used by the ChEMBL database for com...  \n",
       "9             Database identifier used by ChemSpider.  \n",
       "10              Database identifier used by DrugBank.  \n",
       "11  Database identifier used by Human Metabolome D...  \n",
       "12                  Database identifier used by KEGG.  \n",
       "13  Identifier used by the LipidMaps database, htt...  \n",
       "14                                                  -  \n",
       "15              Database identifier used by Wikidata.  \n",
       "16                                                  -  \n",
       "17                                                  -  \n",
       "18                                                  -  \n",
       "19  Unique identifier for a gene (or other feature...  \n",
       "20  An agent, stimulus, activity, or event that ca...  \n",
       "21                                                  -  \n",
       "22  A chemical entity is any molecular entity or c...  \n",
       "23  Identifier used by the Chemical Abstracts Serv...  \n",
       "24  An identifier of a polypeptide in the UniProt ...  \n",
       "25                                                  -  \n",
       "26            A quality which inheres in a continuant  "
      ]
     },
     "execution_count": 99,
     "metadata": {},
     "output_type": "execute_result"
    }
   ],
   "source": [
    "\n",
    "df = pd.read_csv(filepath + 'typelabels.txt')\n",
    "df"
   ]
  },
  {
   "cell_type": "code",
   "execution_count": 100,
   "metadata": {},
   "outputs": [],
   "source": [
    "for row,index in df.iterrows():\n",
    "    g.write('\\n\\n'+index['URI']+'\\trdfs:label\\t\"'+index['label'])\n",
    "    if index['description'] != '-':\n",
    "        g.write('\";\\n\\tdc:description\\t\"\"\"'+index['description']+'\"\"\".')\n",
    "    else:\n",
    "        g.write('\".')\n"
   ]
  },
  {
   "cell_type": "markdown",
   "metadata": {},
   "source": [
    "Close the file."
   ]
  },
  {
   "cell_type": "code",
   "execution_count": 101,
   "metadata": {},
   "outputs": [
    {
     "name": "stdout",
     "output_type": "stream",
     "text": [
      "The AOP-Wiki RDF file is created!\n"
     ]
    }
   ],
   "source": [
    "g.close()\n",
    "print(\"The AOP-Wiki RDF file is created!\")"
   ]
  },
  {
   "cell_type": "markdown",
   "metadata": {},
   "source": [
    "## <b>Step #5: Gene ID text-mapping (HGNC)</b>\n",
    "In order to identify genes present in the textual descriptions of Key Events (KEs) and Key Event Relationships (KERs), HGNC identifier mapping was performed. [Genenames.org](https://www.genenames.org/) is the curated online repository for HGNC nomenclature, and it allows custom downloads for all HGNC entries, including approved symbols and names, previous symbols and synonyms. \n",
    "\n",
    "## Step #5A - Parsing the custom HGNC file\n",
    "This starts with loading the custom download file, which was named `HGNCgenes.txt` and stored in the path defined in Step #2. Next, its contents are extracted and stored in a dictionary called `genedict1`, while variants are created for every gene name and gene symbol for more effective mapping of genes. These variants are stored in `genedict2`, which is used for more effective mapping of genes in Step #5B. "
   ]
  },
  {
   "cell_type": "code",
   "execution_count": 102,
   "metadata": {},
   "outputs": [],
   "source": [
    "HGNCfilename = 'HGNCgenes.txt'"
   ]
  },
  {
   "cell_type": "code",
   "execution_count": 103,
   "metadata": {},
   "outputs": [
    {
     "name": "stdout",
     "output_type": "stream",
     "text": [
      "Last Modified Time :  Tue Aug 20 08:51:09 2024\n"
     ]
    }
   ],
   "source": [
    "fileStatsObj = os.stat (filepath + HGNCfilename)\n",
    "HGNCmodificationTime = time.ctime ( fileStatsObj [ stat.ST_MTIME ] )\n",
    "print(\"Last Modified Time : \", HGNCmodificationTime )"
   ]
  },
  {
   "cell_type": "code",
   "execution_count": 104,
   "metadata": {},
   "outputs": [
    {
     "name": "stdout",
     "output_type": "stream",
     "text": [
      "A total of 41893 genes are included for mappings\n"
     ]
    }
   ],
   "source": [
    "HGNCgenes = open(filepath + HGNCfilename, 'r')\n",
    "symbols = [' ','(',')','[',']',',','.']\n",
    "genedict1 = {}\n",
    "genedict2 = {}\n",
    "b = 0\n",
    "for line in HGNCgenes:\n",
    "    if not 'HGNC ID\tApproved symbol\tApproved name\tPrevious symbols\tSynonyms\tAccession numbers\tEnsembl ID(supplied by Ensembl)'in line:\n",
    "        a = line[:-1].split('\\t')\n",
    "        if not '@' in a[1]: #gene clusters contain a '@' in their symbol, which are filtered out\n",
    "            genedict1[a[1]] = []\n",
    "            genedict2[a[1]] = []\n",
    "            genedict1[a[1]].append(a[1])\n",
    "            if not a[2] == '':\n",
    "                genedict1[a[1]].append(a[2])\n",
    "            for item in a[3:]:\n",
    "                if not item == '':\n",
    "                    for name in item.split(', '):\n",
    "                        genedict1[a[1]].append(name)\n",
    "            for item in genedict1[a[1]]:\n",
    "                for s1 in symbols:\n",
    "                    for s2 in symbols:\n",
    "                        genedict2[a[1]].append((s1+item+s2))\n",
    "HGNCgenes.close()\n",
    "print(\"A total of \" + str(len(genedict2)) + \" genes are included for mappings\")"
   ]
  },
  {
   "cell_type": "markdown",
   "metadata": {},
   "source": [
    "## Step #5B - HGNC identifier mapping\n",
    "Genes are mapped for descriptions of KEs and KERs, and for the biological plausibility and emperical support sections of KERs. First, these are screened for any overlap with all possible gene symbols and names captured in genedict1. Then, all positive matches are checked by mapping with all variants of those genes, ensuring the correct mapping. All matches are stored in the kedict and kerdict dictionaries. Also, all mapped genes are stored in a list called hgnclist."
   ]
  },
  {
   "cell_type": "markdown",
   "metadata": {},
   "source": [
    "### Key Events"
   ]
  },
  {
   "cell_type": "code",
   "execution_count": 105,
   "metadata": {},
   "outputs": [
    {
     "name": "stdout",
     "output_type": "stream",
     "text": [
      "Gene mapping on Key Events is can take a minute...\n",
      "Done!\n",
      "In total, 943 genes were mapped to descriptions of Key Events\n"
     ]
    }
   ],
   "source": [
    "hgnclist = []\n",
    "keyhitcount = {}\n",
    "print(\"Gene mapping on Key Events is can take a minute...\")\n",
    "for ke in root.findall(aopxml + 'key-event'):\n",
    "    geneoverlapdict = {}\n",
    "    if ke.find(aopxml + 'description').text is not None:\n",
    "        geneoverlapdict[ke.get('id')] = []\n",
    "        for key in genedict2:\n",
    "            a = 0\n",
    "            for item in genedict1[key]:\n",
    "                if item in kedict[ke.get('id')]['dc:description']:\n",
    "                    a = 1\n",
    "            if a == 1:\n",
    "                for item in genedict2[key]:\n",
    "                    if item in kedict[ke.get('id')]['dc:description'] and not 'hgnc:' + genedict2[key][1][1:-1] in geneoverlapdict[ke.get('id')]:\n",
    "                        geneoverlapdict[ke.get('id')].append('hgnc:' + genedict2[key][1][1:-1])\n",
    "                        if 'hgnc:' + genedict2[key][1][1:-1] not in hgnclist:\n",
    "                            hgnclist.append('hgnc:' + genedict2[key][1][1:-1])\n",
    "                        if item in keyhitcount:\n",
    "                            keyhitcount[item] += 1\n",
    "                        else:\n",
    "                            keyhitcount[item] = 1\n",
    "                            \n",
    "        if not geneoverlapdict[ke.get('id')]:\n",
    "            del geneoverlapdict[ke.get('id')]\n",
    "    if ke.get('id') in geneoverlapdict:\n",
    "        kedict[ke.get('id')]['edam:data_1025'] = geneoverlapdict[ke.get('id')]\n",
    "print(\"Done!\\nIn total, \" + str(len(hgnclist))+ \" genes were mapped to descriptions of Key Events\")"
   ]
  },
  {
   "cell_type": "code",
   "execution_count": 106,
   "metadata": {},
   "outputs": [
    {
     "name": "stdout",
     "output_type": "stream",
     "text": [
      " ROS : 12 hits\n",
      " II : 41 hits\n",
      " B : 37 hits\n",
      "(ALP): 24 hits\n",
      "(ROS): 14 hits\n",
      " T3 : 11 hits\n",
      " TH : 18 hits\n",
      " G2 : 15 hits\n",
      " T : 35 hits\n",
      " AR : 12 hits\n",
      " E2 : 30 hits\n"
     ]
    }
   ],
   "source": [
    "for gene, count in keyhitcount.items():\n",
    "    if count > 10:\n",
    "        print(f\"{gene}: {count} hits\")"
   ]
  },
  {
   "cell_type": "markdown",
   "metadata": {},
   "source": [
    "### Key Event Relationships"
   ]
  },
  {
   "cell_type": "code",
   "execution_count": 107,
   "metadata": {},
   "outputs": [
    {
     "name": "stdout",
     "output_type": "stream",
     "text": [
      "Gene mapping on Key Events is can take a couple of minutes...\n",
      "Done!\n",
      "In total, 1549 genes were mapped to descriptions of Key Events and Key Event Relationships\n"
     ]
    }
   ],
   "source": [
    "print(\"Gene mapping on Key Events is can take a couple of minutes...\")\n",
    "for ker in root.findall(aopxml + 'key-event-relationship'):\n",
    "    geneoverlapdict = {}\n",
    "    geneoverlapdict[ker.get('id')] = []\n",
    "    if ker.find(aopxml + 'description').text is not None:\n",
    "        for key in genedict2:\n",
    "            a = 0\n",
    "            for item in genedict1[key]:\n",
    "                if item in kerdict[ker.get('id')]['dc:description']:\n",
    "                    a = 1\n",
    "            if a == 1:\n",
    "                for item in genedict2[key]:\n",
    "                    if item in kerdict[ker.get('id')]['dc:description'] and not 'hgnc:' + genedict2[key][1][1:-1] in geneoverlapdict[ker.get('id')]:\n",
    "                        geneoverlapdict[ker.get('id')].append('hgnc:' + genedict2[key][1][1:-1])\n",
    "                        if 'hgnc:' + genedict2[key][1][1:-1] not in hgnclist:\n",
    "                            hgnclist.append('hgnc:' + genedict2[key][1][1:-1])\n",
    "    for weight in ker.findall(aopxml + 'weight-of-evidence'):\n",
    "        if weight.find(aopxml + 'biological-plausibility').text is not None:\n",
    "            for key in genedict2:\n",
    "                a = 0\n",
    "                for item in genedict1[key]:\n",
    "                    if item in kerdict[ker.get('id')]['nci:C80263']:\n",
    "                        a = 1\n",
    "                if a== 1:\n",
    "                    for item in genedict2[key]:\n",
    "                        if item in kerdict[ker.get('id')]['nci:C80263'] and not 'hgnc:' + genedict2[key][1][1:-1] in geneoverlapdict[ker.get('id')]:\n",
    "                            geneoverlapdict[ker.get('id')].append('hgnc:' + genedict2[key][1][1:-1])\n",
    "                            if 'hgnc:' + genedict2[key][1][1:-1] not in hgnclist:\n",
    "                                hgnclist.append('hgnc:' + genedict2[key][1][1:-1])\n",
    "        if weight.find(aopxml + 'emperical-support-linkage').text is not None:\n",
    "            for key in genedict2:\n",
    "                a = 0\n",
    "                for item in genedict1[key]:\n",
    "                    if item in kerdict[ker.get('id')]['edam:data_2042']:\n",
    "                        a = 1\n",
    "                if a== 1:\n",
    "                    for item in genedict2[key]:\n",
    "                        if item in kerdict[ker.get('id')]['edam:data_2042'] and not 'hgnc:' + genedict2[key][1][1:-1] in geneoverlapdict[ker.get('id')]:\n",
    "                            geneoverlapdict[ker.get('id')].append('hgnc:' + genedict2[key][1][1:-1])\n",
    "                            if 'hgnc:' + genedict2[key][1][1:-1] not in hgnclist:\n",
    "                                hgnclist.append('hgnc:' + genedict2[key][1][1:-1])\n",
    "    if not geneoverlapdict[ker.get('id')]:\n",
    "        del geneoverlapdict[ker.get('id')]\n",
    "    if ker.get('id') in geneoverlapdict:\n",
    "        kerdict[ker.get('id')]['edam:data_1025'] = geneoverlapdict[ker.get('id')]\n",
    "print(\"Done!\\nIn total, \" + str(len(hgnclist))+ \" genes were mapped to descriptions of Key Events and Key Event Relationships\")"
   ]
  },
  {
   "cell_type": "markdown",
   "metadata": {},
   "source": [
    "## Step #5C - Identifier mapping for other databases\n",
    "BridgeDb was used to additional identifiers from other databases, including Entrez gene, Ensembl, and UniProt IDs. By a request call, identifiers are returned, which are stored in the dictionary called `geneiddict`. The BridgeDb service URL has already been defined in Step #3."
   ]
  },
  {
   "cell_type": "code",
   "execution_count": 108,
   "metadata": {},
   "outputs": [
    {
     "name": "stdout",
     "output_type": "stream",
     "text": [
      "Gene identifiers mapped:\n",
      "1523 Entrez gene IDs\n",
      "7599 Uniprot IDs\n",
      "1521 Ensembl IDs\n"
     ]
    }
   ],
   "source": [
    "geneiddict = {}\n",
    "listofentrez = []\n",
    "listofensembl = []\n",
    "listofuniprot = []\n",
    "\n",
    "for gene in hgnclist:\n",
    "    a = requests.get(bridgedb + 'xrefs/H/' + gene[5:]).text.split('\\n')\n",
    "    dictionaryforgene = {}\n",
    "    if 'html' not in a:\n",
    "        for item in a:\n",
    "            b = item.split('\\t')\n",
    "            if len(b) == 2:\n",
    "                if b[1] not in dictionaryforgene:\n",
    "                    dictionaryforgene[b[1]] = []\n",
    "                    dictionaryforgene[b[1]].append(b[0])\n",
    "                else:\n",
    "                    dictionaryforgene[b[1]].append(b[0])\n",
    "    geneiddict[gene] = []\n",
    "    if 'Entrez Gene' in dictionaryforgene:\n",
    "        for entrez in dictionaryforgene['Entrez Gene']:\n",
    "            if 'ncbigene:'+entrez not in listofentrez:\n",
    "                listofentrez.append(\"ncbigene:\"+entrez)\n",
    "            geneiddict[gene].append(\"ncbigene:\"+entrez)\n",
    "    if 'Ensembl' in dictionaryforgene:\n",
    "        for ensembl in dictionaryforgene['Ensembl']:\n",
    "            if 'ensembl:' + ensembl not in listofensembl:\n",
    "                listofensembl.append(\"ensembl:\"+ensembl)\n",
    "            geneiddict[gene].append(\"ensembl:\"+ensembl)\n",
    "    if 'Uniprot-TrEMBL' in dictionaryforgene:\n",
    "        for uniprot in dictionaryforgene['Uniprot-TrEMBL']:\n",
    "            if 'uniprot:'+uniprot not in listofuniprot:\n",
    "                listofuniprot.append(\"uniprot:\"+uniprot)\n",
    "            geneiddict[gene].append(\"uniprot:\"+uniprot)\n",
    "print(\"Gene identifiers mapped:\\n\" + str(len(listofentrez)) + \" Entrez gene IDs\\n\" + str(len(listofuniprot)) + \" Uniprot IDs\\n\" + str(len(listofensembl)) + \" Ensembl IDs\")"
   ]
  },
  {
   "cell_type": "markdown",
   "metadata": {},
   "source": [
    "## Step #5D - Writing output file\n",
    "The final step involves the writing of the RDF file in Turtle syntax. After writing the prefixes used for predicates and identifier types, all gene mapping links stored in the kedict and kerdict are written, followed by the HGNC IDs and matched IDs for other databases."
   ]
  },
  {
   "cell_type": "code",
   "execution_count": 109,
   "metadata": {},
   "outputs": [],
   "source": [
    "g = open(filepath + 'AOPWikiRDF-Genes.ttl', 'w', encoding='utf-8')"
   ]
  },
  {
   "cell_type": "markdown",
   "metadata": {},
   "source": [
    "### Writing prefixes"
   ]
  },
  {
   "cell_type": "code",
   "execution_count": 110,
   "metadata": {},
   "outputs": [
    {
     "data": {
      "text/plain": [
       "595"
      ]
     },
     "execution_count": 110,
     "metadata": {},
     "output_type": "execute_result"
    }
   ],
   "source": [
    "g.write('@prefix dc: <http://purl.org/dc/elements/1.1/> .\\n@prefix rdfs: <http://www.w3.org/2000/01/rdf-schema#> .\\n@prefix aop.events: <https://identifiers.org/aop.events/> .\\n@prefix aop.relationships: <https://identifiers.org/aop.relationships/> .\\n@prefix skos: <http://www.w3.org/2004/02/skos/core#> . \\n@prefix ensembl: <https://identifiers.org/ensembl/> .\\n@prefix edam: <http://edamontology.org/> .\\n@prefix hgnc: <https://identifiers.org/hgnc/>.\\n@prefix ncbigene: <https://identifiers.org/ncbigene/>.\\n@prefix uniprot: <https://identifiers.org/uniprot/>.\\n@prefix owl: <http://www.w3.org/2002/07/owl#>.\\n\\n')"
   ]
  },
  {
   "cell_type": "markdown",
   "metadata": {},
   "source": [
    "### Writing Key Event triples\n",
    "These triples only contain the mappings with genes."
   ]
  },
  {
   "cell_type": "code",
   "execution_count": 111,
   "metadata": {},
   "outputs": [
    {
     "name": "stdout",
     "output_type": "stream",
     "text": [
      "Done!\n",
      "\n",
      "Number of Key Events with genes mapped to their descriptions: 381\n"
     ]
    }
   ],
   "source": [
    "n = 0\n",
    "for ke in kedict:\n",
    "    if 'edam:data_1025' in kedict[ke]:\n",
    "        n += 1\n",
    "        g.write(kedict[ke]['dc:identifier']+'\\tedam:data_1025\\t' + ','.join(kedict[ke]['edam:data_1025'])+' .\\n\\n')\n",
    "print(\"Done!\\n\\nNumber of Key Events with genes mapped to their descriptions: \" + str(n))"
   ]
  },
  {
   "cell_type": "markdown",
   "metadata": {},
   "source": [
    "### Writing Key Event Relationship triples\n",
    "These triples only contain the mappings with genes."
   ]
  },
  {
   "cell_type": "code",
   "execution_count": 112,
   "metadata": {},
   "outputs": [
    {
     "name": "stdout",
     "output_type": "stream",
     "text": [
      "Done!\n",
      "\n",
      "Number of Key Event Relationships with genes mapped to their descriptions: 591\n"
     ]
    }
   ],
   "source": [
    "n = 0\n",
    "for ker in kerdict:\n",
    "    if 'edam:data_1025' in kerdict[ker]:\n",
    "        n += 1\n",
    "        g.write(kerdict[ker]['dc:identifier']+'\\tedam:data_1025\\t' + ','.join(kerdict[ker]['edam:data_1025'])+' .\\n\\n')\n",
    "print(\"Done!\\n\\nNumber of Key Event Relationships with genes mapped to their descriptions: \" + str(n))"
   ]
  },
  {
   "cell_type": "markdown",
   "metadata": {},
   "source": [
    "### Writing Gene identifier triples"
   ]
  },
  {
   "cell_type": "code",
   "execution_count": 113,
   "metadata": {},
   "outputs": [
    {
     "name": "stdout",
     "output_type": "stream",
     "text": [
      "1549 HGNC triples written.\n",
      "1523 Entrez gene triples written.\n",
      "1521 Ensembl triples written.\n",
      "7599 UniProt triples written.\n",
      "Done!\n"
     ]
    }
   ],
   "source": [
    "for hgnc in hgnclist:\n",
    "    g.write(hgnc + '\\ta\\tedam:data_2298, edam:data_1025 ;\\n\\tedam:data_2298\\t\"'+hgnc[5:]+'\";\\n\\tdc:identifier\\t\"'+hgnc+'\";\\n\\tdc:source\\t\"HGNC\"')\n",
    "    if not geneiddict[hgnc] == []:\n",
    "        g.write(' ;\\n\\tskos:exactMatch\\t'+','.join(geneiddict[hgnc]))\n",
    "    g.write('.\\n\\n')\n",
    "print(str(len(hgnclist))+\" HGNC triples written.\")\n",
    "for entrez in listofentrez:\n",
    "    g.write(entrez + '\\ta\\tedam:data_1027, edam:data_1025 ;\\n\\tedam:data_1027\\t\"'+entrez[9:]+'\";\\n\\tdc:identifier\\t\"'+entrez+'\";\\n\\tdc:source\\t\"Entrez Gene\".\\n\\n')\n",
    "print(str(len(listofentrez))+\" Entrez gene triples written.\")\n",
    "for ensembl in listofensembl:\n",
    "    g.write(ensembl + '\\ta\\tedam:data_1033, edam:data_1025 ;\\n\\tedam:data_1033\\t\"'+ensembl[8:]+'\";\\n\\tdc:identifier\\t\"'+ensembl+'\";\\n\\tdc:source\\t\"Ensembl\".\\n\\n')\n",
    "print(str(len(listofensembl))+ \" Ensembl triples written.\")\n",
    "for uniprot in listofuniprot:\n",
    "    g.write(uniprot + '\\ta\\tedam:data_2291, edam:data_1025 ;\\n\\tedam:data_2291\\t\"'+uniprot[8:]+'\";\\n\\tdc:identifier\\t\"'+uniprot+'\";\\n\\tdc:source\\t\"UniProt\".\\n\\n')\n",
    "print(str(len(listofuniprot))+ \" UniProt triples written.\\nDone!\")"
   ]
  },
  {
   "cell_type": "markdown",
   "metadata": {},
   "source": [
    "Close the file."
   ]
  },
  {
   "cell_type": "code",
   "execution_count": 114,
   "metadata": {},
   "outputs": [
    {
     "name": "stdout",
     "output_type": "stream",
     "text": [
      "The AOP-Wiki RDF Genes file is created!\n"
     ]
    }
   ],
   "source": [
    "g.close()\n",
    "print(\"The AOP-Wiki RDF Genes file is created!\")"
   ]
  },
  {
   "cell_type": "markdown",
   "metadata": {},
   "source": [
    "## <b>Step #6: Creating the VoID file</b>\n",
    "The last file contains the metadata of the original data, script, and tools used for the creation of the AOP-Wiki RDF files. "
   ]
  },
  {
   "cell_type": "code",
   "execution_count": 115,
   "metadata": {},
   "outputs": [
    {
     "name": "stdout",
     "output_type": "stream",
     "text": [
      "The version of the BridgeDb mapping files: \n",
      " Gene/Proteins: Ensembl:108\n",
      " Chemicals: HMDB-CHEBI-WIKIDATA:HMDB5.0.20211102-CHEBI211-WIKIDATA20220707\n"
     ]
    }
   ],
   "source": [
    "a = requests.get(bridgedb + 'properties').text.split('\\n')\n",
    "info = {}\n",
    "for item in a:\n",
    "    if not item.split('\\t')[0] in info:\n",
    "        info[item.split('\\t')[0]] = []\n",
    "    if len(item.split('\\t')) == 2:\n",
    "        info[item.split('\\t')[0]].append(item.split('\\t')[1])\n",
    "print('The version of the BridgeDb mapping files: \\n Gene/Proteins: '\n",
    "      + str(info['DATASOURCENAME'][0]) + ':' + str(info['DATASOURCEVERSION'][0]) + '\\n Chemicals: '\n",
    "      + str(info['DATASOURCENAME'][5]) + ':' + str(info['DATASOURCEVERSION'][5]))"
   ]
  },
  {
   "cell_type": "code",
   "execution_count": 116,
   "metadata": {},
   "outputs": [
    {
     "name": "stdout",
     "output_type": "stream",
     "text": [
      "The date: 2025-02-11 14:46:20.225426\n"
     ]
    }
   ],
   "source": [
    "x = datetime.datetime.now()\n",
    "print('The date: ' + str(x))\n",
    "y = str(x)\n",
    "y = y[:10]"
   ]
  },
  {
   "cell_type": "code",
   "execution_count": 117,
   "metadata": {},
   "outputs": [
    {
     "name": "stdout",
     "output_type": "stream",
     "text": [
      "The VoID file is created!\n"
     ]
    }
   ],
   "source": [
    "g = open(filepath + 'AOPWikiRDF-Void.ttl', 'w', encoding='utf-8')\n",
    "g.write('@prefix : <https://aopwiki.rdf.bigcat-bioinformatics.org/> .\\n@prefix dc: <http://purl.org/dc/elements/1.1/> .\\n@prefix dcterms: <http://purl.org/dc/terms/> .\\n@prefix void:  <http://rdfs.org/ns/void#> .\\n@prefix pav:   <http://purl.org/pav/> .\\n@prefix rdfs:  <http://www.w3.org/2000/01/rdf-schema#> .\\n@prefix dcat:  <http://www.w3.org/ns/dcat#> .\\n@prefix foaf:  <http://xmlns.com/foaf/0.1/> .\\n@prefix xsd: <http://www.w3.org/2001/XMLSchema#> .\\n@prefix freq:  <http://purl.org/cld/freq/> .')\n",
    "g.write('\\n:AOPWikiRDF.ttl\\ta\\tvoid:Dataset ;\\n\\tdc:description\\t\"AOP-Wiki RDF data from the AOP-Wiki database\" ;\\n\\tpav:createdOn\\t\"' + y + '\"^^xsd:date;\\n\\tdcterms:modified\\t\"' + y +'\"^^xsd:date ;\\n\\tpav:createdWith\\t\"' + str(aopwikixmlfilename) + '\", :Promapping ;\\n\\tpav:createdBy\\t<https://zenodo.org/badge/latestdoi/146466058> ;\\n\\tfoaf:homepage\\t<https://aopwiki.org> ;\\n\\tdcterms:accuralPeriodicity  freq:quarterly ;\\n\\tdcat:downloadURL\\t<https://aopwiki.org/downloads/' + str(aopwikixmlfilename) + '> .\\n\\n:AOPWikiRDF-Genes.ttl\\ta\\tvoid:Dataset ;\\n\\tdc:description\\t\"AOP-Wiki RDF extension with gene mappings based on approved names and symbols\" ;\\n\\tpav:createdOn\\t\"' + str(x) + '\" ;\\n\\tpav:createdWith\\t\"' + str(aopwikixmlfilename) + '\", :HGNCgenes ;\\n\\tpav:createdBy\\t<https://zenodo.org/badge/latestdoi/146466058> ;\\n\\tdcterms:accuralPeriodicity  freq:quarterly ;\\n\\tfoaf:homepage\\t<https://aopwiki.org> ;\\n\\tdcat:downloadURL\\t<https://aopwiki.org/downloads/' + str(aopwikixmlfilename) + '>, <https://www.genenames.org/download/custom/> . \\n\\n:HGNCgenes.txt\\ta\\tvoid:Dataset, void:Linkset ;\\n\\tdc:description\\t\"HGNC approved symbols and names for genes\" ;\\n\\tdcat:downloadURL\\t<https://www.genenames.org/download/custom/> ;\\n\\tpav:importedOn\\t\"'+HGNCmodificationTime+'\" .\\n\\n<https://proconsortium.org/download/current/promapping.txt>\\ta\\tvoid:Dataset, void:Linkset;\\n\\tdc:description\\t\"PRotein ontology mappings to protein database identifiers\";\\n\\tdcat:downloadURL\\t<https://proconsortium.org/download/current/promapping.txt>;\\n\\tpav:importedOn\\t\"'+PromodificationTime+'\".')\n",
    "g.close()\n",
    "print(\"The VoID file is created!\")"
   ]
  }
 ],
 "metadata": {
  "kernelspec": {
   "display_name": "base",
   "language": "python",
   "name": "python3"
  },
  "language_info": {
   "codemirror_mode": {
    "name": "ipython",
    "version": 3
   },
   "file_extension": ".py",
   "mimetype": "text/x-python",
   "name": "python",
   "nbconvert_exporter": "python",
   "pygments_lexer": "ipython3",
   "version": "3.12.4"
  }
 },
 "nbformat": 4,
 "nbformat_minor": 4
}
